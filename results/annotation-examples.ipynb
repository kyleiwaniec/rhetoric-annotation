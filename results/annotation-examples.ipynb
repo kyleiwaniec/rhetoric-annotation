{
 "cells": [
  {
   "cell_type": "code",
   "execution_count": null,
   "id": "1c46af95-b062-4da1-9138-1afce1cb0316",
   "metadata": {},
   "outputs": [],
   "source": [
    "techniques = ['Appeal_to_Authority',\n",
    "             'Appeal_to_fear-prejudice',\n",
    "             'Bandwagon',\n",
    "             'Black-and-White_Fallacy',\n",
    "             'Causal_Oversimplification',\n",
    "             'Doubt',\n",
    "             'Exaggeration,Minimisation',\n",
    "             'Flag-Waving',\n",
    "             'Loaded_Language',\n",
    "             'Name_Calling,Labeling',\n",
    "             'Obfuscation,Intentional_Vagueness,Confusion',\n",
    "             'Red_Herring',\n",
    "             'Reductio_ad_hitlerum',\n",
    "             'Repetition',\n",
    "             'Slogans',\n",
    "             'Straw_Men',\n",
    "             'Thought-terminating_Cliches',\n",
    "             'Whataboutism',\n",
    "             'Not_Propaganda']"
   ]
  },
  {
   "cell_type": "raw",
   "id": "f4a01d86-7bcf-488a-ab02-afc8be5ed265",
   "metadata": {},
   "source": [
    "SELECT id FROM ebdb.PTC where technique_classification='[0]';\n",
    "\n",
    "\n",
    "SELECT PTC_id, text, feature, GROUP_CONCAT(property) as properties\n",
    "FROM ebdb.PTC_annotations\n",
    "join ebdb.PTC as p on p.id=PTC_id\n",
    "WHERE answer='yes' and PTC_id in (798, 1632, 1652, 1653, 2977, 3325, 4671, 4696, 4697, 5086, 5866, 5952, 6022, 6289, 6314, 6775, 7092, 7131, 7136, 7317, 7318, 7321, 7322, 7667, 7883, 7896, 7952, 8114, 8410, 8598, 8903, 9159, 9187, 9228, 9484, 9485, 9486, 9627, 9805, 9844, 9909, 10166, 10355, 10977, 11555, 11852, 12838, 12883, 13063, 13670, 13889, 14036, 14168, 14657, 15039, 15123, 15462, 15583, 15636, 15855, 16016, 16482, 16488, 16600, 16873, 16992, 17725, 17743, 18106, 18123, 18433, 18576, 19051, 19407, 19505, 19513, 19752, 20063, 20139)\n",
    "GROUP BY PTC_id, feature;"
   ]
  },
  {
   "cell_type": "code",
   "execution_count": 5,
   "id": "4bc271da-99fb-4e9e-b19e-68655d276e19",
   "metadata": {},
   "outputs": [],
   "source": [
    "import pandas as pd\n",
    "import numpy as np\n",
    "import utils"
   ]
  },
  {
   "cell_type": "code",
   "execution_count": 28,
   "id": "2aa3334d-478d-4354-9b2e-990f07017115",
   "metadata": {},
   "outputs": [
    {
     "name": "stderr",
     "output_type": "stream",
     "text": [
      "/Users/kylehamilton/opt/anaconda3/envs/annotation/lib/python3.9/site-packages/pandas/io/sql.py:762: UserWarning: pandas only support SQLAlchemy connectable(engine/connection) ordatabase string URI or sqlite3 DBAPI2 connectionother DBAPI2 objects are not tested, please consider using SQLAlchemy\n",
      "  warnings.warn(\n"
     ]
    }
   ],
   "source": [
    "conn = utils.connectDB()\n",
    "query = \"\"\"SELECT id FROM ebdb.PTC where technique_classification='[8]'\"\"\"\n",
    "\n",
    "ids = pd.read_sql(query, conn)\n",
    "ids = list(ids['id'])"
   ]
  },
  {
   "cell_type": "code",
   "execution_count": 2,
   "id": "2d05dc83-1262-47db-ad6f-1e152dbbe6b2",
   "metadata": {
    "tags": []
   },
   "outputs": [],
   "source": [
    "TP_ids = [16486, 16490, 16491, 16493, 16501, 16511, 16515, 16519, 16520, 16522, 16523, 16526, 16551, 16562, 16563, \n",
    "          16569, 16572, 16576, 16610, 16614, 16635, 16640, 16644, 16647, 16656, 16657, 16667, 16670, 16675, 16684, \n",
    "          16686, 16705, 16708, 16709, 16710, 16711, 16723, 16725, 16767, 16781, 16799, 16802, 16803, 16806, 16807, \n",
    "          16808, 16812, 16813, 16840, 16841, 16842, 16849, 16853, 16854, 16855, 16856, 16859, 16864, 16866, 16867, \n",
    "          16869, 16873, 16874, 16877, 16881, 16886, 16887, 16889, 16892, 16895, 16899, 16909, 16919, 16924, 16931, \n",
    "          16933, 16935, 16936, 16950, 16951, 16952, 16953, 16959, 16960, 16962, 16964, 16965, 16970, 16978, 16979, \n",
    "          16980, 16981, 16982, 16983, 16985, 16986, 16988, 16999, 17005, 17014, 17015, 17034, 17039, 17047, 17048, \n",
    "          17050, 17051, 17052, 17055, 17056, 17069, 17077, 17106, 17112, 17118, 17153, 17162, 17166, 17171, 17185, \n",
    "          17190, 17206, 17207, 17209, 17211, 17212, 17221, 17227, 17229, 17230, 17231, 17236, 17238, 17277, 17279, \n",
    "          17302, 17305, 17306, 17320, 17321, 17330, 17333, 17345, 17352, 17357, 17362, 17414, 17418, 17443, 17450, \n",
    "          17459, 17467, 17468, 17470, 17488, 17494, 17505, 17510, 17516, 17518, 17519, 17520, 17526, 17544, 17548, \n",
    "          17552, 17554, 17556, 17569, 17570, 17571, 17575, 17578, 17606, 17609, 17615, 17616, 17617, 17626, 17628, \n",
    "          17638, 17645, 17649, 17650, 17652, 17664, 17668, 17673, 17682, 17697, 17720, 17732, 17738, 17747, 17750, \n",
    "          17751, 17755, 17763, 17766, 17776, 17793, 17801, 17802, 17811, 17847, 17848, 17868, 17879, 17880, 17883, \n",
    "          17884, 17896, 17902, 17953, 17960, 17962, 17965, 17966, 17977, 17979, 17983, 17984, 17996, 18005, 18014, \n",
    "          18015, 18016, 18017, 18018, 18022, 18032, 18046, 18056, 18082, 18092, 18098, 18120, 18123, 18125, 18126, \n",
    "          18132, 18136, 18145, 18171, 18177, 18187, 18188, 18190, 18195, 18207, 18216, 18217, 18219, 18222, 18225, \n",
    "          18226, 18227, 18229, 18231, 18233, 18235, 18239, 18245, 18247, 18258, 18262, 18266, 18267, 18268, 18270, \n",
    "          18279, 18288, 18290, 18291, 18300, 18309, 18311, 18321, 18337, 18349, 18357, 18363, 18367, 18373, 18374, \n",
    "          18390, 18398, 18399, 18402, 18417, 18422, 18424, 18426, 18427, 18428, 18433, 18435, 18457, 18461, 18463, \n",
    "          18464, 18468, 18474, 18481, 18483, 18493, 18496, 18522, 18523, 18524, 18527, 18534, 18538, 18541, 18545, \n",
    "          18557, 18559, 18561, 18562, 18564, 18568, 18576, 18577, 18578, 18579, 18581, 18584, 18585, 18592, 18603, \n",
    "          18619, 18628, 18633, 18634, 18637, 18638, 18651, 18652, 18658, 18664, 18668, 18674, 18681, 18683, 18684, \n",
    "          18703, 18705, 18706, 18707, 18711, 18721, 18729, 18730, 18732, 18733, 18734, 18739, 18741, 18743, 18791, \n",
    "          18796, 18798, 18804, 18830, 18832, 18833, 18834, 18837, 18838, 18856, 18864, 18867, 18871, 18887, 18907, \n",
    "          18910, 18911, 18912, 18914, 18924, 18926, 18927, 18928, 18931, 18934, 18936, 18946, 18949, 18951, 18953, \n",
    "          18955, 18956, 18957, 18958, 18960, 18997, 19001, 19014, 19019, 19021, 19022, 19024, 19051, 19058, 19061, \n",
    "          19062, 19074, 19075, 19079, 19080, 19081, 19100, 19105, 19107, 19112, 19116, 19123, 19124, 19125, 19129, \n",
    "          19132, 19146, 19147, 19148, 19149, 19151, 19152, 19153, 19154, 19157, 19159, 19160, 19161, 19163, 19164, \n",
    "          19172, 19173, 19175, 19184, 19185, 19187, 19189, 19201, 19202, 19206, 19207, 19208, 19209, 19212, 19213, \n",
    "          19221, 19225, 19226, 19228, 19229, 19237, 19240, 19241, 19243, 19244, 19249, 19250, 19251, 19254, 19255, \n",
    "          19257, 19283, 19295, 19297, 19298, 19299, 19358, 19385, 19388, 19400, 19402, 19404, 19406, 19419, 19444, \n",
    "          19445, 19446, 19453, 19457, 19458, 19478, 19486, 19491, 19493, 19495, 19497, 19503, 19512, 19515, 19517, \n",
    "          19520, 19524, 19525, 19544, 19567, 19588, 19589, 19591, 19596, 19599, 19603, 19604, 19620, 19621, 19622, \n",
    "          19629, 19630, 19635, 19639, 19644, 19650, 19674, 19679, 19680, 19691, 19700, 19713, 19722, 19728, 19730, \n",
    "          19731, 19735, 19738, 19741, 19748, 19753, 19754, 19756, 19757, 19759, 19803, 19805, 19806, 19816, 19818, \n",
    "          19844, 19853, 19854, 19856, 19857, 19861, 19887, 19897, 19899, 19915, 19918, 19922, 19923, 19931, 19937, \n",
    "          19939, 19941, 19945, 19947, 19948, 19961, 19966, 19967, 19968, 19970, 19972, 19973, 19974, 19975, 19977, \n",
    "          19978, 19982, 19983, 19984, 19985, 19986, 20001, 20003, 20005, 20006, 20014, 20018, 20019, 20034, 20035, \n",
    "          20037, 20057, 20060, 20061, 20062, 20063, 20099, 20105, 20107, 20119, 20122, 20126, 20127, 20128, 20140, \n",
    "          20148, 20150, 20155, 20174, 20175, 20219, 20234, 20243, 20258, 20267, 20278, 20284, 20310, 20344, 20378, \n",
    "          20379, 20398, 20400, 20404, 20405, 20419, 20427, 20428, 20430, 20431, 20432, 20437, 20448, 20452, 20453, \n",
    "          20462, 20464, 20493, 20506, 20510, 20511, 20513, 20516, 20518, 20522, 20529, 20536, 20537, 20539, 20540, \n",
    "          20541, 20542, 20544, 20545, 20546, 20547, 20554, 20555]"
   ]
  },
  {
   "cell_type": "code",
   "execution_count": 20,
   "id": "6c15be34-fd47-41bc-8b71-3897e3275f00",
   "metadata": {
    "tags": []
   },
   "outputs": [],
   "source": [
    "FP_ids = [16487, 16495, 16502, 16503, 16514, 16524, 16527, 16528, 16531, 16533, 16535, 16537, 16545, 16549, 16552, 16556, 16557, 16558, 16560, 16564, 16577, 16582, 16584, 16604, 16605, \n",
    "          16629, 16631, 16639, 16642, 16646, 16648, 16649, 16651, 16655, 16658, 16661, 16663, 16759, 16814, 16815, 16825, 16831, 16848, 16850, 16851, 16852, 16862, 16863, 16865, 16870, \n",
    "          16872, 16882, 16883, 16884, 16888, 16894, 16908, 16922, 16930, 16934, 16937, 16943, 16944, 16947, 16956, 16957, 16958, 16969, 16996, 16998, 17001, 17002, 17019, 17032, 17038, \n",
    "          17044, 17113, 17115, 17119, 17124, 17125, 17126, 17138, 17141, 17142, 17146, 17148, 17149, 17158, 17159, 17163, 17168, 17186, 17213, 17243, 17271, 17290, 17294, 17298, 17307, \n",
    "          17326, 17331, 17332, 17335, 17337, 17338, 17339, 17350, 17353, 17354, 17356, 17358, 17359, 17361, 17402, 17405, 17407, 17408, 17411, 17412, 17413, 17415, 17419, 17420, 17422, \n",
    "          17423, 17426, 17427, 17434, 17491, 17507, 17511, 17512, 17522, 17524, 17528, 17530, 17531, 17534, 17547, 17551, 17555, 17557, 17560, 17561, 17601, 17620, 17633, 17634, 17635, \n",
    "          17636, 17669, 17671, 17672, 17683, 17691, 17724, 17746, 17753, 17754, 17758, 17760, 17761, 17762, 17765, 17773, 17774, 17775, 17795, 17796, 17798, 17799, 17800, 17815, 17821, \n",
    "          17845, 17863, 17864, 17871, 17876, 17894, 17939, 17963, 17982, 17985, 17997, 18004, 18010, 18011, 18048, 18054, 18059, 18089, 18099, 18101, 18113, 18122, 18124, 18150, 18165, \n",
    "          18176, 18182, 18186, 18189, 18196, 18209, 18211, 18213, 18214, 18240, 18246, 18282, 18283, 18292, 18320, 18322, 18324, 18329, 18338, 18348, 18356, 18362, 18389, 18425, 18436, \n",
    "          18442, 18451, 18452, 18455, 18467, 18475, 18476, 18479, 18482, 18488, 18495, 18502, 18503, 18513, 18520, 18526, 18528, 18530, 18531, 18537, 18540, 18543, 18544, 18553, 18555, \n",
    "          18556, 18558, 18565, 18569, 18571, 18572, 18573, 18574, 18591, 18593, 18595, 18596, 18599, 18604, 18609, 18614, 18620, 18622, 18625, 18627, 18629, 18631, 18635, 18645, 18648, \n",
    "          18649, 18654, 18657, 18661, 18670, 18698, 18699, 18700, 18713, 18737, 18762, 18769, 18778, 18784, 18790, 18795, 18800, 18802, 18803, 18879, 18900, 18901, 18904, 18906, 18913, \n",
    "          18919, 18921, 18922, 18940, 18945, 18950, 18952, 18975, 18995, 18996, 18998, 19000, 19031, 19033, 19037, 19059, 19060, 19063, 19077, 19083, 19084, 19085, 19101, 19106, 19108, \n",
    "          19109, 19110, 19111, 19113, 19117, 19133, 19135, 19137, 19138, 19143, 19145, 19150, 19156, 19158, 19162, 19167, 19169, 19170, 19179, 19180, 19182, 19183, 19186, 19210, 19211, \n",
    "          19218, 19220, 19222, 19223, 19224, 19233, 19236, 19239, 19245, 19246, 19247, 19252, 19256, 19273, 19274, 19277, 19282, 19287, 19293, 19294, 19340, 19401, 19408, 19447, 19448, \n",
    "          19498, 19500, 19501, 19504, 19507, 19585, 19628, 19637, 19652, 19660, 19672, 19685, 19696, 19711, 19714, 19717, 19723, 19724, 19725, 19733, 19737, 19742, 19790, 19792, 19799, \n",
    "          19833, 19840, 19876, 19886, 19890, 19898, 19900, 19906, 19925, 19928, 19929, 19934, 19936, 19944, 20002, 20007, 20008, 20041, 20042, 20047, 20052, 20053, 20086, 20100, 20106, \n",
    "          20123, 20124, 20143, 20146, 20147, 20184, 20197, 20201, 20204, 20207, 20208, 20220, 20222, 20248, 20254, 20255, 20256, 20271, 20281, 20286, 20293, 20307, 20322, 20347, 20371, \n",
    "          20390, 20421, 20442, 20443, 20454, 20467, 20514, 20515, 20556]\n"
   ]
  },
  {
   "cell_type": "code",
   "execution_count": 29,
   "id": "0bb0c8af-bf70-496d-bed8-116fd31216d9",
   "metadata": {
    "tags": []
   },
   "outputs": [],
   "source": [
    "conn = utils.connectDB()\n",
    "\n",
    "# query = f\"\"\"SELECT PTC_id, text, feature, GROUP_CONCAT(property) as properties\n",
    "# FROM ebdb.PTC_annotations\n",
    "# join ebdb.PTC as p on p.id=PTC_id\n",
    "# WHERE answer='yes' and PTC_id in {tuple(FP_ids)}\n",
    "# GROUP BY PTC_id, feature;\"\"\"\n",
    "\n",
    "query = f\"\"\"SELECT PTC_id, text, feature, GROUP_CONCAT(property) as properties\n",
    "FROM ebdb.PTC_annotations\n",
    "join ebdb.PTC as p on p.id=PTC_id\n",
    "WHERE answer='yes'\n",
    "GROUP BY PTC_id, feature;\"\"\""
   ]
  },
  {
   "cell_type": "code",
   "execution_count": 30,
   "id": "b4212dd7-606b-4164-aee7-21abf96ab27e",
   "metadata": {},
   "outputs": [
    {
     "name": "stderr",
     "output_type": "stream",
     "text": [
      "/var/folders/vt/g1t9ds3s01z05zs4qg2dngk80000gn/T/ipykernel_59727/1168034203.py:1: UserWarning: pandas only supports SQLAlchemy connectable (engine/connection) or database string URI or sqlite3 DBAPI2 connection. Other DBAPI2 objects are not tested. Please consider using SQLAlchemy.\n",
      "  df = pd.read_sql(query, conn)\n"
     ]
    }
   ],
   "source": [
    "df = pd.read_sql(query, conn)"
   ]
  },
  {
   "cell_type": "code",
   "execution_count": 45,
   "id": "4415f842-d36b-4010-8f6f-5e7f33c3fb79",
   "metadata": {},
   "outputs": [
    {
     "data": {
      "text/html": [
       "<div>\n",
       "<style scoped>\n",
       "    .dataframe tbody tr th:only-of-type {\n",
       "        vertical-align: middle;\n",
       "    }\n",
       "\n",
       "    .dataframe tbody tr th {\n",
       "        vertical-align: top;\n",
       "    }\n",
       "\n",
       "    .dataframe thead th {\n",
       "        text-align: right;\n",
       "    }\n",
       "</style>\n",
       "<table border=\"1\" class=\"dataframe\">\n",
       "  <thead>\n",
       "    <tr style=\"text-align: right;\">\n",
       "      <th></th>\n",
       "      <th>PTC_id</th>\n",
       "      <th>text</th>\n",
       "      <th>feature</th>\n",
       "      <th>properties</th>\n",
       "    </tr>\n",
       "  </thead>\n",
       "  <tbody>\n",
       "    <tr>\n",
       "      <th>129734</th>\n",
       "      <td>17011</td>\n",
       "      <td>Still, the delay prompted critics to speculate...</td>\n",
       "      <td>Aspect</td>\n",
       "      <td>simple</td>\n",
       "    </tr>\n",
       "    <tr>\n",
       "      <th>129735</th>\n",
       "      <td>17011</td>\n",
       "      <td>Still, the delay prompted critics to speculate...</td>\n",
       "      <td>Language varieties</td>\n",
       "      <td>clarity,middle,correctness</td>\n",
       "    </tr>\n",
       "    <tr>\n",
       "      <th>129736</th>\n",
       "      <td>17011</td>\n",
       "      <td>Still, the delay prompted critics to speculate...</td>\n",
       "      <td>Lexical and semantic fields</td>\n",
       "      <td>abstract,indefinite/thesis,definite/hypothesis</td>\n",
       "    </tr>\n",
       "    <tr>\n",
       "      <th>129737</th>\n",
       "      <td>17011</td>\n",
       "      <td>Still, the delay prompted critics to speculate...</td>\n",
       "      <td>Modifying clauses</td>\n",
       "      <td>noun</td>\n",
       "    </tr>\n",
       "    <tr>\n",
       "      <th>129738</th>\n",
       "      <td>17011</td>\n",
       "      <td>Still, the delay prompted critics to speculate...</td>\n",
       "      <td>Mood</td>\n",
       "      <td>indicative</td>\n",
       "    </tr>\n",
       "    <tr>\n",
       "      <th>129739</th>\n",
       "      <td>17011</td>\n",
       "      <td>Still, the delay prompted critics to speculate...</td>\n",
       "      <td>Predication</td>\n",
       "      <td>stative,active</td>\n",
       "    </tr>\n",
       "    <tr>\n",
       "      <th>129740</th>\n",
       "      <td>17011</td>\n",
       "      <td>Still, the delay prompted critics to speculate...</td>\n",
       "      <td>Subject choices</td>\n",
       "      <td>humans,abstractions</td>\n",
       "    </tr>\n",
       "    <tr>\n",
       "      <th>129741</th>\n",
       "      <td>17011</td>\n",
       "      <td>Still, the delay prompted critics to speculate...</td>\n",
       "      <td>Tense</td>\n",
       "      <td>past</td>\n",
       "    </tr>\n",
       "  </tbody>\n",
       "</table>\n",
       "</div>"
      ],
      "text/plain": [
       "        PTC_id                                               text  \\\n",
       "129734   17011  Still, the delay prompted critics to speculate...   \n",
       "129735   17011  Still, the delay prompted critics to speculate...   \n",
       "129736   17011  Still, the delay prompted critics to speculate...   \n",
       "129737   17011  Still, the delay prompted critics to speculate...   \n",
       "129738   17011  Still, the delay prompted critics to speculate...   \n",
       "129739   17011  Still, the delay prompted critics to speculate...   \n",
       "129740   17011  Still, the delay prompted critics to speculate...   \n",
       "129741   17011  Still, the delay prompted critics to speculate...   \n",
       "\n",
       "                            feature  \\\n",
       "129734                       Aspect   \n",
       "129735           Language varieties   \n",
       "129736  Lexical and semantic fields   \n",
       "129737            Modifying clauses   \n",
       "129738                         Mood   \n",
       "129739                  Predication   \n",
       "129740              Subject choices   \n",
       "129741                        Tense   \n",
       "\n",
       "                                            properties  \n",
       "129734                                          simple  \n",
       "129735                      clarity,middle,correctness  \n",
       "129736  abstract,indefinite/thesis,definite/hypothesis  \n",
       "129737                                            noun  \n",
       "129738                                      indicative  \n",
       "129739                                  stative,active  \n",
       "129740                             humans,abstractions  \n",
       "129741                                            past  "
      ]
     },
     "execution_count": 45,
     "metadata": {},
     "output_type": "execute_result"
    }
   ],
   "source": [
    "df[df['PTC_id']==17011]"
   ]
  },
  {
   "cell_type": "code",
   "execution_count": 46,
   "id": "341088ee-4ad3-4a08-b616-41d94ce398dd",
   "metadata": {},
   "outputs": [
    {
     "data": {
      "text/plain": [
       "'Still, the delay prompted critics to speculate that the delay signaled the White House was having second thoughts about the nomination.'"
      ]
     },
     "execution_count": 46,
     "metadata": {},
     "output_type": "execute_result"
    }
   ],
   "source": [
    "df.loc[129734]['text']"
   ]
  },
  {
   "cell_type": "code",
   "execution_count": null,
   "id": "a8472bd0-fa98-418f-a28f-c4dd3a8ce1b3",
   "metadata": {
    "jupyter": {
     "source_hidden": true
    }
   },
   "outputs": [],
   "source": [
    "'Rich Penkoski is hardly the first to protest this egregious submission to the most vicious and brutal ideology on the face of the Earth.'"
   ]
  },
  {
   "cell_type": "code",
   "execution_count": 10,
   "id": "431472be-7e5b-4f40-90da-f60977ab9a9c",
   "metadata": {
    "jupyter": {
     "source_hidden": true
    }
   },
   "outputs": [],
   "source": [
    "'Rich Penkoski is hardly the first to protest this egregious submission to the most vicious and brutal ideology on the face of the Earth.'\n",
    "13585\n",
    "\n",
    "'Aspect','simple'\n",
    "'Figures of word choice','emphasis'\n",
    "'Language varieties','correctness,clarity,forcefulness,middle'\n",
    "'Lexical and semantic fields','abstract,indefinite/thesis,definite/hypothesis'\n",
    "'Mood','indicative'\n",
    "'Predication','active,stative'\n",
    "'Subject choices','humans,abstractions'\n",
    "'Tense','present'\n"
   ]
  },
  {
   "cell_type": "code",
   "execution_count": 10,
   "id": "de0faa41-a0af-449d-9dc8-1e9b17223002",
   "metadata": {
    "jupyter": {
     "source_hidden": true
    }
   },
   "outputs": [],
   "source": [
    "\"Language_of_origin\":\n",
    "[\n",
    "\"Old_English_Core\",\n",
    "\"Latin/Greek\"\n",
    "]\n",
    "\"Language_varieties\":\n",
    "[\n",
    "\"correctness\",\n",
    "\"clarity\",\n",
    "\"forcefulness\",\n",
    "\"appropriateness\",\n",
    "\"middle\"\n",
    "]\n",
    "\"Mood\":\n",
    "[\n",
    "\"indicative\"\n",
    "]\n",
    "\"Emphasis\":\n",
    "[\n",
    "\"by_position\"\n",
    "]\n",
    "\"Predication\":\n",
    "[\n",
    "\"stative\"\n",
    "]\n",
    "\"Tense\":\n",
    "[\n",
    "\"present\"\n",
    "]\n",
    "\"Aspect\":\n",
    "[\n",
    "\"simple\"\n",
    "]\n",
    "\"Modifying_phrases\":\n",
    "[\n",
    "\"single_word_modifiers\"\n",
    "]\n",
    "\"Modifying_phrases\":\n",
    "[\n",
    "\"single_word_modifiers\"\n",
    "]\n",
    "\"Modifying_phrases\":\n",
    "[\n",
    "\"single_word_modifiers\"\n",
    "]\n",
    "\"Modifying_phrases\":\n",
    "[\n",
    "\"prepositional_phrases\"\n",
    "]\n",
    "\"Tropes\":\n",
    "[\n",
    "\"hyperbole\"\n",
    "]\n",
    "\"Figures_of_word_choice\":\n",
    "[\n",
    "\"synonyms\"\n",
    "]\n",
    "\"Modifying_phrases\":\n",
    "[\n",
    "\"single_word_modifiers\"\n",
    "]\n",
    "\"Modifying_phrases\":\n",
    "[\n",
    "\"single_word_modifiers\"\n",
    "]\n",
    "\"Modifying_phrases\":\n",
    "[\n",
    "\"single_word_modifiers\"\n",
    "]\n",
    "\"Modifying_phrases\":\n",
    "[\n",
    "\"prepositional_phrases\"\n",
    "]\n",
    "\"Modifying_phrases\":\n",
    "[\n",
    "\"prepositional_phrases\"\n",
    "]\n",
    "\"Lexical_and_semantic_fields\":\n",
    "[\n",
    "\"definite/hypothesis\"\n",
    "]\n"
   ]
  },
  {
   "cell_type": "code",
   "execution_count": 26,
   "id": "d0057b62-7da9-49bd-a8e2-3a4834f9f6b2",
   "metadata": {},
   "outputs": [],
   "source": [
    "TP01 = '“That’s because nearly every threat to peace and security in the Middle East is connected to Iran’s outlaw behavior.'\n",
    "TP01_PTC_id = 16551\n",
    "for row in df[df['PTC_id']==16551].iterrows():\n",
    "    print(\"{:30}\\t& {:30} \\\\\\\\\".format(row[1]['feature'],row[1]['properties'].replace(\",\",\", \")))\n"
   ]
  },
  {
   "cell_type": "code",
   "execution_count": 19,
   "id": "4c4c6ceb-ade8-4776-af7e-f759b76f3463",
   "metadata": {},
   "outputs": [
    {
     "name": "stdout",
     "output_type": "stream",
     "text": [
      "Aspect                        \t& simple                         \\\\\n",
      "Language varieties            \t& correctness, clarity, forcefulness, middle \\\\\n",
      "Lexical and semantic fields   \t& abstract, indefinite/thesis, definite/hypothesis \\\\\n",
      "Modifying clauses             \t& subordinate                    \\\\\n",
      "Mood                          \t& indicative                     \\\\\n",
      "New words and changing uses   \t& compounds                      \\\\\n",
      "Predication                   \t& active, stative                \\\\\n",
      "Subject choices               \t& humans, abstractions           \\\\\n",
      "Tense                         \t& present                        \\\\\n"
     ]
    }
   ],
   "source": []
  },
  {
   "cell_type": "code",
   "execution_count": 27,
   "id": "685ca562-8c7b-4a4f-a6a8-2f73fa5d41cd",
   "metadata": {},
   "outputs": [
    {
     "name": "stdout",
     "output_type": "stream",
     "text": [
      "Aspect                        \t& simple                         \\\\\n",
      "Language varieties            \t& clarity, middle, correctness   \\\\\n",
      "Lexical and semantic fields   \t& abstract, indefinite/thesis, definite/hypothesis \\\\\n",
      "Mood                          \t& indicative                     \\\\\n",
      "Predication                   \t& active, stative                \\\\\n",
      "Tense                         \t& present, past                  \\\\\n",
      "Verb choices                  \t& negation                       \\\\\n"
     ]
    }
   ],
   "source": [
    "FP01 = 'However, I ask, why were you not involved in the first place, Mr. President?'\n",
    "FP01_PTC_id = 20421\n",
    "for row in df[df['PTC_id']==20421].iterrows():\n",
    "    print(\"{:30}\\t& {:30} \\\\\\\\\".format(row[1]['feature'],row[1]['properties'].replace(\",\",\", \")))\n"
   ]
  },
  {
   "cell_type": "code",
   "execution_count": 36,
   "id": "dce1b530-c3d2-4435-9c90-a3c306e59b6a",
   "metadata": {},
   "outputs": [
    {
     "name": "stdout",
     "output_type": "stream",
     "text": [
      "Aspect                        \t& simple, perfect                \\\\\n",
      "Language varieties            \t& correctness, clarity, middle   \\\\\n",
      "Lexical and semantic fields   \t& abstract, indefinite/thesis, definite/hypothesis \\\\\n",
      "Mood                          \t& indicative                     \\\\\n",
      "Predication                   \t& stative                        \\\\\n",
      "Tense                         \t& present                        \\\\\n"
     ]
    }
   ],
   "source": [
    "TN01 = 'That money has come from the taxpayers of course.'\n",
    "TN01_PTC_id = 16510\n",
    "for row in df[df['PTC_id']==16510].iterrows():\n",
    "    print(\"{:30}\\t& {:30} \\\\\\\\\".format(row[1]['feature'],row[1]['properties'].replace(\",\",\", \")))"
   ]
  },
  {
   "cell_type": "code",
   "execution_count": 47,
   "id": "fdccdca1-c1c0-4a3c-9085-967498463893",
   "metadata": {},
   "outputs": [
    {
     "name": "stdout",
     "output_type": "stream",
     "text": [
      "Aspect                        \t& simple                         \\\\\n",
      "Language varieties            \t& correctness, clarity, forcefulness, middle \\\\\n",
      "Lexical and semantic fields   \t& indefinite/thesis, abstract    \\\\\n",
      "Mood                          \t& indicative                     \\\\\n",
      "Predication                   \t& active, stative                \\\\\n",
      "Subject choices               \t& abstractions                   \\\\\n",
      "Tense                         \t& present                        \\\\\n"
     ]
    }
   ],
   "source": [
    "\n",
    "FN01 = 'To justify such an enormous budget a major enemy is required.'\n",
    "FN01_PTC_id = 17545\n",
    "for row in df[df['PTC_id']==17545].iterrows():\n",
    "    print(\"{:30}\\t& {:30} \\\\\\\\\".format(row[1]['feature'],row[1]['properties'].replace(\",\",\", \")))"
   ]
  },
  {
   "cell_type": "code",
   "execution_count": null,
   "id": "38e2866f-f96e-4293-98b1-8d0d16401d74",
   "metadata": {},
   "outputs": [],
   "source": []
  }
 ],
 "metadata": {
  "kernelspec": {
   "display_name": "Python 3 (ipykernel)",
   "language": "python",
   "name": "python3"
  },
  "language_info": {
   "codemirror_mode": {
    "name": "ipython",
    "version": 3
   },
   "file_extension": ".py",
   "mimetype": "text/x-python",
   "name": "python",
   "nbconvert_exporter": "python",
   "pygments_lexer": "ipython3",
   "version": "3.9.18"
  }
 },
 "nbformat": 4,
 "nbformat_minor": 5
}
