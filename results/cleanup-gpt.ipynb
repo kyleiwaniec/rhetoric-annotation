{
 "cells": [
  {
   "cell_type": "markdown",
   "id": "67a48762-9464-41f5-ba2a-3e8e7629c852",
   "metadata": {},
   "source": [
    "# Cleanup GPT\n",
    "Sometimes the response does not match the prompt. This is probably due to a race condition in the annotation app code. For example, when prompted to provide the 'mood', the response has to do with 'aspect'.\n",
    "\n",
    "So for every feature, let's remove the responses that do not correspond to the given feature. Let's store the sentence id and nuber of incorrect responses, so we can prompt GPT again and correc the dataset."
   ]
  },
  {
   "cell_type": "code",
   "execution_count": 104,
   "id": "71de21a8-08b2-4cae-bcf8-cca26cfd528a",
   "metadata": {},
   "outputs": [],
   "source": [
    "import pandas as pd\n",
    "import json\n",
    "import matplotlib.pyplot as plt\n",
    "import numpy as np\n",
    "from collections import Counter, OrderedDict, defaultdict\n",
    "import utils\n",
    "import features\n",
    "import importlib\n",
    "import ast\n",
    "import tiktoken\n",
    "import os\n",
    "import openai\n",
    "from tqdm import tqdm\n",
    "import backoff\n",
    "import logging\n",
    "import requests"
   ]
  },
  {
   "cell_type": "code",
   "execution_count": 90,
   "id": "7733ebc2-b61a-40a8-8dff-2a1208ab3b3b",
   "metadata": {},
   "outputs": [
    {
     "name": "stderr",
     "output_type": "stream",
     "text": [
      "/Users/kylehamilton/opt/anaconda3/envs/annotation/lib/python3.9/site-packages/pandas/io/sql.py:762: UserWarning: pandas only support SQLAlchemy connectable(engine/connection) ordatabase string URI or sqlite3 DBAPI2 connectionother DBAPI2 objects are not tested, please consider using SQLAlchemy\n",
      "  warnings.warn(\n"
     ]
    }
   ],
   "source": [
    "importlib.reload(utils)\n",
    "connection = utils.connectDB()\n",
    "\n",
    "query = 'SELECT * FROM ebdb.ChatGPT where annotator_id in (20,21,22);'\n",
    "gpt = pd.read_sql(query, connection)\n",
    "# gpt = gpt[~gpt[\"response\"].isna()]\n",
    "# gpt = gpt[gpt[\"response\"]!=\"\"]"
   ]
  },
  {
   "cell_type": "code",
   "execution_count": 371,
   "id": "ba837bee-55b4-4d3a-acc7-08f7dab7593b",
   "metadata": {},
   "outputs": [
    {
     "data": {
      "text/html": [
       "<div>\n",
       "<style scoped>\n",
       "    .dataframe tbody tr th:only-of-type {\n",
       "        vertical-align: middle;\n",
       "    }\n",
       "\n",
       "    .dataframe tbody tr th {\n",
       "        vertical-align: top;\n",
       "    }\n",
       "\n",
       "    .dataframe thead th {\n",
       "        text-align: right;\n",
       "    }\n",
       "</style>\n",
       "<table border=\"1\" class=\"dataframe\">\n",
       "  <thead>\n",
       "    <tr style=\"text-align: right;\">\n",
       "      <th></th>\n",
       "      <th>id</th>\n",
       "      <th>sentence_id</th>\n",
       "      <th>annotator_id</th>\n",
       "      <th>feature_id</th>\n",
       "      <th>prompt</th>\n",
       "      <th>response</th>\n",
       "      <th>date_updated</th>\n",
       "    </tr>\n",
       "  </thead>\n",
       "  <tbody>\n",
       "    <tr>\n",
       "      <th>0</th>\n",
       "      <td>478</td>\n",
       "      <td>265</td>\n",
       "      <td>21</td>\n",
       "      <td>Aspect</td>\n",
       "      <td>\\n        You are a rhetoretician and linguist...</td>\n",
       "      <td>{\"Properties\":[\"simple\"],\"Explanation\":\"The te...</td>\n",
       "      <td>2023-08-14 11:01:22</td>\n",
       "    </tr>\n",
       "    <tr>\n",
       "      <th>1</th>\n",
       "      <td>479</td>\n",
       "      <td>265</td>\n",
       "      <td>21</td>\n",
       "      <td>Aspect</td>\n",
       "      <td>\\n        You are a rhetoretician and linguist...</td>\n",
       "      <td>{\"Properties\":[\"simple\"],\"Explanation\":\"The te...</td>\n",
       "      <td>2023-08-14 11:01:25</td>\n",
       "    </tr>\n",
       "    <tr>\n",
       "      <th>2</th>\n",
       "      <td>480</td>\n",
       "      <td>265</td>\n",
       "      <td>21</td>\n",
       "      <td>Aspect</td>\n",
       "      <td>\\n        You are a rhetoretician and linguist...</td>\n",
       "      <td>{\"Properties\":[\"simple\"],\"Explanation\":\"The te...</td>\n",
       "      <td>2023-08-14 11:01:28</td>\n",
       "    </tr>\n",
       "    <tr>\n",
       "      <th>3</th>\n",
       "      <td>481</td>\n",
       "      <td>265</td>\n",
       "      <td>21</td>\n",
       "      <td>Aspect</td>\n",
       "      <td>\\n        You are a rhetoretician and linguist...</td>\n",
       "      <td>{\"Properties\":[\"simple\"],\"Explanation\":\"The te...</td>\n",
       "      <td>2023-08-14 11:01:32</td>\n",
       "    </tr>\n",
       "    <tr>\n",
       "      <th>4</th>\n",
       "      <td>482</td>\n",
       "      <td>265</td>\n",
       "      <td>21</td>\n",
       "      <td>Aspect</td>\n",
       "      <td>\\n        You are a rhetoretician and linguist...</td>\n",
       "      <td>{\"Properties\":[\"simple\"],\"Explanation\":\"The te...</td>\n",
       "      <td>2023-08-14 11:01:36</td>\n",
       "    </tr>\n",
       "  </tbody>\n",
       "</table>\n",
       "</div>"
      ],
      "text/plain": [
       "    id  sentence_id  annotator_id feature_id  \\\n",
       "0  478          265            21     Aspect   \n",
       "1  479          265            21     Aspect   \n",
       "2  480          265            21     Aspect   \n",
       "3  481          265            21     Aspect   \n",
       "4  482          265            21     Aspect   \n",
       "\n",
       "                                              prompt  \\\n",
       "0  \\n        You are a rhetoretician and linguist...   \n",
       "1  \\n        You are a rhetoretician and linguist...   \n",
       "2  \\n        You are a rhetoretician and linguist...   \n",
       "3  \\n        You are a rhetoretician and linguist...   \n",
       "4  \\n        You are a rhetoretician and linguist...   \n",
       "\n",
       "                                            response        date_updated  \n",
       "0  {\"Properties\":[\"simple\"],\"Explanation\":\"The te... 2023-08-14 11:01:22  \n",
       "1  {\"Properties\":[\"simple\"],\"Explanation\":\"The te... 2023-08-14 11:01:25  \n",
       "2  {\"Properties\":[\"simple\"],\"Explanation\":\"The te... 2023-08-14 11:01:28  \n",
       "3  {\"Properties\":[\"simple\"],\"Explanation\":\"The te... 2023-08-14 11:01:32  \n",
       "4  {\"Properties\":[\"simple\"],\"Explanation\":\"The te... 2023-08-14 11:01:36  "
      ]
     },
     "execution_count": 371,
     "metadata": {},
     "output_type": "execute_result"
    }
   ],
   "source": [
    "gpt.head() #.groupby('sentence_id').count()"
   ]
  },
  {
   "cell_type": "code",
   "execution_count": 362,
   "id": "56f3f528-e3c5-4ea6-8ec3-44614c6157b1",
   "metadata": {},
   "outputs": [
    {
     "name": "stderr",
     "output_type": "stream",
     "text": [
      "100%|███████████████████████████████████████████████████████████████████████████████████████████████████████| 324/324 [00:42<00:00,  7.70it/s]\n"
     ]
    }
   ],
   "source": [
    "importlib.reload(utils)\n",
    "gpt_df = utils.getGPTFeatures(gpt)"
   ]
  },
  {
   "cell_type": "code",
   "execution_count": 363,
   "id": "3470428c-296a-4d4e-b6c4-b23aaf370142",
   "metadata": {},
   "outputs": [
    {
     "data": {
      "text/html": [
       "<div>\n",
       "<style scoped>\n",
       "    .dataframe tbody tr th:only-of-type {\n",
       "        vertical-align: middle;\n",
       "    }\n",
       "\n",
       "    .dataframe tbody tr th {\n",
       "        vertical-align: top;\n",
       "    }\n",
       "\n",
       "    .dataframe thead th {\n",
       "        text-align: right;\n",
       "    }\n",
       "</style>\n",
       "<table border=\"1\" class=\"dataframe\">\n",
       "  <thead>\n",
       "    <tr style=\"text-align: right;\">\n",
       "      <th></th>\n",
       "      <th>sentence_id</th>\n",
       "      <th>count</th>\n",
       "      <th>properties</th>\n",
       "      <th>all_properties</th>\n",
       "      <th>all_count</th>\n",
       "      <th>feature_id</th>\n",
       "    </tr>\n",
       "  </thead>\n",
       "  <tbody>\n",
       "    <tr>\n",
       "      <th>0</th>\n",
       "      <td>265</td>\n",
       "      <td>1</td>\n",
       "      <td>[{simple}]</td>\n",
       "      <td>[{simple}, {simple}, {simple}, {simple}, {simp...</td>\n",
       "      <td>5</td>\n",
       "      <td>Aspect</td>\n",
       "    </tr>\n",
       "    <tr>\n",
       "      <th>1</th>\n",
       "      <td>265</td>\n",
       "      <td>0</td>\n",
       "      <td>[]</td>\n",
       "      <td>[]</td>\n",
       "      <td>0</td>\n",
       "      <td>Mood</td>\n",
       "    </tr>\n",
       "    <tr>\n",
       "      <th>2</th>\n",
       "      <td>265</td>\n",
       "      <td>0</td>\n",
       "      <td>[]</td>\n",
       "      <td>[]</td>\n",
       "      <td>0</td>\n",
       "      <td>Verb_choices</td>\n",
       "    </tr>\n",
       "    <tr>\n",
       "      <th>3</th>\n",
       "      <td>265</td>\n",
       "      <td>1</td>\n",
       "      <td>[{subordinate}]</td>\n",
       "      <td>[{subordinate}]</td>\n",
       "      <td>1</td>\n",
       "      <td>Modifying_clauses</td>\n",
       "    </tr>\n",
       "    <tr>\n",
       "      <th>4</th>\n",
       "      <td>265</td>\n",
       "      <td>1</td>\n",
       "      <td>[{multiplying and embedding modifiers, single ...</td>\n",
       "      <td>[{multiplying and embedding modifiers, single ...</td>\n",
       "      <td>5</td>\n",
       "      <td>Modifying_phrases</td>\n",
       "    </tr>\n",
       "    <tr>\n",
       "      <th>...</th>\n",
       "      <td>...</td>\n",
       "      <td>...</td>\n",
       "      <td>...</td>\n",
       "      <td>...</td>\n",
       "      <td>...</td>\n",
       "      <td>...</td>\n",
       "    </tr>\n",
       "    <tr>\n",
       "      <th>4986</th>\n",
       "      <td>15233</td>\n",
       "      <td>1</td>\n",
       "      <td>[{appositives}]</td>\n",
       "      <td>[{appositives}, {appositives}, {appositives}]</td>\n",
       "      <td>3</td>\n",
       "      <td>Phrases_built_on_nouns</td>\n",
       "    </tr>\n",
       "    <tr>\n",
       "      <th>4987</th>\n",
       "      <td>15233</td>\n",
       "      <td>1</td>\n",
       "      <td>[{multiplying and embedding modifiers, single ...</td>\n",
       "      <td>[{multiplying and embedding modifiers, single ...</td>\n",
       "      <td>22</td>\n",
       "      <td>Modifying_phrases</td>\n",
       "    </tr>\n",
       "    <tr>\n",
       "      <th>4988</th>\n",
       "      <td>15233</td>\n",
       "      <td>2</td>\n",
       "      <td>[{multiplying and embedding modifiers, single ...</td>\n",
       "      <td>[{left branching, right branching}, {multiplyi...</td>\n",
       "      <td>3</td>\n",
       "      <td>Sentence_architecture</td>\n",
       "    </tr>\n",
       "    <tr>\n",
       "      <th>4989</th>\n",
       "      <td>15233</td>\n",
       "      <td>2</td>\n",
       "      <td>[{by sentence role, by position}, {left branch...</td>\n",
       "      <td>[{by sentence role, by position}, {left branch...</td>\n",
       "      <td>3</td>\n",
       "      <td>Emphasis</td>\n",
       "    </tr>\n",
       "    <tr>\n",
       "      <th>4990</th>\n",
       "      <td>15233</td>\n",
       "      <td>1</td>\n",
       "      <td>[{}]</td>\n",
       "      <td>[{}]</td>\n",
       "      <td>1</td>\n",
       "      <td>Phrases_built_on_verbs</td>\n",
       "    </tr>\n",
       "  </tbody>\n",
       "</table>\n",
       "<p>4991 rows × 6 columns</p>\n",
       "</div>"
      ],
      "text/plain": [
       "      sentence_id  count                                         properties  \\\n",
       "0             265      1                                         [{simple}]   \n",
       "1             265      0                                                 []   \n",
       "2             265      0                                                 []   \n",
       "3             265      1                                    [{subordinate}]   \n",
       "4             265      1  [{multiplying and embedding modifiers, single ...   \n",
       "...           ...    ...                                                ...   \n",
       "4986        15233      1                                    [{appositives}]   \n",
       "4987        15233      1  [{multiplying and embedding modifiers, single ...   \n",
       "4988        15233      2  [{multiplying and embedding modifiers, single ...   \n",
       "4989        15233      2  [{by sentence role, by position}, {left branch...   \n",
       "4990        15233      1                                               [{}]   \n",
       "\n",
       "                                         all_properties  all_count  \\\n",
       "0     [{simple}, {simple}, {simple}, {simple}, {simp...          5   \n",
       "1                                                    []          0   \n",
       "2                                                    []          0   \n",
       "3                                       [{subordinate}]          1   \n",
       "4     [{multiplying and embedding modifiers, single ...          5   \n",
       "...                                                 ...        ...   \n",
       "4986      [{appositives}, {appositives}, {appositives}]          3   \n",
       "4987  [{multiplying and embedding modifiers, single ...         22   \n",
       "4988  [{left branching, right branching}, {multiplyi...          3   \n",
       "4989  [{by sentence role, by position}, {left branch...          3   \n",
       "4990                                               [{}]          1   \n",
       "\n",
       "                  feature_id  \n",
       "0                     Aspect  \n",
       "1                       Mood  \n",
       "2               Verb_choices  \n",
       "3          Modifying_clauses  \n",
       "4          Modifying_phrases  \n",
       "...                      ...  \n",
       "4986  Phrases_built_on_nouns  \n",
       "4987       Modifying_phrases  \n",
       "4988   Sentence_architecture  \n",
       "4989                Emphasis  \n",
       "4990  Phrases_built_on_verbs  \n",
       "\n",
       "[4991 rows x 6 columns]"
      ]
     },
     "execution_count": 363,
     "metadata": {},
     "output_type": "execute_result"
    }
   ],
   "source": [
    "print(len(gpt_df))\n",
    "gpt_df.head()"
   ]
  },
  {
   "cell_type": "markdown",
   "id": "eb7c4bf8-3f56-48f4-9743-4eb7833fb90e",
   "metadata": {
    "tags": []
   },
   "source": [
    "# Figure out which features/properties were incorrectly recorded, and make a list to re-prompt GPT"
   ]
  },
  {
   "cell_type": "code",
   "execution_count": 96,
   "id": "7176a98c-2d18-459a-827c-5cc65bc14570",
   "metadata": {
    "tags": []
   },
   "outputs": [
    {
     "name": "stderr",
     "output_type": "stream",
     "text": [
      "100%|█████████████████████████████████████████████████████████████████████████████████████████████████████████| 22/22 [00:00<00:00, 71.16it/s]"
     ]
    },
    {
     "name": "stdout",
     "output_type": "stream",
     "text": [
      "Unexpected err=KeyError(21), type(err)=<class 'KeyError'>\n"
     ]
    },
    {
     "name": "stderr",
     "output_type": "stream",
     "text": [
      "\n"
     ]
    }
   ],
   "source": [
    "importlib.reload(utils)\n",
    "importlib.reload(features)\n",
    "\n",
    "to_reprompt = []\n",
    "_features = list(features.f_od.keys())\n",
    "_num_prompts = 3\n",
    "\n",
    "for f in tqdm(_features):\n",
    "    idx = _features.index(f)\n",
    "    num_properties = len(features.f_od[f])\n",
    "    \n",
    "    try:\n",
    "        properties_gpt = gpt_df.groupby('feature_id').agg(list).reset_index().loc[idx][['all_properties','all_count','sentence_id']]\n",
    "        prop_list = list(zip(properties_gpt['all_properties'],properties_gpt['sentence_id'],properties_gpt['all_count']))\n",
    "\n",
    "        for tup in prop_list:\n",
    "            props = tup[0]\n",
    "            sid = tup[1]\n",
    "            count = tup[2]\n",
    "            c = 0\n",
    "            for _set in props:\n",
    "                if len(_set.intersection(set(features.f_od[f]))) == 0:\n",
    "                    c+=1\n",
    "            times_to_reprompt = _num_prompts-(count-c)\n",
    "            if times_to_reprompt > 0:\n",
    "                to_reprompt.append([count, c, f, sid, props, times_to_reprompt])\n",
    "    except Exception as err:\n",
    "        print(f\"Unexpected {err=}, {type(err)=}\")\n",
    "        pass\n",
    "        "
   ]
  },
  {
   "cell_type": "code",
   "execution_count": 97,
   "id": "64ea48af-82c2-433b-8f36-0ea8716f1d39",
   "metadata": {},
   "outputs": [
    {
     "data": {
      "text/plain": [
       "3380"
      ]
     },
     "execution_count": 97,
     "metadata": {},
     "output_type": "execute_result"
    }
   ],
   "source": [
    "len(to_reprompt)"
   ]
  },
  {
   "cell_type": "code",
   "execution_count": 98,
   "id": "856c7821-ffc4-48fd-941f-e00112311d53",
   "metadata": {},
   "outputs": [
    {
     "data": {
      "text/plain": [
       "[[0, 0, 'Aspect', 311, [], 3], [1, 0, 'Aspect', 313, [{'simple'}], 2]]"
      ]
     },
     "execution_count": 98,
     "metadata": {},
     "output_type": "execute_result"
    }
   ],
   "source": [
    "to_reprompt[0:2]"
   ]
  },
  {
   "cell_type": "markdown",
   "id": "aa227a96-f1e7-481d-9917-ff5ee8cad19f",
   "metadata": {},
   "source": [
    "# Get new GPT responses"
   ]
  },
  {
   "cell_type": "code",
   "execution_count": 24,
   "id": "aa6ec724-8dc0-400f-829e-2e5db9a7ae56",
   "metadata": {},
   "outputs": [],
   "source": [
    "################################################################################################################################\n",
    "\n",
    "# load features for ChatGPT\n",
    "sentenceFeaturesDict = defaultdict(list)\n",
    "sentenceFeaturesList = []\n",
    "\n",
    "with open('../APP/features-sentence.json') as f:\n",
    "    for jsonObj in f:\n",
    "        featureDict = json.loads(jsonObj)\n",
    "        sentenceFeaturesList.append(featureDict)\n",
    "        sentenceFeaturesDict[featureDict['key']] = [val+\" : \"+desc for val, desc in zip(featureDict['values'],featureDict['descriptions'])]\n",
    "\n",
    "\n",
    "wordFeaturesDict = defaultdict(list)\n",
    "wordFeaturesList = []\n",
    "\n",
    "with open('../APP/features-word.json') as f:\n",
    "    for jsonObj in f:\n",
    "        featureDict = json.loads(jsonObj)\n",
    "        wordFeaturesList.append(featureDict)\n",
    "        wordFeaturesDict[featureDict['key']] = [val+\" : \"+desc for val, desc in zip(featureDict['values'],featureDict['descriptions'])]\n",
    "\n",
    "\n",
    "featuresDict = sentenceFeaturesDict | wordFeaturesDict"
   ]
  },
  {
   "cell_type": "code",
   "execution_count": 138,
   "id": "15db7e0f-ae97-4849-ab1e-ca66e7eaf465",
   "metadata": {},
   "outputs": [],
   "source": [
    "logging.getLogger('backoff').handlers.clear()"
   ]
  },
  {
   "cell_type": "code",
   "execution_count": 178,
   "id": "f2fee001-af36-43b0-8bc8-62d2a2d1cf67",
   "metadata": {},
   "outputs": [],
   "source": [
    "errors = []\n",
    "logging.basicConfig(filename='gpt_reponse.log', filemode='w', format='%(asctime)s - %(name)s - %(levelname)s - %(message)s')\n",
    "logging.getLogger('backoff').addHandler(logging.FileHandler('gpt_reponse.log'))\n",
    "    \n",
    "def get_gpt_response(sentence,feature):\n",
    "    feature = feature.replace(\"_\", \" \")\n",
    "    properties = \"\\n\".join(featuresDict[feature])\n",
    "\n",
    "    global prompt\n",
    "    prompt = f\"\"\"\n",
    "    You are a rhetoretician and linguist specializing in news text. \n",
    "\n",
    "    Your task is to identify which, if any, of the following properties of {feature} are used in the example text. \n",
    "    You may select multiple properties.\n",
    "    Each line contains a property followed by a colon, followed by a brief definition and example(s):\n",
    "\n",
    "    {properties}\n",
    "\n",
    "\n",
    "    Format your response as a JSON object with \"Properties\" and \"Explanation\" as the keys. \n",
    "    The value of \"Properties\" should be a list. If none of the properties are present, return an empty list. \n",
    "    Explain your choice in the \"Explanation\". Make your response as short as possible.\n",
    "    The example text is delimited with triple backticks. \n",
    "\n",
    "\n",
    "    Example text: ```{sentence}```\n",
    "    \"\"\"\n",
    "\n",
    "    openai.organization = os.getenv(\"OPENAI_ORG_ID\")\n",
    "    openai.api_key = os.getenv(\"OPENAI_API_KEY\")\n",
    "\n",
    "    # model = \"gpt-3.5-turbo-0301\"\n",
    "    # model = \"gpt-3.5-turbo-0613\"\n",
    "    model = \"gpt-4\"\n",
    "\n",
    "\n",
    "    messages=[{\"role\": \"user\", \"content\": prompt}]\n",
    "    \n",
    "    \n",
    "\n",
    "    @backoff.on_exception(backoff.expo, openai.error.RateLimitError)\n",
    "    @backoff.on_exception(backoff.expo, openai.error.APIError)\n",
    "    @backoff.on_exception(backoff.expo, openai.error.APIConnectionError)\n",
    "    @backoff.on_exception(backoff.expo, openai.error.Timeout)\n",
    "    @backoff.on_exception(backoff.expo, openai.error.ServiceUnavailableError)\n",
    "    @backoff.on_exception(backoff.expo, requests.exceptions.Timeout)\n",
    "    def completions_with_backoff(**kwargs):\n",
    "        return openai.ChatCompletion.create(**kwargs)\n",
    "\n",
    "    res = completions_with_backoff(model=model, messages=messages)\n",
    "    \n",
    "    \n",
    "    '''\n",
    "    try:\n",
    "      #Make your OpenAI API request here\n",
    "      res = openai.ChatCompletion.create(\n",
    "          model=model,\n",
    "          messages=messages\n",
    "        )\n",
    "    except openai.error.APIError as e:\n",
    "        #Handle API error here, e.g. retry or log\n",
    "        print(f\"OpenAI API returned an API Error: {e}\")\n",
    "        errors.append(f\"OpenAI API returned an API Error: {e}\")\n",
    "        pass\n",
    "    except openai.error.APIConnectionError as e:\n",
    "        #Handle connection error here\n",
    "        print(f\"Failed to connect to OpenAI API: {e}\")\n",
    "        errors.append(f\"Failed to connect to OpenAI API: {e}\")\n",
    "        pass\n",
    "    except openai.error.RateLimitError as e:\n",
    "        #Handle rate limit error (we recommend using exponential backoff)\n",
    "        print(f\"OpenAI API request exceeded rate limit: {e}\")\n",
    "        errors.append(f\"OpenAI API request exceeded rate limit: {e}\")\n",
    "        pass\n",
    "    except openai.error.Timeout as e:\n",
    "        #Handle timeout error (we recommend using exponential backoff)\n",
    "        print(f\"OpenAI API request timed out: {e}\")\n",
    "        errors.append(f\"OpenAI API request timed out: {e}\")\n",
    "        pass\n",
    "    except requests.exceptions.Timeout as e:\n",
    "        print(f\"Request timed out: {e}\")\n",
    "        errors.append(f\"Request timed out: {e}\")\n",
    "        pass\n",
    "    except Exception as e:\n",
    "        print(f\"Unexpected {e=}, {type(e)=}\")\n",
    "        errors.append(f\"Unexpected {e=}, {type(e)=}\")\n",
    "        pass\n",
    "    '''\n",
    "\n",
    "    response = res[\"choices\"][0][\"message\"][\"content\"]\n",
    "\n",
    "    return (prompt,response)"
   ]
  },
  {
   "cell_type": "code",
   "execution_count": 10,
   "id": "18f3ee43-54ee-4ca9-a540-b2556d664266",
   "metadata": {},
   "outputs": [
    {
     "name": "stderr",
     "output_type": "stream",
     "text": [
      "/Users/kylehamilton/opt/anaconda3/envs/annotation/lib/python3.9/site-packages/pandas/io/sql.py:762: UserWarning: pandas only support SQLAlchemy connectable(engine/connection) ordatabase string URI or sqlite3 DBAPI2 connectionother DBAPI2 objects are not tested, please consider using SQLAlchemy\n",
      "  warnings.warn(\n"
     ]
    }
   ],
   "source": [
    "importlib.reload(utils)\n",
    "connection = utils.connectDB()\n",
    "\n",
    "query = 'SELECT id, text FROM ebdb.sample_sentences;'\n",
    "sentences = pd.read_sql(query, connection)"
   ]
  },
  {
   "cell_type": "code",
   "execution_count": 11,
   "id": "551cc655-7ccd-4d32-a6d6-2565a5368d6e",
   "metadata": {},
   "outputs": [
    {
     "data": {
      "text/plain": [
       "357"
      ]
     },
     "execution_count": 11,
     "metadata": {},
     "output_type": "execute_result"
    }
   ],
   "source": [
    "len(sentences)"
   ]
  },
  {
   "cell_type": "code",
   "execution_count": 101,
   "id": "6d2db2fb-48a4-44db-a7f7-ee57baa4ac1e",
   "metadata": {},
   "outputs": [
    {
     "data": {
      "text/plain": [
       "'Muhammad advises the same thing, according to the tradition of the Muslim doctors: wherefore the great Temur always strove to exterminate the infidels, as much to acquire that glory, as to signalise himself by the greatness of his conquests.”'"
      ]
     },
     "execution_count": 101,
     "metadata": {},
     "output_type": "execute_result"
    }
   ],
   "source": [
    "sentences[sentences['id']==4].iloc[0]['text']"
   ]
  },
  {
   "cell_type": "code",
   "execution_count": 102,
   "id": "73cb34f9-1026-42b8-bcae-6d58df8ba4e3",
   "metadata": {},
   "outputs": [],
   "source": [
    "new_responses = []"
   ]
  },
  {
   "cell_type": "code",
   "execution_count": 179,
   "id": "15b78ac5-ca99-46fa-ad36-bc8d1338442f",
   "metadata": {
    "tags": []
   },
   "outputs": [
    {
     "name": "stderr",
     "output_type": "stream",
     "text": [
      "100%|███████████████████████████████████████████████████████████████████████████████████████████████████████| 225/225 [45:12<00:00, 12.05s/it]\n"
     ]
    }
   ],
   "source": [
    "items = tqdm(to_reprompt[3155:]) # because an exception was raised at this item, we just need to get from this item on...\n",
    "\n",
    "for item in items:\n",
    "    sid = item[3]\n",
    "    text = sentences[sentences['id']==sid].iloc[0]['text']\n",
    "    feature = item[2]\n",
    "    times_to_reprompt = item[5]\n",
    "    \n",
    "    for i in range(times_to_reprompt):\n",
    "        promt, response = get_gpt_response(text,feature)\n",
    "        new_responses.append([sid, feature, promt, response])\n",
    "    \n",
    "    "
   ]
  },
  {
   "cell_type": "code",
   "execution_count": 113,
   "id": "e13fc614-19f5-4fa3-b759-f4876796bc4a",
   "metadata": {},
   "outputs": [
    {
     "data": {
      "text/plain": [
       "3380"
      ]
     },
     "execution_count": 114,
     "metadata": {},
     "output_type": "execute_result"
    }
   ],
   "source": [
    "len(to_reprompt)"
   ]
  },
  {
   "cell_type": "code",
   "execution_count": 180,
   "id": "01fc1239-2c78-496a-ae18-953e3e83ff0c",
   "metadata": {},
   "outputs": [
    {
     "data": {
      "text/plain": [
       "10978"
      ]
     },
     "execution_count": 180,
     "metadata": {},
     "output_type": "execute_result"
    }
   ],
   "source": [
    "len(new_responses)\n",
    "#10303"
   ]
  },
  {
   "cell_type": "code",
   "execution_count": 110,
   "id": "051b960f-c2be-4cab-97c8-759ba34b7f0d",
   "metadata": {
    "tags": []
   },
   "outputs": [
    {
     "data": {
      "text/plain": [
       "382"
      ]
     },
     "execution_count": 110,
     "metadata": {},
     "output_type": "execute_result"
    }
   ],
   "source": [
    "to_reprompt.index([2,\n",
    "  0,\n",
    "  'Figures_of_argument',\n",
    "  3374,\n",
    "  [{'strategic repetition'}, {'strategic repetition'}],\n",
    "  1])"
   ]
  },
  {
   "cell_type": "code",
   "execution_count": 140,
   "id": "0edb8613-e08b-4249-b5bf-5524caf9c6e7",
   "metadata": {},
   "outputs": [
    {
     "name": "stdout",
     "output_type": "stream",
     "text": [
      "-t: cpu time (seconds)              unlimited\n",
      "-f: file size (blocks)              unlimited\n",
      "-d: data seg size (kbytes)          unlimited\n",
      "-s: stack size (kbytes)             8192\n",
      "-c: core file size (blocks)         0\n",
      "-v: address space (kbytes)          unlimited\n",
      "-l: locked-in-memory size (kbytes)  unlimited\n",
      "-u: processes                       2784\n",
      "-n: file descriptors                7168\n"
     ]
    }
   ],
   "source": [
    "!ulimit -a"
   ]
  },
  {
   "cell_type": "code",
   "execution_count": 181,
   "id": "bfe31e5e-85a6-4d19-83e5-7b715893f909",
   "metadata": {},
   "outputs": [],
   "source": [
    "ndf = pd.DataFrame(new_responses)"
   ]
  },
  {
   "cell_type": "code",
   "execution_count": 182,
   "id": "14a52288-a685-4e38-bab6-f71bf9bfd44a",
   "metadata": {},
   "outputs": [
    {
     "data": {
      "text/html": [
       "<div>\n",
       "<style scoped>\n",
       "    .dataframe tbody tr th:only-of-type {\n",
       "        vertical-align: middle;\n",
       "    }\n",
       "\n",
       "    .dataframe tbody tr th {\n",
       "        vertical-align: top;\n",
       "    }\n",
       "\n",
       "    .dataframe thead th {\n",
       "        text-align: right;\n",
       "    }\n",
       "</style>\n",
       "<table border=\"1\" class=\"dataframe\">\n",
       "  <thead>\n",
       "    <tr style=\"text-align: right;\">\n",
       "      <th></th>\n",
       "      <th>0</th>\n",
       "      <th>1</th>\n",
       "      <th>2</th>\n",
       "      <th>3</th>\n",
       "    </tr>\n",
       "  </thead>\n",
       "  <tbody>\n",
       "    <tr>\n",
       "      <th>0</th>\n",
       "      <td>313</td>\n",
       "      <td>Aspect</td>\n",
       "      <td>\\n    You are a rhetoretician and linguist spe...</td>\n",
       "      <td>{\"Properties\": [\"simple\"], \"Explanation\": \"The...</td>\n",
       "    </tr>\n",
       "    <tr>\n",
       "      <th>1</th>\n",
       "      <td>313</td>\n",
       "      <td>Aspect</td>\n",
       "      <td>\\n    You are a rhetoretician and linguist spe...</td>\n",
       "      <td>{\"Properties\": [\"simple\"], \"Explanation\": \"The...</td>\n",
       "    </tr>\n",
       "    <tr>\n",
       "      <th>2</th>\n",
       "      <td>3387</td>\n",
       "      <td>Aspect</td>\n",
       "      <td>\\n    You are a rhetoretician and linguist spe...</td>\n",
       "      <td>{\"Properties\": [\"simple\"], \"Explanation\": \"The...</td>\n",
       "    </tr>\n",
       "    <tr>\n",
       "      <th>3</th>\n",
       "      <td>3387</td>\n",
       "      <td>Aspect</td>\n",
       "      <td>\\n    You are a rhetoretician and linguist spe...</td>\n",
       "      <td>{\"Properties\": [\"simple\"], \"Explanation\": \"The...</td>\n",
       "    </tr>\n",
       "    <tr>\n",
       "      <th>4</th>\n",
       "      <td>3387</td>\n",
       "      <td>Aspect</td>\n",
       "      <td>\\n    You are a rhetoretician and linguist spe...</td>\n",
       "      <td>{\"Properties\": [\"simple\"], \"Explanation\": \"The...</td>\n",
       "    </tr>\n",
       "    <tr>\n",
       "      <th>...</th>\n",
       "      <td>...</td>\n",
       "      <td>...</td>\n",
       "      <td>...</td>\n",
       "      <td>...</td>\n",
       "    </tr>\n",
       "    <tr>\n",
       "      <th>10973</th>\n",
       "      <td>14356</td>\n",
       "      <td>Tropes</td>\n",
       "      <td>\\n    You are a rhetoretician and linguist spe...</td>\n",
       "      <td>{\"Properties\": [\"synecdoche\", \"metonymy\", \"eup...</td>\n",
       "    </tr>\n",
       "    <tr>\n",
       "      <th>10974</th>\n",
       "      <td>14356</td>\n",
       "      <td>Tropes</td>\n",
       "      <td>\\n    You are a rhetoretician and linguist spe...</td>\n",
       "      <td>{\\n\"Properties\": [\"metonymy\"],\\n\"Explanation\":...</td>\n",
       "    </tr>\n",
       "    <tr>\n",
       "      <th>10975</th>\n",
       "      <td>14506</td>\n",
       "      <td>Tropes</td>\n",
       "      <td>\\n    You are a rhetoretician and linguist spe...</td>\n",
       "      <td>{\"Properties\": [\"hyperbole\"], \"Explanation\": \"...</td>\n",
       "    </tr>\n",
       "    <tr>\n",
       "      <th>10976</th>\n",
       "      <td>14506</td>\n",
       "      <td>Tropes</td>\n",
       "      <td>\\n    You are a rhetoretician and linguist spe...</td>\n",
       "      <td>{\"Properties\": [\"hyperbole\"], \"Explanation\": \"...</td>\n",
       "    </tr>\n",
       "    <tr>\n",
       "      <th>10977</th>\n",
       "      <td>14506</td>\n",
       "      <td>Tropes</td>\n",
       "      <td>\\n    You are a rhetoretician and linguist spe...</td>\n",
       "      <td>{\"Properties\": [\"hyperbole\"], \"Explanation\": \"...</td>\n",
       "    </tr>\n",
       "  </tbody>\n",
       "</table>\n",
       "<p>10978 rows × 4 columns</p>\n",
       "</div>"
      ],
      "text/plain": [
       "           0       1                                                  2  \\\n",
       "0        313  Aspect  \\n    You are a rhetoretician and linguist spe...   \n",
       "1        313  Aspect  \\n    You are a rhetoretician and linguist spe...   \n",
       "2       3387  Aspect  \\n    You are a rhetoretician and linguist spe...   \n",
       "3       3387  Aspect  \\n    You are a rhetoretician and linguist spe...   \n",
       "4       3387  Aspect  \\n    You are a rhetoretician and linguist spe...   \n",
       "...      ...     ...                                                ...   \n",
       "10973  14356  Tropes  \\n    You are a rhetoretician and linguist spe...   \n",
       "10974  14356  Tropes  \\n    You are a rhetoretician and linguist spe...   \n",
       "10975  14506  Tropes  \\n    You are a rhetoretician and linguist spe...   \n",
       "10976  14506  Tropes  \\n    You are a rhetoretician and linguist spe...   \n",
       "10977  14506  Tropes  \\n    You are a rhetoretician and linguist spe...   \n",
       "\n",
       "                                                       3  \n",
       "0      {\"Properties\": [\"simple\"], \"Explanation\": \"The...  \n",
       "1      {\"Properties\": [\"simple\"], \"Explanation\": \"The...  \n",
       "2      {\"Properties\": [\"simple\"], \"Explanation\": \"The...  \n",
       "3      {\"Properties\": [\"simple\"], \"Explanation\": \"The...  \n",
       "4      {\"Properties\": [\"simple\"], \"Explanation\": \"The...  \n",
       "...                                                  ...  \n",
       "10973  {\"Properties\": [\"synecdoche\", \"metonymy\", \"eup...  \n",
       "10974  {\\n\"Properties\": [\"metonymy\"],\\n\"Explanation\":...  \n",
       "10975  {\"Properties\": [\"hyperbole\"], \"Explanation\": \"...  \n",
       "10976  {\"Properties\": [\"hyperbole\"], \"Explanation\": \"...  \n",
       "10977  {\"Properties\": [\"hyperbole\"], \"Explanation\": \"...  \n",
       "\n",
       "[10978 rows x 4 columns]"
      ]
     },
     "execution_count": 182,
     "metadata": {},
     "output_type": "execute_result"
    }
   ],
   "source": [
    "ndf"
   ]
  },
  {
   "cell_type": "code",
   "execution_count": 183,
   "id": "28a56992-de00-4b2e-8a80-388419de1773",
   "metadata": {},
   "outputs": [],
   "source": [
    "ndf.to_csv(\"newGPTresponses-2.csv\",index=None)"
   ]
  },
  {
   "cell_type": "code",
   "execution_count": 184,
   "id": "ce8223eb-5cff-40ed-b30d-b35b33b0e17c",
   "metadata": {},
   "outputs": [],
   "source": [
    "# rows up to: 3260 are duplicates\n",
    "ndf2 = pd.read_csv(\"newGPTresponses-2.csv\",skiprows=3260,header=None)"
   ]
  },
  {
   "cell_type": "code",
   "execution_count": 185,
   "id": "4aff7b3c-24b1-4f62-8e93-8836010080dd",
   "metadata": {},
   "outputs": [],
   "source": [
    "ndf2.to_csv(\"newGPTresponses-3.csv\",index=None) #.iloc[3][2]"
   ]
  },
  {
   "cell_type": "code",
   "execution_count": 186,
   "id": "6da2933d-b381-4bda-8694-f1680c7578a4",
   "metadata": {},
   "outputs": [],
   "source": [
    "ndf3 = pd.read_csv(\"newGPTresponses-3.csv\")"
   ]
  },
  {
   "cell_type": "code",
   "execution_count": 191,
   "id": "2e258c2d-6747-4fb2-9e78-3b7d162e820f",
   "metadata": {},
   "outputs": [],
   "source": [
    "ndf3.columns = ['sentence_id','feature_id','prompt','response']"
   ]
  },
  {
   "cell_type": "code",
   "execution_count": 373,
   "id": "f47dc25c-ace3-42cd-b402-c8dc516552de",
   "metadata": {},
   "outputs": [
    {
     "data": {
      "text/html": [
       "<div>\n",
       "<style scoped>\n",
       "    .dataframe tbody tr th:only-of-type {\n",
       "        vertical-align: middle;\n",
       "    }\n",
       "\n",
       "    .dataframe tbody tr th {\n",
       "        vertical-align: top;\n",
       "    }\n",
       "\n",
       "    .dataframe thead th {\n",
       "        text-align: right;\n",
       "    }\n",
       "</style>\n",
       "<table border=\"1\" class=\"dataframe\">\n",
       "  <thead>\n",
       "    <tr style=\"text-align: right;\">\n",
       "      <th></th>\n",
       "      <th>sentence_id</th>\n",
       "      <th>feature_id</th>\n",
       "      <th>prompt</th>\n",
       "      <th>response</th>\n",
       "    </tr>\n",
       "  </thead>\n",
       "  <tbody>\n",
       "    <tr>\n",
       "      <th>0</th>\n",
       "      <td>311</td>\n",
       "      <td>Aspect</td>\n",
       "      <td>\\n    You are a rhetoretician and linguist spe...</td>\n",
       "      <td>{\"Properties\": [\"simple\"], \"Explanation\": \"The...</td>\n",
       "    </tr>\n",
       "    <tr>\n",
       "      <th>1</th>\n",
       "      <td>311</td>\n",
       "      <td>Aspect</td>\n",
       "      <td>\\n    You are a rhetoretician and linguist spe...</td>\n",
       "      <td>{\\n\"Properties\": [\"simple\"],\\n\"Explanation\": \"...</td>\n",
       "    </tr>\n",
       "    <tr>\n",
       "      <th>2</th>\n",
       "      <td>311</td>\n",
       "      <td>Aspect</td>\n",
       "      <td>\\n    You are a rhetoretician and linguist spe...</td>\n",
       "      <td>{\"Properties\": [\"simple\"], \"Explanation\": \"The...</td>\n",
       "    </tr>\n",
       "    <tr>\n",
       "      <th>3</th>\n",
       "      <td>313</td>\n",
       "      <td>Aspect</td>\n",
       "      <td>\\n    You are a rhetoretician and linguist spe...</td>\n",
       "      <td>{\"Properties\": [\"simple\"], \"Explanation\": \"The...</td>\n",
       "    </tr>\n",
       "    <tr>\n",
       "      <th>4</th>\n",
       "      <td>313</td>\n",
       "      <td>Aspect</td>\n",
       "      <td>\\n    You are a rhetoretician and linguist spe...</td>\n",
       "      <td>{\"Properties\": [\"simple\"], \"Explanation\": \"The...</td>\n",
       "    </tr>\n",
       "  </tbody>\n",
       "</table>\n",
       "</div>"
      ],
      "text/plain": [
       "   sentence_id feature_id                                             prompt  \\\n",
       "0          311     Aspect  \\n    You are a rhetoretician and linguist spe...   \n",
       "1          311     Aspect  \\n    You are a rhetoretician and linguist spe...   \n",
       "2          311     Aspect  \\n    You are a rhetoretician and linguist spe...   \n",
       "3          313     Aspect  \\n    You are a rhetoretician and linguist spe...   \n",
       "4          313     Aspect  \\n    You are a rhetoretician and linguist spe...   \n",
       "\n",
       "                                            response  \n",
       "0  {\"Properties\": [\"simple\"], \"Explanation\": \"The...  \n",
       "1  {\\n\"Properties\": [\"simple\"],\\n\"Explanation\": \"...  \n",
       "2  {\"Properties\": [\"simple\"], \"Explanation\": \"The...  \n",
       "3  {\"Properties\": [\"simple\"], \"Explanation\": \"The...  \n",
       "4  {\"Properties\": [\"simple\"], \"Explanation\": \"The...  "
      ]
     },
     "execution_count": 373,
     "metadata": {},
     "output_type": "execute_result"
    }
   ],
   "source": [
    "ndf3.head()"
   ]
  },
  {
   "cell_type": "code",
   "execution_count": 277,
   "id": "5358f56f-d57f-406b-8a23-3054a6bbf844",
   "metadata": {
    "tags": []
   },
   "outputs": [
    {
     "name": "stderr",
     "output_type": "stream",
     "text": [
      "100%|███████████████████████████████████████████████████████████████████████████████████████████████████████| 324/324 [00:14<00:00, 21.65it/s]\n"
     ]
    }
   ],
   "source": [
    "importlib.reload(utils)\n",
    "new_gpt_df = utils.getGPTFeatures(ndf3)"
   ]
  },
  {
   "cell_type": "code",
   "execution_count": 278,
   "id": "8ab4ee1d-cfb3-42e0-80e5-6b471cf4c46f",
   "metadata": {},
   "outputs": [
    {
     "data": {
      "text/html": [
       "<div>\n",
       "<style scoped>\n",
       "    .dataframe tbody tr th:only-of-type {\n",
       "        vertical-align: middle;\n",
       "    }\n",
       "\n",
       "    .dataframe tbody tr th {\n",
       "        vertical-align: top;\n",
       "    }\n",
       "\n",
       "    .dataframe thead th {\n",
       "        text-align: right;\n",
       "    }\n",
       "</style>\n",
       "<table border=\"1\" class=\"dataframe\">\n",
       "  <thead>\n",
       "    <tr style=\"text-align: right;\">\n",
       "      <th></th>\n",
       "      <th>sentence_id</th>\n",
       "      <th>count</th>\n",
       "      <th>properties</th>\n",
       "      <th>all_properties</th>\n",
       "      <th>all_count</th>\n",
       "      <th>feature_id</th>\n",
       "    </tr>\n",
       "  </thead>\n",
       "  <tbody>\n",
       "    <tr>\n",
       "      <th>0</th>\n",
       "      <td>311</td>\n",
       "      <td>1</td>\n",
       "      <td>[{simple}]</td>\n",
       "      <td>[{simple}, {simple}, {simple}]</td>\n",
       "      <td>3</td>\n",
       "      <td>Aspect</td>\n",
       "    </tr>\n",
       "    <tr>\n",
       "      <th>1</th>\n",
       "      <td>311</td>\n",
       "      <td>1</td>\n",
       "      <td>[{by sentence role, by position}]</td>\n",
       "      <td>[{by sentence role, by position}, {by sentence...</td>\n",
       "      <td>2</td>\n",
       "      <td>Emphasis</td>\n",
       "    </tr>\n",
       "    <tr>\n",
       "      <th>2</th>\n",
       "      <td>311</td>\n",
       "      <td>1</td>\n",
       "      <td>[{antithesis}]</td>\n",
       "      <td>[{antithesis}, {antithesis}, {antithesis}]</td>\n",
       "      <td>3</td>\n",
       "      <td>Figures_of_argument</td>\n",
       "    </tr>\n",
       "    <tr>\n",
       "      <th>3</th>\n",
       "      <td>311</td>\n",
       "      <td>2</td>\n",
       "      <td>[{agnominatio, emphasis}, {agnominatio, emphas...</td>\n",
       "      <td>[{agnominatio, emphasis}, {agnominatio, emphas...</td>\n",
       "      <td>2</td>\n",
       "      <td>Figures_of_word_choice</td>\n",
       "    </tr>\n",
       "    <tr>\n",
       "      <th>4</th>\n",
       "      <td>311</td>\n",
       "      <td>1</td>\n",
       "      <td>[{Old English Core, Latin/Greek}]</td>\n",
       "      <td>[{Old English Core, Latin/Greek}]</td>\n",
       "      <td>1</td>\n",
       "      <td>Language_of_origin</td>\n",
       "    </tr>\n",
       "    <tr>\n",
       "      <th>...</th>\n",
       "      <td>...</td>\n",
       "      <td>...</td>\n",
       "      <td>...</td>\n",
       "      <td>...</td>\n",
       "      <td>...</td>\n",
       "      <td>...</td>\n",
       "    </tr>\n",
       "    <tr>\n",
       "      <th>3375</th>\n",
       "      <td>47</td>\n",
       "      <td>1</td>\n",
       "      <td>[{doubling}]</td>\n",
       "      <td>[{doubling}, {doubling}, {doubling}]</td>\n",
       "      <td>3</td>\n",
       "      <td>New_words_and_changing_uses</td>\n",
       "    </tr>\n",
       "    <tr>\n",
       "      <th>3376</th>\n",
       "      <td>47</td>\n",
       "      <td>1</td>\n",
       "      <td>[{polysyndenton}]</td>\n",
       "      <td>[{polysyndenton}, {polysyndenton}, {polysynden...</td>\n",
       "      <td>3</td>\n",
       "      <td>Series</td>\n",
       "    </tr>\n",
       "    <tr>\n",
       "      <th>3377</th>\n",
       "      <td>6125</td>\n",
       "      <td>1</td>\n",
       "      <td>[{stative}]</td>\n",
       "      <td>[{stative}]</td>\n",
       "      <td>1</td>\n",
       "      <td>Predication</td>\n",
       "    </tr>\n",
       "    <tr>\n",
       "      <th>3378</th>\n",
       "      <td>6125</td>\n",
       "      <td>1</td>\n",
       "      <td>[{}]</td>\n",
       "      <td>[{}, {}, {}]</td>\n",
       "      <td>3</td>\n",
       "      <td>Series</td>\n",
       "    </tr>\n",
       "    <tr>\n",
       "      <th>3379</th>\n",
       "      <td>6125</td>\n",
       "      <td>2</td>\n",
       "      <td>[{humans, rhetorical participants}, {humans}]</td>\n",
       "      <td>[{humans}, {humans, rhetorical participants}, ...</td>\n",
       "      <td>3</td>\n",
       "      <td>Subject_choices</td>\n",
       "    </tr>\n",
       "  </tbody>\n",
       "</table>\n",
       "<p>3380 rows × 6 columns</p>\n",
       "</div>"
      ],
      "text/plain": [
       "      sentence_id  count                                         properties  \\\n",
       "0             311      1                                         [{simple}]   \n",
       "1             311      1                  [{by sentence role, by position}]   \n",
       "2             311      1                                     [{antithesis}]   \n",
       "3             311      2  [{agnominatio, emphasis}, {agnominatio, emphas...   \n",
       "4             311      1                  [{Old English Core, Latin/Greek}]   \n",
       "...           ...    ...                                                ...   \n",
       "3375           47      1                                       [{doubling}]   \n",
       "3376           47      1                                  [{polysyndenton}]   \n",
       "3377         6125      1                                        [{stative}]   \n",
       "3378         6125      1                                               [{}]   \n",
       "3379         6125      2      [{humans, rhetorical participants}, {humans}]   \n",
       "\n",
       "                                         all_properties  all_count  \\\n",
       "0                        [{simple}, {simple}, {simple}]          3   \n",
       "1     [{by sentence role, by position}, {by sentence...          2   \n",
       "2            [{antithesis}, {antithesis}, {antithesis}]          3   \n",
       "3     [{agnominatio, emphasis}, {agnominatio, emphas...          2   \n",
       "4                     [{Old English Core, Latin/Greek}]          1   \n",
       "...                                                 ...        ...   \n",
       "3375               [{doubling}, {doubling}, {doubling}]          3   \n",
       "3376  [{polysyndenton}, {polysyndenton}, {polysynden...          3   \n",
       "3377                                        [{stative}]          1   \n",
       "3378                                       [{}, {}, {}]          3   \n",
       "3379  [{humans}, {humans, rhetorical participants}, ...          3   \n",
       "\n",
       "                       feature_id  \n",
       "0                          Aspect  \n",
       "1                        Emphasis  \n",
       "2             Figures_of_argument  \n",
       "3          Figures_of_word_choice  \n",
       "4              Language_of_origin  \n",
       "...                           ...  \n",
       "3375  New_words_and_changing_uses  \n",
       "3376                       Series  \n",
       "3377                  Predication  \n",
       "3378                       Series  \n",
       "3379              Subject_choices  \n",
       "\n",
       "[3380 rows x 6 columns]"
      ]
     },
     "execution_count": 278,
     "metadata": {},
     "output_type": "execute_result"
    }
   ],
   "source": [
    "new_gpt_df"
   ]
  },
  {
   "cell_type": "code",
   "execution_count": null,
   "id": "7c709a35-6da2-48d5-b003-e76407f92611",
   "metadata": {},
   "outputs": [],
   "source": []
  },
  {
   "cell_type": "markdown",
   "id": "03f6d7ce-48be-4ae5-9822-f6d63bb066f4",
   "metadata": {},
   "source": [
    "# Merge new GPT responses merge(new_gpt_df, gpt_df)\n",
    "\n",
    "Once we have the new responses, merge into the GPT dataframe by removing the incorrect ones, and appending the new ones."
   ]
  },
  {
   "cell_type": "code",
   "execution_count": 283,
   "id": "11c751d7-42ae-4723-8fb9-5941710ca7fd",
   "metadata": {},
   "outputs": [],
   "source": [
    "importlib.reload(utils)\n",
    "connection = utils.connectDB()\n",
    "\n",
    "query = 'SELECT * FROM ebdb.ChatGPT where annotator_id in (20,21,22);'\n",
    "gpt = pd.read_sql(query, connection)"
   ]
  },
  {
   "cell_type": "code",
   "execution_count": 283,
   "id": "3e69b5b9-445e-41bd-9790-f3c4d4d1ad32",
   "metadata": {},
   "outputs": [],
   "source": [
    "importlib.reload(utils)\n",
    "gpt_df = utils.getGPTFeatures(gpt)"
   ]
  },
  {
   "cell_type": "code",
   "execution_count": 364,
   "id": "86dcc50e-1fda-4e5c-a03a-627daf0b0ccd",
   "metadata": {},
   "outputs": [
    {
     "data": {
      "text/plain": [
       "4991"
      ]
     },
     "execution_count": 364,
     "metadata": {},
     "output_type": "execute_result"
    }
   ],
   "source": [
    "len(gpt_df)"
   ]
  },
  {
   "cell_type": "code",
   "execution_count": 365,
   "id": "c93f7239-e609-465b-84a9-e5b222712053",
   "metadata": {},
   "outputs": [
    {
     "data": {
      "text/html": [
       "<div>\n",
       "<style scoped>\n",
       "    .dataframe tbody tr th:only-of-type {\n",
       "        vertical-align: middle;\n",
       "    }\n",
       "\n",
       "    .dataframe tbody tr th {\n",
       "        vertical-align: top;\n",
       "    }\n",
       "\n",
       "    .dataframe thead th {\n",
       "        text-align: right;\n",
       "    }\n",
       "</style>\n",
       "<table border=\"1\" class=\"dataframe\">\n",
       "  <thead>\n",
       "    <tr style=\"text-align: right;\">\n",
       "      <th></th>\n",
       "      <th>sentence_id</th>\n",
       "      <th>count</th>\n",
       "      <th>properties</th>\n",
       "      <th>all_properties</th>\n",
       "      <th>all_count</th>\n",
       "      <th>feature_id</th>\n",
       "    </tr>\n",
       "  </thead>\n",
       "  <tbody>\n",
       "    <tr>\n",
       "      <th>0</th>\n",
       "      <td>265</td>\n",
       "      <td>1</td>\n",
       "      <td>[{simple}]</td>\n",
       "      <td>[{simple}, {simple}, {simple}, {simple}, {simp...</td>\n",
       "      <td>5</td>\n",
       "      <td>Aspect</td>\n",
       "    </tr>\n",
       "    <tr>\n",
       "      <th>1</th>\n",
       "      <td>265</td>\n",
       "      <td>0</td>\n",
       "      <td>[]</td>\n",
       "      <td>[]</td>\n",
       "      <td>0</td>\n",
       "      <td>Mood</td>\n",
       "    </tr>\n",
       "    <tr>\n",
       "      <th>2</th>\n",
       "      <td>265</td>\n",
       "      <td>0</td>\n",
       "      <td>[]</td>\n",
       "      <td>[]</td>\n",
       "      <td>0</td>\n",
       "      <td>Verb_choices</td>\n",
       "    </tr>\n",
       "    <tr>\n",
       "      <th>3</th>\n",
       "      <td>265</td>\n",
       "      <td>1</td>\n",
       "      <td>[{subordinate}]</td>\n",
       "      <td>[{subordinate}]</td>\n",
       "      <td>1</td>\n",
       "      <td>Modifying_clauses</td>\n",
       "    </tr>\n",
       "    <tr>\n",
       "      <th>4</th>\n",
       "      <td>265</td>\n",
       "      <td>1</td>\n",
       "      <td>[{multiplying and embedding modifiers, single ...</td>\n",
       "      <td>[{multiplying and embedding modifiers, single ...</td>\n",
       "      <td>5</td>\n",
       "      <td>Modifying_phrases</td>\n",
       "    </tr>\n",
       "  </tbody>\n",
       "</table>\n",
       "</div>"
      ],
      "text/plain": [
       "   sentence_id  count                                         properties  \\\n",
       "0          265      1                                         [{simple}]   \n",
       "1          265      0                                                 []   \n",
       "2          265      0                                                 []   \n",
       "3          265      1                                    [{subordinate}]   \n",
       "4          265      1  [{multiplying and embedding modifiers, single ...   \n",
       "\n",
       "                                      all_properties  all_count  \\\n",
       "0  [{simple}, {simple}, {simple}, {simple}, {simp...          5   \n",
       "1                                                 []          0   \n",
       "2                                                 []          0   \n",
       "3                                    [{subordinate}]          1   \n",
       "4  [{multiplying and embedding modifiers, single ...          5   \n",
       "\n",
       "          feature_id  \n",
       "0             Aspect  \n",
       "1               Mood  \n",
       "2       Verb_choices  \n",
       "3  Modifying_clauses  \n",
       "4  Modifying_phrases  "
      ]
     },
     "execution_count": 365,
     "metadata": {},
     "output_type": "execute_result"
    }
   ],
   "source": [
    "gpt_df.head()"
   ]
  },
  {
   "cell_type": "code",
   "execution_count": 366,
   "id": "0cd9e029-9822-4090-89df-c686840128fe",
   "metadata": {},
   "outputs": [
    {
     "data": {
      "text/html": [
       "<div>\n",
       "<style scoped>\n",
       "    .dataframe tbody tr th:only-of-type {\n",
       "        vertical-align: middle;\n",
       "    }\n",
       "\n",
       "    .dataframe tbody tr th {\n",
       "        vertical-align: top;\n",
       "    }\n",
       "\n",
       "    .dataframe thead th {\n",
       "        text-align: right;\n",
       "    }\n",
       "</style>\n",
       "<table border=\"1\" class=\"dataframe\">\n",
       "  <thead>\n",
       "    <tr style=\"text-align: right;\">\n",
       "      <th></th>\n",
       "      <th>sentence_id</th>\n",
       "      <th>count</th>\n",
       "      <th>properties</th>\n",
       "      <th>all_properties</th>\n",
       "      <th>all_count</th>\n",
       "      <th>feature_id</th>\n",
       "    </tr>\n",
       "  </thead>\n",
       "  <tbody>\n",
       "    <tr>\n",
       "      <th>0</th>\n",
       "      <td>311</td>\n",
       "      <td>1</td>\n",
       "      <td>[{simple}]</td>\n",
       "      <td>[{simple}, {simple}, {simple}]</td>\n",
       "      <td>3</td>\n",
       "      <td>Aspect</td>\n",
       "    </tr>\n",
       "    <tr>\n",
       "      <th>1</th>\n",
       "      <td>311</td>\n",
       "      <td>1</td>\n",
       "      <td>[{by sentence role, by position}]</td>\n",
       "      <td>[{by sentence role, by position}, {by sentence...</td>\n",
       "      <td>2</td>\n",
       "      <td>Emphasis</td>\n",
       "    </tr>\n",
       "    <tr>\n",
       "      <th>2</th>\n",
       "      <td>311</td>\n",
       "      <td>1</td>\n",
       "      <td>[{antithesis}]</td>\n",
       "      <td>[{antithesis}, {antithesis}, {antithesis}]</td>\n",
       "      <td>3</td>\n",
       "      <td>Figures_of_argument</td>\n",
       "    </tr>\n",
       "    <tr>\n",
       "      <th>3</th>\n",
       "      <td>311</td>\n",
       "      <td>2</td>\n",
       "      <td>[{agnominatio, emphasis}, {agnominatio, emphas...</td>\n",
       "      <td>[{agnominatio, emphasis}, {agnominatio, emphas...</td>\n",
       "      <td>2</td>\n",
       "      <td>Figures_of_word_choice</td>\n",
       "    </tr>\n",
       "    <tr>\n",
       "      <th>4</th>\n",
       "      <td>311</td>\n",
       "      <td>1</td>\n",
       "      <td>[{Old English Core, Latin/Greek}]</td>\n",
       "      <td>[{Old English Core, Latin/Greek}]</td>\n",
       "      <td>1</td>\n",
       "      <td>Language_of_origin</td>\n",
       "    </tr>\n",
       "  </tbody>\n",
       "</table>\n",
       "</div>"
      ],
      "text/plain": [
       "   sentence_id  count                                         properties  \\\n",
       "0          311      1                                         [{simple}]   \n",
       "1          311      1                  [{by sentence role, by position}]   \n",
       "2          311      1                                     [{antithesis}]   \n",
       "3          311      2  [{agnominatio, emphasis}, {agnominatio, emphas...   \n",
       "4          311      1                  [{Old English Core, Latin/Greek}]   \n",
       "\n",
       "                                      all_properties  all_count  \\\n",
       "0                     [{simple}, {simple}, {simple}]          3   \n",
       "1  [{by sentence role, by position}, {by sentence...          2   \n",
       "2         [{antithesis}, {antithesis}, {antithesis}]          3   \n",
       "3  [{agnominatio, emphasis}, {agnominatio, emphas...          2   \n",
       "4                  [{Old English Core, Latin/Greek}]          1   \n",
       "\n",
       "               feature_id  \n",
       "0                  Aspect  \n",
       "1                Emphasis  \n",
       "2     Figures_of_argument  \n",
       "3  Figures_of_word_choice  \n",
       "4      Language_of_origin  "
      ]
     },
     "execution_count": 366,
     "metadata": {},
     "output_type": "execute_result"
    }
   ],
   "source": [
    "new_gpt_df.head()"
   ]
  },
  {
   "cell_type": "code",
   "execution_count": 300,
   "id": "ffe266f4-381f-4b59-8c6f-250b8f0a19e3",
   "metadata": {},
   "outputs": [
    {
     "data": {
      "text/plain": [
       "numpy.ndarray"
      ]
     },
     "execution_count": 300,
     "metadata": {},
     "output_type": "execute_result"
    }
   ],
   "source": [
    "type(new_gpt_df['sentence_id'].unique())"
   ]
  },
  {
   "cell_type": "code",
   "execution_count": 367,
   "id": "9fe178fa-6622-4ff3-a36e-3d94c8d9d666",
   "metadata": {},
   "outputs": [],
   "source": [
    "for i,row in enumerate(list(gpt_df.iterrows())):\n",
    "    sid = row[1]['sentence_id']\n",
    "    fid = row[1]['feature_id']\n",
    "    \n",
    "    _nd = new_gpt_df[new_gpt_df['sentence_id']==sid]\n",
    "    \n",
    "    _nd_features = _nd['feature_id'].unique()\n",
    "    \n",
    "    if fid in _nd_features:\n",
    "        props = row[1]['all_properties']\n",
    "        _nd_props = _nd[_nd['feature_id']==fid].iloc[0]['all_properties']\n",
    "        \n",
    "        \n",
    "        # remove incorrect properties from props\n",
    "        # add the new properties from _nd_props\n",
    "        new_list = []\n",
    "        for _set in props:\n",
    "            if len(_set.intersection(set(features.f_od[fid]))) == 0:\n",
    "                pass\n",
    "            else:\n",
    "                new_list.append(_set)\n",
    "        \n",
    "        if len(_nd_props[0]) > 0:\n",
    "            new_list += _nd_props\n",
    "        \n",
    "        gpt_df.loc[((gpt_df['sentence_id'] == sid) & (gpt_df['feature_id'] == fid)),'all_properties'] = \\\n",
    "            gpt_df.loc[((gpt_df['sentence_id'] == sid) & (gpt_df['feature_id'] == fid)),'all_properties'].apply(lambda x: new_list) \n"
   ]
  },
  {
   "cell_type": "code",
   "execution_count": 368,
   "id": "117b3aa6-8f53-4e00-bf26-ff93ae89c1a5",
   "metadata": {},
   "outputs": [
    {
     "data": {
      "text/html": [
       "<div>\n",
       "<style scoped>\n",
       "    .dataframe tbody tr th:only-of-type {\n",
       "        vertical-align: middle;\n",
       "    }\n",
       "\n",
       "    .dataframe tbody tr th {\n",
       "        vertical-align: top;\n",
       "    }\n",
       "\n",
       "    .dataframe thead th {\n",
       "        text-align: right;\n",
       "    }\n",
       "</style>\n",
       "<table border=\"1\" class=\"dataframe\">\n",
       "  <thead>\n",
       "    <tr style=\"text-align: right;\">\n",
       "      <th></th>\n",
       "      <th>sentence_id</th>\n",
       "      <th>count</th>\n",
       "      <th>properties</th>\n",
       "      <th>all_properties</th>\n",
       "      <th>all_count</th>\n",
       "      <th>feature_id</th>\n",
       "    </tr>\n",
       "  </thead>\n",
       "  <tbody>\n",
       "    <tr>\n",
       "      <th>0</th>\n",
       "      <td>265</td>\n",
       "      <td>1</td>\n",
       "      <td>[{simple}]</td>\n",
       "      <td>[{simple}, {simple}, {simple}, {simple}, {simp...</td>\n",
       "      <td>5</td>\n",
       "      <td>Aspect</td>\n",
       "    </tr>\n",
       "    <tr>\n",
       "      <th>1</th>\n",
       "      <td>265</td>\n",
       "      <td>0</td>\n",
       "      <td>[]</td>\n",
       "      <td>[{indicative}, {indicative}, {indicative}]</td>\n",
       "      <td>0</td>\n",
       "      <td>Mood</td>\n",
       "    </tr>\n",
       "    <tr>\n",
       "      <th>2</th>\n",
       "      <td>265</td>\n",
       "      <td>0</td>\n",
       "      <td>[]</td>\n",
       "      <td>[]</td>\n",
       "      <td>0</td>\n",
       "      <td>Verb_choices</td>\n",
       "    </tr>\n",
       "    <tr>\n",
       "      <th>3</th>\n",
       "      <td>265</td>\n",
       "      <td>1</td>\n",
       "      <td>[{subordinate}]</td>\n",
       "      <td>[{subordinate}, {subordinate, adjective}, {sub...</td>\n",
       "      <td>1</td>\n",
       "      <td>Modifying_clauses</td>\n",
       "    </tr>\n",
       "    <tr>\n",
       "      <th>4</th>\n",
       "      <td>265</td>\n",
       "      <td>1</td>\n",
       "      <td>[{multiplying and embedding modifiers, single ...</td>\n",
       "      <td>[{multiplying and embedding modifiers, single ...</td>\n",
       "      <td>5</td>\n",
       "      <td>Modifying_phrases</td>\n",
       "    </tr>\n",
       "    <tr>\n",
       "      <th>5</th>\n",
       "      <td>265</td>\n",
       "      <td>1</td>\n",
       "      <td>[{left branching, middle branching, Periodic s...</td>\n",
       "      <td>[{left branching, middle branching, Periodic s...</td>\n",
       "      <td>3</td>\n",
       "      <td>Sentence_architecture</td>\n",
       "    </tr>\n",
       "    <tr>\n",
       "      <th>6</th>\n",
       "      <td>265</td>\n",
       "      <td>1</td>\n",
       "      <td>[{by sentence role, by position}]</td>\n",
       "      <td>[{by sentence role, by position}, {by sentence...</td>\n",
       "      <td>1</td>\n",
       "      <td>Emphasis</td>\n",
       "    </tr>\n",
       "  </tbody>\n",
       "</table>\n",
       "</div>"
      ],
      "text/plain": [
       "   sentence_id  count                                         properties  \\\n",
       "0          265      1                                         [{simple}]   \n",
       "1          265      0                                                 []   \n",
       "2          265      0                                                 []   \n",
       "3          265      1                                    [{subordinate}]   \n",
       "4          265      1  [{multiplying and embedding modifiers, single ...   \n",
       "5          265      1  [{left branching, middle branching, Periodic s...   \n",
       "6          265      1                  [{by sentence role, by position}]   \n",
       "\n",
       "                                      all_properties  all_count  \\\n",
       "0  [{simple}, {simple}, {simple}, {simple}, {simp...          5   \n",
       "1         [{indicative}, {indicative}, {indicative}]          0   \n",
       "2                                                 []          0   \n",
       "3  [{subordinate}, {subordinate, adjective}, {sub...          1   \n",
       "4  [{multiplying and embedding modifiers, single ...          5   \n",
       "5  [{left branching, middle branching, Periodic s...          3   \n",
       "6  [{by sentence role, by position}, {by sentence...          1   \n",
       "\n",
       "              feature_id  \n",
       "0                 Aspect  \n",
       "1                   Mood  \n",
       "2           Verb_choices  \n",
       "3      Modifying_clauses  \n",
       "4      Modifying_phrases  \n",
       "5  Sentence_architecture  \n",
       "6               Emphasis  "
      ]
     },
     "execution_count": 368,
     "metadata": {},
     "output_type": "execute_result"
    }
   ],
   "source": [
    "gpt_df[gpt_df['sentence_id']==265]"
   ]
  },
  {
   "cell_type": "markdown",
   "id": "cbaa1e1d-f0dd-4a57-b8e0-4b98fe3410cd",
   "metadata": {},
   "source": [
    "# Save GPT dataframe for downstream tasks"
   ]
  },
  {
   "cell_type": "code",
   "execution_count": 375,
   "id": "0fdfa9d9-1cb6-4966-9a64-a52a37367374",
   "metadata": {},
   "outputs": [],
   "source": [
    "gpt_df[[\"sentence_id\",\"all_properties\",\"feature_id\"]].to_csv(\"corrected_GPT_min.csv\",index=None)"
   ]
  },
  {
   "cell_type": "code",
   "execution_count": 370,
   "id": "a5d5fc49-b04e-406e-a68a-4ad7167a222c",
   "metadata": {},
   "outputs": [
    {
     "data": {
      "text/plain": [
       "4991"
      ]
     },
     "execution_count": 370,
     "metadata": {},
     "output_type": "execute_result"
    }
   ],
   "source": [
    "len(gpt_df)"
   ]
  },
  {
   "cell_type": "code",
   "execution_count": 374,
   "id": "14a3a442-a17d-40ab-b075-ddd553ccb3bd",
   "metadata": {},
   "outputs": [
    {
     "data": {
      "text/html": [
       "<div>\n",
       "<style scoped>\n",
       "    .dataframe tbody tr th:only-of-type {\n",
       "        vertical-align: middle;\n",
       "    }\n",
       "\n",
       "    .dataframe tbody tr th {\n",
       "        vertical-align: top;\n",
       "    }\n",
       "\n",
       "    .dataframe thead th {\n",
       "        text-align: right;\n",
       "    }\n",
       "</style>\n",
       "<table border=\"1\" class=\"dataframe\">\n",
       "  <thead>\n",
       "    <tr style=\"text-align: right;\">\n",
       "      <th></th>\n",
       "      <th>sentence_id</th>\n",
       "      <th>count</th>\n",
       "      <th>properties</th>\n",
       "      <th>all_properties</th>\n",
       "      <th>all_count</th>\n",
       "      <th>feature_id</th>\n",
       "    </tr>\n",
       "  </thead>\n",
       "  <tbody>\n",
       "    <tr>\n",
       "      <th>0</th>\n",
       "      <td>265</td>\n",
       "      <td>1</td>\n",
       "      <td>[{simple}]</td>\n",
       "      <td>[{simple}, {simple}, {simple}, {simple}, {simp...</td>\n",
       "      <td>5</td>\n",
       "      <td>Aspect</td>\n",
       "    </tr>\n",
       "    <tr>\n",
       "      <th>1</th>\n",
       "      <td>265</td>\n",
       "      <td>0</td>\n",
       "      <td>[]</td>\n",
       "      <td>[{indicative}, {indicative}, {indicative}]</td>\n",
       "      <td>0</td>\n",
       "      <td>Mood</td>\n",
       "    </tr>\n",
       "    <tr>\n",
       "      <th>2</th>\n",
       "      <td>265</td>\n",
       "      <td>0</td>\n",
       "      <td>[]</td>\n",
       "      <td>[]</td>\n",
       "      <td>0</td>\n",
       "      <td>Verb_choices</td>\n",
       "    </tr>\n",
       "    <tr>\n",
       "      <th>3</th>\n",
       "      <td>265</td>\n",
       "      <td>1</td>\n",
       "      <td>[{subordinate}]</td>\n",
       "      <td>[{subordinate}, {subordinate, adjective}, {sub...</td>\n",
       "      <td>1</td>\n",
       "      <td>Modifying_clauses</td>\n",
       "    </tr>\n",
       "    <tr>\n",
       "      <th>4</th>\n",
       "      <td>265</td>\n",
       "      <td>1</td>\n",
       "      <td>[{multiplying and embedding modifiers, single ...</td>\n",
       "      <td>[{multiplying and embedding modifiers, single ...</td>\n",
       "      <td>5</td>\n",
       "      <td>Modifying_phrases</td>\n",
       "    </tr>\n",
       "  </tbody>\n",
       "</table>\n",
       "</div>"
      ],
      "text/plain": [
       "   sentence_id  count                                         properties  \\\n",
       "0          265      1                                         [{simple}]   \n",
       "1          265      0                                                 []   \n",
       "2          265      0                                                 []   \n",
       "3          265      1                                    [{subordinate}]   \n",
       "4          265      1  [{multiplying and embedding modifiers, single ...   \n",
       "\n",
       "                                      all_properties  all_count  \\\n",
       "0  [{simple}, {simple}, {simple}, {simple}, {simp...          5   \n",
       "1         [{indicative}, {indicative}, {indicative}]          0   \n",
       "2                                                 []          0   \n",
       "3  [{subordinate}, {subordinate, adjective}, {sub...          1   \n",
       "4  [{multiplying and embedding modifiers, single ...          5   \n",
       "\n",
       "          feature_id  \n",
       "0             Aspect  \n",
       "1               Mood  \n",
       "2       Verb_choices  \n",
       "3  Modifying_clauses  \n",
       "4  Modifying_phrases  "
      ]
     },
     "execution_count": 374,
     "metadata": {},
     "output_type": "execute_result"
    }
   ],
   "source": [
    "gpt_df.head()"
   ]
  },
  {
   "cell_type": "code",
   "execution_count": null,
   "id": "3b74361f-ab69-4606-a0a3-4ec8f614bbad",
   "metadata": {},
   "outputs": [],
   "source": []
  }
 ],
 "metadata": {
  "kernelspec": {
   "display_name": "Python 3 (ipykernel)",
   "language": "python",
   "name": "python3"
  },
  "language_info": {
   "codemirror_mode": {
    "name": "ipython",
    "version": 3
   },
   "file_extension": ".py",
   "mimetype": "text/x-python",
   "name": "python",
   "nbconvert_exporter": "python",
   "pygments_lexer": "ipython3",
   "version": "3.11.7"
  }
 },
 "nbformat": 4,
 "nbformat_minor": 5
}
