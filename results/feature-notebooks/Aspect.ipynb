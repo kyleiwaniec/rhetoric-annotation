{
 "cells": [
  {
   "cell_type": "markdown",
   "id": "6d4737db-942e-4146-b5ac-c50cbdbb5dfe",
   "metadata": {},
   "source": [
    "<img src=\"a20_a21_a22_jaccard.svg\" style=\"text-align:center;width:50%;display:inline;\"><img src=\"a20_a21_a22_partial.svg\" style=\"text-align:center;width:50%;display:inline;\">"
   ]
  },
  {
   "cell_type": "markdown",
   "id": "267e2e49-0570-421f-abde-2be88b80b109",
   "metadata": {},
   "source": [
    "# Aspect"
   ]
  },
  {
   "cell_type": "markdown",
   "id": "d7de98c3-b66d-4779-9771-ea38072d38f1",
   "metadata": {},
   "source": [
    "### Aspect properties:\n",
    "* __simple__ — Expressing a simple fact. Examples: 'Rover eats bones.', 'Rover ate a bone.'\n",
    "* __perfect__ — Expressing a completed action. Exapmle: 'Rover has eaten a bone.'\n",
    "* __progressive__ — Expressing an ongoing, habitual, or incomplete action. Example: 'Rover is eating a bone.'\n",
    "* __perfect progressive__ — Expressing the end of an ongoing action. Example: 'Rover has been eating a bone.'\n",
    "\n",
    "\n",
    "Let's see the distribution of properties across all sentences which have `Aspect` as a feature.\n",
    "\n",
    "The most common property of `Aspect` is `Simple`. We'll remove all the sentences where all annotators and GPT agree on `Aspect:Simple`, and analyse the remaining sentences to understand the challenges of the `Aspect` feature.\n",
    "\n"
   ]
  },
  {
   "cell_type": "code",
   "execution_count": 1,
   "id": "1d5aab06-0752-4ef2-8d7c-47b602ce2bfd",
   "metadata": {},
   "outputs": [],
   "source": [
    "import pandas as pd\n",
    "import json\n",
    "import matplotlib.pyplot as plt\n",
    "import numpy as np\n",
    "from collections import Counter\n",
    "import utils\n",
    "import importlib\n",
    "import ast\n",
    "from tqdm import tqdm\n",
    "import re"
   ]
  },
  {
   "cell_type": "code",
   "execution_count": 2,
   "id": "ec60b8cd-ec02-48ab-9982-a2cf332bda34",
   "metadata": {},
   "outputs": [],
   "source": [
    "importlib.reload(utils)\n",
    "connection = utils.connectDB()"
   ]
  },
  {
   "cell_type": "code",
   "execution_count": 3,
   "id": "1a0d5ae5-5c1c-4cb0-bec8-b762970b9df8",
   "metadata": {},
   "outputs": [],
   "source": [
    "FEATURE = \"Aspect\"\n",
    "majority_property = 'simple'"
   ]
  },
  {
   "cell_type": "code",
   "execution_count": 5,
   "id": "894e933c-de33-468e-8624-ee41ddd751be",
   "metadata": {},
   "outputs": [],
   "source": [
    "# IMPORTANT: GPT data was corrected. Read the corrected GPT sheet NOT the database\n",
    "gpt_df = pd.read_csv(\"data/GPT/corrected_GPT_min.csv\")"
   ]
  },
  {
   "cell_type": "code",
   "execution_count": 6,
   "id": "4309af0c-a9e9-46de-96e6-211c529d9743",
   "metadata": {},
   "outputs": [],
   "source": [
    "# When this data is read in the majority_prop Type is incomaptible with the script downstream, so we just recreate this column each time\n",
    "gpt_df['majority_prop'] = [list(utils.find_majority(ast.literal_eval(l))[0]) for l in gpt_df['all_properties']]"
   ]
  },
  {
   "cell_type": "code",
   "execution_count": 7,
   "id": "98de1e52-e2a6-4d2d-b524-b49f1f72da2a",
   "metadata": {},
   "outputs": [
    {
     "data": {
      "text/html": [
       "<div>\n",
       "<style scoped>\n",
       "    .dataframe tbody tr th:only-of-type {\n",
       "        vertical-align: middle;\n",
       "    }\n",
       "\n",
       "    .dataframe tbody tr th {\n",
       "        vertical-align: top;\n",
       "    }\n",
       "\n",
       "    .dataframe thead th {\n",
       "        text-align: right;\n",
       "    }\n",
       "</style>\n",
       "<table border=\"1\" class=\"dataframe\">\n",
       "  <thead>\n",
       "    <tr style=\"text-align: right;\">\n",
       "      <th></th>\n",
       "      <th>sentence_id</th>\n",
       "      <th>all_properties</th>\n",
       "      <th>feature_id</th>\n",
       "      <th>majority_prop</th>\n",
       "    </tr>\n",
       "  </thead>\n",
       "  <tbody>\n",
       "    <tr>\n",
       "      <th>0</th>\n",
       "      <td>265</td>\n",
       "      <td>[{'simple'}, {'simple'}, {'simple'}, {'simple'...</td>\n",
       "      <td>Aspect</td>\n",
       "      <td>[simple]</td>\n",
       "    </tr>\n",
       "    <tr>\n",
       "      <th>1</th>\n",
       "      <td>265</td>\n",
       "      <td>[{'indicative'}, {'indicative'}, {'indicative'}]</td>\n",
       "      <td>Mood</td>\n",
       "      <td>[indicative]</td>\n",
       "    </tr>\n",
       "    <tr>\n",
       "      <th>2</th>\n",
       "      <td>265</td>\n",
       "      <td>[]</td>\n",
       "      <td>Verb_choices</td>\n",
       "      <td>[]</td>\n",
       "    </tr>\n",
       "    <tr>\n",
       "      <th>3</th>\n",
       "      <td>265</td>\n",
       "      <td>[{'subordinate'}, {'subordinate', 'adjective'}...</td>\n",
       "      <td>Modifying_clauses</td>\n",
       "      <td>[subordinate, adjective]</td>\n",
       "    </tr>\n",
       "    <tr>\n",
       "      <th>4</th>\n",
       "      <td>265</td>\n",
       "      <td>[{'multiplying and embedding modifiers', 'sing...</td>\n",
       "      <td>Modifying_phrases</td>\n",
       "      <td>[single word modifiers, multiplying and embedd...</td>\n",
       "    </tr>\n",
       "  </tbody>\n",
       "</table>\n",
       "</div>"
      ],
      "text/plain": [
       "   sentence_id                                     all_properties  \\\n",
       "0          265  [{'simple'}, {'simple'}, {'simple'}, {'simple'...   \n",
       "1          265   [{'indicative'}, {'indicative'}, {'indicative'}]   \n",
       "2          265                                                 []   \n",
       "3          265  [{'subordinate'}, {'subordinate', 'adjective'}...   \n",
       "4          265  [{'multiplying and embedding modifiers', 'sing...   \n",
       "\n",
       "          feature_id                                      majority_prop  \n",
       "0             Aspect                                           [simple]  \n",
       "1               Mood                                       [indicative]  \n",
       "2       Verb_choices                                                 []  \n",
       "3  Modifying_clauses                           [subordinate, adjective]  \n",
       "4  Modifying_phrases  [single word modifiers, multiplying and embedd...  "
      ]
     },
     "execution_count": 7,
     "metadata": {},
     "output_type": "execute_result"
    }
   ],
   "source": [
    "gpt_df.head()"
   ]
  },
  {
   "cell_type": "code",
   "execution_count": 8,
   "id": "6f92067b-81c7-4af5-ac9f-b44d74ed1a55",
   "metadata": {
    "tags": []
   },
   "outputs": [
    {
     "name": "stderr",
     "output_type": "stream",
     "text": [
      "/Users/kylehamilton/opt/anaconda3/envs/annotation/lib/python3.9/site-packages/pandas/io/sql.py:762: UserWarning: pandas only support SQLAlchemy connectable(engine/connection) ordatabase string URI or sqlite3 DBAPI2 connectionother DBAPI2 objects are not tested, please consider using SQLAlchemy\n",
      "  warnings.warn(\n"
     ]
    }
   ],
   "source": [
    "query = 'select * from annotations where annotator_id in (20,21,22) and completed=1;'\n",
    "annotations = pd.read_sql(query, connection)"
   ]
  },
  {
   "cell_type": "markdown",
   "id": "77bb4e0b-0390-4782-89d2-2b0c9ef7eacb",
   "metadata": {},
   "source": [
    "### Format the human annotations like GPT for making comaprisons\n",
    "This will roll the annotations up to the sentence level"
   ]
  },
  {
   "cell_type": "code",
   "execution_count": 9,
   "id": "ac2087e8-29a9-48fc-8a93-12e74e0b3afd",
   "metadata": {},
   "outputs": [],
   "source": [
    "a_20 = utils.annotationsToGPTFormat(20,annotations)\n",
    "a_21 = utils.annotationsToGPTFormat(21,annotations)\n",
    "a_22 = utils.annotationsToGPTFormat(22,annotations)"
   ]
  },
  {
   "cell_type": "code",
   "execution_count": 10,
   "id": "af2bdbe9-6d5b-44db-8f3f-36887a218e4e",
   "metadata": {},
   "outputs": [
    {
     "data": {
      "image/png": "[encoded data removed]",
      "text/plain": [
       "<Figure size 1500x500 with 3 Axes>"
      ]
     },
     "metadata": {},
     "output_type": "display_data"
    }
   ],
   "source": [
    "utils.plotPropertyDistributions(FEATURE,a_20,a_21,a_22)"
   ]
  },
  {
   "cell_type": "code",
   "execution_count": 11,
   "id": "5b8e8fc7-5bbf-4f28-8b04-50105add6816",
   "metadata": {},
   "outputs": [],
   "source": [
    "features_gpt = list(gpt_df.groupby('feature_id').agg(list).reset_index()['feature_id'])\n",
    "idx_gpt = features_gpt.index(FEATURE)\n",
    "gpt_df_properties = gpt_df.groupby('feature_id').agg(list).reset_index().loc[idx_gpt][['all_properties','sentence_id']]\n",
    "cGPT = Counter([str(utils.find_majority(ast.literal_eval(l))[0]) for l in gpt_df_properties['all_properties']])"
   ]
  },
  {
   "cell_type": "code",
   "execution_count": 12,
   "id": "7b493ecf-c0ec-48bf-99c0-ef247841e4f0",
   "metadata": {},
   "outputs": [
    {
     "data": {
      "image/png": "[encoded data removed]",
      "text/plain": [
       "<Figure size 640x480 with 1 Axes>"
      ]
     },
     "metadata": {},
     "output_type": "display_data"
    }
   ],
   "source": [
    "plt.barh(list(cGPT.keys()),list(cGPT.values()))\n",
    "plt.title(\"GPT majority vote for \"+FEATURE)\n",
    "plt.show()"
   ]
  },
  {
   "cell_type": "markdown",
   "id": "67789903-8925-4c77-8355-50df95934056",
   "metadata": {},
   "source": [
    "### Find all the sentences where there is agreement on the majority property"
   ]
  },
  {
   "cell_type": "code",
   "execution_count": null,
   "id": "c03b06f0-5c60-413e-a8ae-96a541ebee7f",
   "metadata": {},
   "outputs": [],
   "source": []
  },
  {
   "cell_type": "code",
   "execution_count": 13,
   "id": "c32e7e67-55da-4037-886b-8b17371a0a51",
   "metadata": {},
   "outputs": [],
   "source": [
    "a_20_sent = set(a_20[a_20['properties'].apply(lambda x: x == [majority_property])]['sentence_id'])\n",
    "a_21_sent = set(a_21[a_21['properties'].apply(lambda x: x == [majority_property])]['sentence_id'])\n",
    "a_22_sent = set(a_22[a_22['properties'].apply(lambda x: x == [majority_property])]['sentence_id'])\n",
    "gpt_df_sent = set(gpt_df[gpt_df['majority_prop'].apply(lambda x: x == [majority_property])]['sentence_id'])"
   ]
  },
  {
   "cell_type": "code",
   "execution_count": 14,
   "id": "36718223-8ef0-4e82-8eda-6f19cd95bd54",
   "metadata": {},
   "outputs": [],
   "source": [
    "all_agreed_sentences = a_20_sent.intersection(a_21_sent,a_22_sent,gpt_df_sent)"
   ]
  },
  {
   "cell_type": "code",
   "execution_count": 15,
   "id": "46594dd0-fffd-4204-a834-849ddbbd8204",
   "metadata": {},
   "outputs": [
    {
     "data": {
      "text/plain": [
       "172"
      ]
     },
     "execution_count": 15,
     "metadata": {},
     "output_type": "execute_result"
    }
   ],
   "source": [
    "len(all_agreed_sentences)"
   ]
  },
  {
   "cell_type": "markdown",
   "id": "9e0b2c2f-cd90-4d42-85a4-f64c22f0d428",
   "metadata": {},
   "source": [
    "### Find all the sentences (and the respective annotations) that are not in the agreed sentences list"
   ]
  },
  {
   "cell_type": "raw",
   "id": "688f1faf-43bf-4a81-b349-4eb9a68cf37a",
   "metadata": {},
   "source": [
    "_sentIDs = str(all_agreed_sentences).replace(\"{\",\"(\").replace(\"}\",\")\")\n",
    "query = 'SELECT id, technique, text FROM ebdb.sample_sentences where id not in '+_sentIDs+';'\n",
    "non_agreed_sentences = pd.read_sql(query, connection)"
   ]
  },
  {
   "cell_type": "markdown",
   "id": "57c9b3ed-05a5-467b-b617-75b5e1559976",
   "metadata": {},
   "source": [
    "### Find all sentences"
   ]
  },
  {
   "cell_type": "code",
   "execution_count": 16,
   "id": "bbc2ecaf-ae47-4a07-ab6a-9e6c3f4d7a50",
   "metadata": {},
   "outputs": [
    {
     "name": "stderr",
     "output_type": "stream",
     "text": [
      "/Users/kylehamilton/opt/anaconda3/envs/annotation/lib/python3.9/site-packages/pandas/io/sql.py:762: UserWarning: pandas only support SQLAlchemy connectable(engine/connection) ordatabase string URI or sqlite3 DBAPI2 connectionother DBAPI2 objects are not tested, please consider using SQLAlchemy\n",
      "  warnings.warn(\n"
     ]
    }
   ],
   "source": [
    "query = 'SELECT id, technique, text FROM ebdb.sample_sentences;'\n",
    "non_agreed_sentences = pd.read_sql(query, connection)"
   ]
  },
  {
   "cell_type": "code",
   "execution_count": 17,
   "id": "395d763b-4903-4638-aa58-b1f2166007c9",
   "metadata": {},
   "outputs": [],
   "source": [
    "non_agreed_sentences['feature_id'] = FEATURE\n",
    "non_agreed_sentences['props_a20'] = ''\n",
    "non_agreed_sentences['props_a21'] = ''\n",
    "non_agreed_sentences['props_a22'] = ''\n",
    "non_agreed_sentences['props_gpt'] = ''"
   ]
  },
  {
   "cell_type": "code",
   "execution_count": 18,
   "id": "b7e8a198-c555-42d0-98eb-e97af1e51515",
   "metadata": {},
   "outputs": [],
   "source": [
    "non_agreed_sentences = non_agreed_sentences[['id', 'technique', 'text', 'feature_id', 'props_a20', 'props_a21', 'props_a22', 'props_gpt']]\n",
    "non_agreed_sentences = non_agreed_sentences.rename(columns={'id':'sentence_id'})"
   ]
  },
  {
   "cell_type": "code",
   "execution_count": 19,
   "id": "88dbfb72-1b24-4946-8699-0b1efdee95b1",
   "metadata": {},
   "outputs": [
    {
     "data": {
      "text/html": [
       "<div>\n",
       "<style scoped>\n",
       "    .dataframe tbody tr th:only-of-type {\n",
       "        vertical-align: middle;\n",
       "    }\n",
       "\n",
       "    .dataframe tbody tr th {\n",
       "        vertical-align: top;\n",
       "    }\n",
       "\n",
       "    .dataframe thead th {\n",
       "        text-align: right;\n",
       "    }\n",
       "</style>\n",
       "<table border=\"1\" class=\"dataframe\">\n",
       "  <thead>\n",
       "    <tr style=\"text-align: right;\">\n",
       "      <th></th>\n",
       "      <th>sentence_id</th>\n",
       "      <th>technique</th>\n",
       "      <th>text</th>\n",
       "      <th>feature_id</th>\n",
       "      <th>props_a20</th>\n",
       "      <th>props_a21</th>\n",
       "      <th>props_a22</th>\n",
       "      <th>props_gpt</th>\n",
       "    </tr>\n",
       "  </thead>\n",
       "  <tbody>\n",
       "    <tr>\n",
       "      <th>0</th>\n",
       "      <td>4</td>\n",
       "      <td>[0 8 9]</td>\n",
       "      <td>Muhammad advises the same thing, according to ...</td>\n",
       "      <td>Aspect</td>\n",
       "      <td></td>\n",
       "      <td></td>\n",
       "      <td></td>\n",
       "      <td></td>\n",
       "    </tr>\n",
       "    <tr>\n",
       "      <th>1</th>\n",
       "      <td>11</td>\n",
       "      <td>[0 8]</td>\n",
       "      <td>We are simply asked to take the pope’s word fo...</td>\n",
       "      <td>Aspect</td>\n",
       "      <td></td>\n",
       "      <td></td>\n",
       "      <td></td>\n",
       "      <td></td>\n",
       "    </tr>\n",
       "    <tr>\n",
       "      <th>2</th>\n",
       "      <td>14</td>\n",
       "      <td>[0]</td>\n",
       "      <td>Conservative Ben Shapiro told Fox news the ver...</td>\n",
       "      <td>Aspect</td>\n",
       "      <td></td>\n",
       "      <td></td>\n",
       "      <td></td>\n",
       "      <td></td>\n",
       "    </tr>\n",
       "    <tr>\n",
       "      <th>3</th>\n",
       "      <td>16</td>\n",
       "      <td>[0]</td>\n",
       "      <td>According to Breitbart, “Sellner, who describe...</td>\n",
       "      <td>Aspect</td>\n",
       "      <td></td>\n",
       "      <td></td>\n",
       "      <td></td>\n",
       "      <td></td>\n",
       "    </tr>\n",
       "    <tr>\n",
       "      <th>4</th>\n",
       "      <td>23</td>\n",
       "      <td>[0]</td>\n",
       "      <td>“This is a clear violation of the Senate Ethic...</td>\n",
       "      <td>Aspect</td>\n",
       "      <td></td>\n",
       "      <td></td>\n",
       "      <td></td>\n",
       "      <td></td>\n",
       "    </tr>\n",
       "  </tbody>\n",
       "</table>\n",
       "</div>"
      ],
      "text/plain": [
       "   sentence_id technique                                               text  \\\n",
       "0            4   [0 8 9]  Muhammad advises the same thing, according to ...   \n",
       "1           11     [0 8]  We are simply asked to take the pope’s word fo...   \n",
       "2           14       [0]  Conservative Ben Shapiro told Fox news the ver...   \n",
       "3           16       [0]  According to Breitbart, “Sellner, who describe...   \n",
       "4           23       [0]  “This is a clear violation of the Senate Ethic...   \n",
       "\n",
       "  feature_id props_a20 props_a21 props_a22 props_gpt  \n",
       "0     Aspect                                          \n",
       "1     Aspect                                          \n",
       "2     Aspect                                          \n",
       "3     Aspect                                          \n",
       "4     Aspect                                          "
      ]
     },
     "execution_count": 19,
     "metadata": {},
     "output_type": "execute_result"
    }
   ],
   "source": [
    "non_agreed_sentences.head()"
   ]
  },
  {
   "cell_type": "code",
   "execution_count": 20,
   "id": "ecc475fa-4de4-4769-af6f-cd0cd72ca21b",
   "metadata": {},
   "outputs": [
    {
     "data": {
      "text/html": [
       "<div>\n",
       "<style scoped>\n",
       "    .dataframe tbody tr th:only-of-type {\n",
       "        vertical-align: middle;\n",
       "    }\n",
       "\n",
       "    .dataframe tbody tr th {\n",
       "        vertical-align: top;\n",
       "    }\n",
       "\n",
       "    .dataframe thead th {\n",
       "        text-align: right;\n",
       "    }\n",
       "</style>\n",
       "<table border=\"1\" class=\"dataframe\">\n",
       "  <thead>\n",
       "    <tr style=\"text-align: right;\">\n",
       "      <th></th>\n",
       "      <th>sentence_id</th>\n",
       "      <th>technique</th>\n",
       "      <th>text</th>\n",
       "      <th>feature_id</th>\n",
       "      <th>props_a20</th>\n",
       "      <th>props_a21</th>\n",
       "      <th>props_a22</th>\n",
       "      <th>props_gpt</th>\n",
       "    </tr>\n",
       "  </thead>\n",
       "  <tbody>\n",
       "    <tr>\n",
       "      <th>0</th>\n",
       "      <td>4</td>\n",
       "      <td>[0 8 9]</td>\n",
       "      <td>Muhammad advises the same thing, according to ...</td>\n",
       "      <td>Aspect</td>\n",
       "      <td>[simple]</td>\n",
       "      <td>[simple]</td>\n",
       "      <td>[simple]</td>\n",
       "      <td></td>\n",
       "    </tr>\n",
       "    <tr>\n",
       "      <th>1</th>\n",
       "      <td>11</td>\n",
       "      <td>[0 8]</td>\n",
       "      <td>We are simply asked to take the pope’s word fo...</td>\n",
       "      <td>Aspect</td>\n",
       "      <td>[simple]</td>\n",
       "      <td>[perfect_progressive]</td>\n",
       "      <td>[simple]</td>\n",
       "      <td></td>\n",
       "    </tr>\n",
       "    <tr>\n",
       "      <th>2</th>\n",
       "      <td>14</td>\n",
       "      <td>[0]</td>\n",
       "      <td>Conservative Ben Shapiro told Fox news the ver...</td>\n",
       "      <td>Aspect</td>\n",
       "      <td>[simple]</td>\n",
       "      <td>[simple]</td>\n",
       "      <td>[simple]</td>\n",
       "      <td></td>\n",
       "    </tr>\n",
       "    <tr>\n",
       "      <th>3</th>\n",
       "      <td>16</td>\n",
       "      <td>[0]</td>\n",
       "      <td>According to Breitbart, “Sellner, who describe...</td>\n",
       "      <td>Aspect</td>\n",
       "      <td>[simple]</td>\n",
       "      <td>[simple]</td>\n",
       "      <td>[simple]</td>\n",
       "      <td></td>\n",
       "    </tr>\n",
       "    <tr>\n",
       "      <th>4</th>\n",
       "      <td>23</td>\n",
       "      <td>[0]</td>\n",
       "      <td>“This is a clear violation of the Senate Ethic...</td>\n",
       "      <td>Aspect</td>\n",
       "      <td>[simple]</td>\n",
       "      <td>[simple]</td>\n",
       "      <td>[simple]</td>\n",
       "      <td></td>\n",
       "    </tr>\n",
       "    <tr>\n",
       "      <th>...</th>\n",
       "      <td>...</td>\n",
       "      <td>...</td>\n",
       "      <td>...</td>\n",
       "      <td>...</td>\n",
       "      <td>...</td>\n",
       "      <td>...</td>\n",
       "      <td>...</td>\n",
       "      <td>...</td>\n",
       "    </tr>\n",
       "    <tr>\n",
       "      <th>352</th>\n",
       "      <td>14484</td>\n",
       "      <td>[]</td>\n",
       "      <td>They noted Haig's LinkedIn page, which says he...</td>\n",
       "      <td>Aspect</td>\n",
       "      <td>[simple]</td>\n",
       "      <td>[simple]</td>\n",
       "      <td>[simple]</td>\n",
       "      <td>[simple]</td>\n",
       "    </tr>\n",
       "    <tr>\n",
       "      <th>353</th>\n",
       "      <td>14506</td>\n",
       "      <td>[]</td>\n",
       "      <td>When asked about the threats, Haig said, “I’ve...</td>\n",
       "      <td>Aspect</td>\n",
       "      <td>[simple, perfect]</td>\n",
       "      <td>[progressive, simple, perfect]</td>\n",
       "      <td>[simple, perfect]</td>\n",
       "      <td>[simple]</td>\n",
       "    </tr>\n",
       "    <tr>\n",
       "      <th>354</th>\n",
       "      <td>14878</td>\n",
       "      <td>[]</td>\n",
       "      <td>In 1953, the CIA was in the process of develop...</td>\n",
       "      <td>Aspect</td>\n",
       "      <td>[progressive, simple]</td>\n",
       "      <td>[progressive, simple]</td>\n",
       "      <td>[simple]</td>\n",
       "      <td>[progressive]</td>\n",
       "    </tr>\n",
       "    <tr>\n",
       "      <th>355</th>\n",
       "      <td>15168</td>\n",
       "      <td>[]</td>\n",
       "      <td>“If code is speech, the constitutional contrad...</td>\n",
       "      <td>Aspect</td>\n",
       "      <td>[simple]</td>\n",
       "      <td>[simple]</td>\n",
       "      <td>[simple]</td>\n",
       "      <td>[simple]</td>\n",
       "    </tr>\n",
       "    <tr>\n",
       "      <th>356</th>\n",
       "      <td>15233</td>\n",
       "      <td>[]</td>\n",
       "      <td>At first, Campos, a guard at the Mandalay Bay ...</td>\n",
       "      <td>Aspect</td>\n",
       "      <td>[simple]</td>\n",
       "      <td>[simple]</td>\n",
       "      <td>[simple]</td>\n",
       "      <td>[simple]</td>\n",
       "    </tr>\n",
       "  </tbody>\n",
       "</table>\n",
       "<p>357 rows × 8 columns</p>\n",
       "</div>"
      ],
      "text/plain": [
       "     sentence_id technique                                               text  \\\n",
       "0              4   [0 8 9]  Muhammad advises the same thing, according to ...   \n",
       "1             11     [0 8]  We are simply asked to take the pope’s word fo...   \n",
       "2             14       [0]  Conservative Ben Shapiro told Fox news the ver...   \n",
       "3             16       [0]  According to Breitbart, “Sellner, who describe...   \n",
       "4             23       [0]  “This is a clear violation of the Senate Ethic...   \n",
       "..           ...       ...                                                ...   \n",
       "352        14484        []  They noted Haig's LinkedIn page, which says he...   \n",
       "353        14506        []  When asked about the threats, Haig said, “I’ve...   \n",
       "354        14878        []  In 1953, the CIA was in the process of develop...   \n",
       "355        15168        []  “If code is speech, the constitutional contrad...   \n",
       "356        15233        []  At first, Campos, a guard at the Mandalay Bay ...   \n",
       "\n",
       "    feature_id              props_a20                       props_a21  \\\n",
       "0       Aspect               [simple]                        [simple]   \n",
       "1       Aspect               [simple]           [perfect_progressive]   \n",
       "2       Aspect               [simple]                        [simple]   \n",
       "3       Aspect               [simple]                        [simple]   \n",
       "4       Aspect               [simple]                        [simple]   \n",
       "..         ...                    ...                             ...   \n",
       "352     Aspect               [simple]                        [simple]   \n",
       "353     Aspect      [simple, perfect]  [progressive, simple, perfect]   \n",
       "354     Aspect  [progressive, simple]           [progressive, simple]   \n",
       "355     Aspect               [simple]                        [simple]   \n",
       "356     Aspect               [simple]                        [simple]   \n",
       "\n",
       "             props_a22      props_gpt  \n",
       "0             [simple]                 \n",
       "1             [simple]                 \n",
       "2             [simple]                 \n",
       "3             [simple]                 \n",
       "4             [simple]                 \n",
       "..                 ...            ...  \n",
       "352           [simple]       [simple]  \n",
       "353  [simple, perfect]       [simple]  \n",
       "354           [simple]  [progressive]  \n",
       "355           [simple]       [simple]  \n",
       "356           [simple]       [simple]  \n",
       "\n",
       "[357 rows x 8 columns]"
      ]
     },
     "execution_count": 20,
     "metadata": {},
     "output_type": "execute_result"
    }
   ],
   "source": [
    "utils.fillInAnnotations(non_agreed_sentences,a_20,a_21,a_22,gpt_df,FEATURE)"
   ]
  },
  {
   "cell_type": "code",
   "execution_count": 23,
   "id": "073a0aec-500c-4bf1-81f8-39008b5a524b",
   "metadata": {},
   "outputs": [
    {
     "data": {
      "text/html": [
       "<div>\n",
       "<style scoped>\n",
       "    .dataframe tbody tr th:only-of-type {\n",
       "        vertical-align: middle;\n",
       "    }\n",
       "\n",
       "    .dataframe tbody tr th {\n",
       "        vertical-align: top;\n",
       "    }\n",
       "\n",
       "    .dataframe thead th {\n",
       "        text-align: right;\n",
       "    }\n",
       "</style>\n",
       "<table border=\"1\" class=\"dataframe\">\n",
       "  <thead>\n",
       "    <tr style=\"text-align: right;\">\n",
       "      <th></th>\n",
       "      <th>sentence_id</th>\n",
       "      <th>technique</th>\n",
       "      <th>text</th>\n",
       "      <th>feature_id</th>\n",
       "      <th>props_a20</th>\n",
       "      <th>props_a21</th>\n",
       "      <th>props_a22</th>\n",
       "      <th>props_gpt</th>\n",
       "    </tr>\n",
       "  </thead>\n",
       "  <tbody>\n",
       "    <tr>\n",
       "      <th>0</th>\n",
       "      <td>4</td>\n",
       "      <td>[0 8 9]</td>\n",
       "      <td>Muhammad advises the same thing, according to ...</td>\n",
       "      <td>Aspect</td>\n",
       "      <td>[simple]</td>\n",
       "      <td>[simple]</td>\n",
       "      <td>[simple]</td>\n",
       "      <td></td>\n",
       "    </tr>\n",
       "    <tr>\n",
       "      <th>1</th>\n",
       "      <td>11</td>\n",
       "      <td>[0 8]</td>\n",
       "      <td>We are simply asked to take the pope’s word fo...</td>\n",
       "      <td>Aspect</td>\n",
       "      <td>[simple]</td>\n",
       "      <td>[perfect_progressive]</td>\n",
       "      <td>[simple]</td>\n",
       "      <td></td>\n",
       "    </tr>\n",
       "    <tr>\n",
       "      <th>2</th>\n",
       "      <td>14</td>\n",
       "      <td>[0]</td>\n",
       "      <td>Conservative Ben Shapiro told Fox news the ver...</td>\n",
       "      <td>Aspect</td>\n",
       "      <td>[simple]</td>\n",
       "      <td>[simple]</td>\n",
       "      <td>[simple]</td>\n",
       "      <td></td>\n",
       "    </tr>\n",
       "    <tr>\n",
       "      <th>3</th>\n",
       "      <td>16</td>\n",
       "      <td>[0]</td>\n",
       "      <td>According to Breitbart, “Sellner, who describe...</td>\n",
       "      <td>Aspect</td>\n",
       "      <td>[simple]</td>\n",
       "      <td>[simple]</td>\n",
       "      <td>[simple]</td>\n",
       "      <td></td>\n",
       "    </tr>\n",
       "    <tr>\n",
       "      <th>4</th>\n",
       "      <td>23</td>\n",
       "      <td>[0]</td>\n",
       "      <td>“This is a clear violation of the Senate Ethic...</td>\n",
       "      <td>Aspect</td>\n",
       "      <td>[simple]</td>\n",
       "      <td>[simple]</td>\n",
       "      <td>[simple]</td>\n",
       "      <td></td>\n",
       "    </tr>\n",
       "  </tbody>\n",
       "</table>\n",
       "</div>"
      ],
      "text/plain": [
       "   sentence_id technique                                               text  \\\n",
       "0            4   [0 8 9]  Muhammad advises the same thing, according to ...   \n",
       "1           11     [0 8]  We are simply asked to take the pope’s word fo...   \n",
       "2           14       [0]  Conservative Ben Shapiro told Fox news the ver...   \n",
       "3           16       [0]  According to Breitbart, “Sellner, who describe...   \n",
       "4           23       [0]  “This is a clear violation of the Senate Ethic...   \n",
       "\n",
       "  feature_id props_a20              props_a21 props_a22 props_gpt  \n",
       "0     Aspect  [simple]               [simple]  [simple]            \n",
       "1     Aspect  [simple]  [perfect_progressive]  [simple]            \n",
       "2     Aspect  [simple]               [simple]  [simple]            \n",
       "3     Aspect  [simple]               [simple]  [simple]            \n",
       "4     Aspect  [simple]               [simple]  [simple]            "
      ]
     },
     "execution_count": 23,
     "metadata": {},
     "output_type": "execute_result"
    }
   ],
   "source": [
    "non_agreed_sentences.head()"
   ]
  },
  {
   "cell_type": "code",
   "execution_count": 24,
   "id": "c97ab4bb-8997-49d5-8e60-5a8392119c1f",
   "metadata": {},
   "outputs": [],
   "source": [
    "non_agreed_sentences.to_csv(\"data/clean-annotated-data/non_agreed_sentences_\"+FEATURE+\".csv\",index=None)"
   ]
  },
  {
   "cell_type": "markdown",
   "id": "4aafe1fa-d46e-45b1-80b3-f11d1a728024",
   "metadata": {},
   "source": [
    "### Find rows with missing GPT responses"
   ]
  },
  {
   "cell_type": "code",
   "execution_count": 62,
   "id": "f59ddc59-2831-425c-bbeb-06a98bd40d71",
   "metadata": {},
   "outputs": [],
   "source": [
    "to_reprompt = non_agreed_sentences[non_agreed_sentences['props_gpt']=='']"
   ]
  },
  {
   "cell_type": "code",
   "execution_count": 168,
   "id": "55f18390-9423-4906-8c9f-db0d6eee9303",
   "metadata": {
    "tags": []
   },
   "outputs": [
    {
     "name": "stdout",
     "output_type": "stream",
     "text": [
      "44\n"
     ]
    },
    {
     "data": {
      "text/html": [
       "<div>\n",
       "<style scoped>\n",
       "    .dataframe tbody tr th:only-of-type {\n",
       "        vertical-align: middle;\n",
       "    }\n",
       "\n",
       "    .dataframe tbody tr th {\n",
       "        vertical-align: top;\n",
       "    }\n",
       "\n",
       "    .dataframe thead th {\n",
       "        text-align: right;\n",
       "    }\n",
       "</style>\n",
       "<table border=\"1\" class=\"dataframe\">\n",
       "  <thead>\n",
       "    <tr style=\"text-align: right;\">\n",
       "      <th></th>\n",
       "      <th>sentence_id</th>\n",
       "      <th>technique</th>\n",
       "      <th>text</th>\n",
       "      <th>feature_id</th>\n",
       "      <th>props_a20</th>\n",
       "      <th>props_a21</th>\n",
       "      <th>props_a22</th>\n",
       "      <th>props_gpt</th>\n",
       "    </tr>\n",
       "  </thead>\n",
       "  <tbody>\n",
       "    <tr>\n",
       "      <th>0</th>\n",
       "      <td>4</td>\n",
       "      <td>[0 8 9]</td>\n",
       "      <td>Muhammad advises the same thing, according to ...</td>\n",
       "      <td>Aspect</td>\n",
       "      <td>[simple]</td>\n",
       "      <td>[simple]</td>\n",
       "      <td>[simple]</td>\n",
       "      <td></td>\n",
       "    </tr>\n",
       "    <tr>\n",
       "      <th>1</th>\n",
       "      <td>11</td>\n",
       "      <td>[0 8]</td>\n",
       "      <td>We are simply asked to take the pope’s word fo...</td>\n",
       "      <td>Aspect</td>\n",
       "      <td>[simple]</td>\n",
       "      <td>[perfect_progressive]</td>\n",
       "      <td>[simple]</td>\n",
       "      <td></td>\n",
       "    </tr>\n",
       "    <tr>\n",
       "      <th>2</th>\n",
       "      <td>14</td>\n",
       "      <td>[0]</td>\n",
       "      <td>Conservative Ben Shapiro told Fox news the ver...</td>\n",
       "      <td>Aspect</td>\n",
       "      <td>[simple]</td>\n",
       "      <td>[simple]</td>\n",
       "      <td>[simple]</td>\n",
       "      <td></td>\n",
       "    </tr>\n",
       "    <tr>\n",
       "      <th>3</th>\n",
       "      <td>16</td>\n",
       "      <td>[0]</td>\n",
       "      <td>According to Breitbart, “Sellner, who describe...</td>\n",
       "      <td>Aspect</td>\n",
       "      <td>[simple]</td>\n",
       "      <td>[simple]</td>\n",
       "      <td>[simple]</td>\n",
       "      <td></td>\n",
       "    </tr>\n",
       "    <tr>\n",
       "      <th>4</th>\n",
       "      <td>23</td>\n",
       "      <td>[0]</td>\n",
       "      <td>“This is a clear violation of the Senate Ethic...</td>\n",
       "      <td>Aspect</td>\n",
       "      <td>[simple]</td>\n",
       "      <td>[simple]</td>\n",
       "      <td>[simple]</td>\n",
       "      <td></td>\n",
       "    </tr>\n",
       "  </tbody>\n",
       "</table>\n",
       "</div>"
      ],
      "text/plain": [
       "   sentence_id technique                                               text  \\\n",
       "0            4   [0 8 9]  Muhammad advises the same thing, according to ...   \n",
       "1           11     [0 8]  We are simply asked to take the pope’s word fo...   \n",
       "2           14       [0]  Conservative Ben Shapiro told Fox news the ver...   \n",
       "3           16       [0]  According to Breitbart, “Sellner, who describe...   \n",
       "4           23       [0]  “This is a clear violation of the Senate Ethic...   \n",
       "\n",
       "  feature_id props_a20              props_a21 props_a22 props_gpt  \n",
       "0     Aspect  [simple]               [simple]  [simple]            \n",
       "1     Aspect  [simple]  [perfect_progressive]  [simple]            \n",
       "2     Aspect  [simple]               [simple]  [simple]            \n",
       "3     Aspect  [simple]               [simple]  [simple]            \n",
       "4     Aspect  [simple]               [simple]  [simple]            "
      ]
     },
     "execution_count": 168,
     "metadata": {},
     "output_type": "execute_result"
    }
   ],
   "source": [
    "print(len(to_reprompt))\n",
    "to_reprompt.head()"
   ]
  },
  {
   "cell_type": "markdown",
   "id": "bab9a2cb-6a24-4696-bf16-e9ef8e50c7ea",
   "metadata": {
    "tags": []
   },
   "source": [
    "### Reprompt GPT 3 times and merge with non_agreed_sentences"
   ]
  },
  {
   "cell_type": "code",
   "execution_count": null,
   "id": "596de4b0-a254-432c-8611-abc8826584cf",
   "metadata": {},
   "outputs": [],
   "source": [
    "# model = \"gpt-3.5-turbo-0301\"\n",
    "# model = \"gpt-3.5-turbo-0613\"\n",
    "# model = \"gpt-3.5-turbo-1106\"\n",
    "# model = \"gpt-4\""
   ]
  },
  {
   "cell_type": "code",
   "execution_count": 121,
   "id": "763ca7ff-6501-40b2-9f2e-e29c03d3847f",
   "metadata": {},
   "outputs": [
    {
     "data": {
      "text/plain": [
       "<module 'GPT' from '/Users/kylehamilton/MyDocuments/ML-Labs/annotation-app/rhetoric-annotation/results/GPT.py'>"
      ]
     },
     "execution_count": 121,
     "metadata": {},
     "output_type": "execute_result"
    }
   ],
   "source": [
    "import GPT\n",
    "importlib.reload(GPT)"
   ]
  },
  {
   "cell_type": "code",
   "execution_count": 151,
   "id": "ac86e5bd-4224-4a2d-aa25-473769516310",
   "metadata": {
    "tags": []
   },
   "outputs": [
    {
     "name": "stderr",
     "output_type": "stream",
     "text": [
      "44it [00:56,  1.27s/it]\n"
     ]
    }
   ],
   "source": [
    "def parseRes(x):\n",
    "    try:\n",
    "        result = utils.parseGPTresponse(x)[1][0]\n",
    "    except:\n",
    "        result = []\n",
    "    return result\n",
    "\n",
    "for i in range(1,4):\n",
    "    responses = []\n",
    "    gpt = GPT.GPT(\"gpt-3.5-turbo-1106\")\n",
    "\n",
    "    for row in tqdm(to_reprompt.iterrows()):\n",
    "        sentence = row[1]['text']\n",
    "        feature = row[1]['feature_id']\n",
    "        sid = row[1]['sentence_id']\n",
    "        promt, response = gpt.get_gpt_response(sentence,feature,sid)\n",
    "        responses.append([sid, response])\n",
    "\n",
    "    df = pd.DataFrame(responses, columns=['sentence_id','res'+str(i)])\n",
    "    df['gpt_props'+str(i)] = df['res'+str(i)].apply(parseRes)\n",
    "    non_agreed_sentences = non_agreed_sentences.merge(df, how='outer',on='sentence_id')\n",
    "    non_agreed_sentences.to_csv(\"non_agreed_sentences_\"+FEATURE+\".csv\",index=None)\n",
    "\n",
    "    print(f\"There were {len(gpt.errors)} errors in round {i}.\")"
   ]
  },
  {
   "cell_type": "code",
   "execution_count": 12,
   "id": "220cc22f-2ee6-4ed4-be93-0a180a28e5a2",
   "metadata": {},
   "outputs": [
    {
     "name": "stdout",
     "output_type": "stream",
     "text": [
      "185\n"
     ]
    },
    {
     "data": {
      "text/html": [
       "<div>\n",
       "<style scoped>\n",
       "    .dataframe tbody tr th:only-of-type {\n",
       "        vertical-align: middle;\n",
       "    }\n",
       "\n",
       "    .dataframe tbody tr th {\n",
       "        vertical-align: top;\n",
       "    }\n",
       "\n",
       "    .dataframe thead th {\n",
       "        text-align: right;\n",
       "    }\n",
       "</style>\n",
       "<table border=\"1\" class=\"dataframe\">\n",
       "  <thead>\n",
       "    <tr style=\"text-align: right;\">\n",
       "      <th></th>\n",
       "      <th>sentence_id</th>\n",
       "      <th>technique</th>\n",
       "      <th>text</th>\n",
       "      <th>feature_id</th>\n",
       "      <th>props_a20</th>\n",
       "      <th>props_a21</th>\n",
       "      <th>props_a22</th>\n",
       "      <th>res1</th>\n",
       "      <th>gpt_props1</th>\n",
       "      <th>res2</th>\n",
       "      <th>gpt_props2</th>\n",
       "      <th>res3</th>\n",
       "      <th>gpt_props3</th>\n",
       "      <th>props_a_majority</th>\n",
       "      <th>props_gpt_majority</th>\n",
       "      <th>ann_gpt_agreemnt</th>\n",
       "    </tr>\n",
       "  </thead>\n",
       "  <tbody>\n",
       "    <tr>\n",
       "      <th>0</th>\n",
       "      <td>4</td>\n",
       "      <td>[0 8 9]</td>\n",
       "      <td>Muhammad advises the same thing, according to ...</td>\n",
       "      <td>Aspect</td>\n",
       "      <td>['simple']</td>\n",
       "      <td>['simple']</td>\n",
       "      <td>['simple']</td>\n",
       "      <td>{\\n  \"Properties\": [\"simple\", \"progressive\"],\\...</td>\n",
       "      <td>['simple', 'progressive']</td>\n",
       "      <td>{\\n  \"Properties\": [\"simple\"],\\n  \"Explanation...</td>\n",
       "      <td>['simple']</td>\n",
       "      <td>{\\n  \"Properties\": [\"simple\", \"progressive\"],\\...</td>\n",
       "      <td>['simple', 'progressive']</td>\n",
       "      <td>['simple']</td>\n",
       "      <td>['simple', 'progressive']</td>\n",
       "      <td>0</td>\n",
       "    </tr>\n",
       "    <tr>\n",
       "      <th>1</th>\n",
       "      <td>11</td>\n",
       "      <td>[0 8]</td>\n",
       "      <td>We are simply asked to take the pope’s word fo...</td>\n",
       "      <td>Aspect</td>\n",
       "      <td>['simple']</td>\n",
       "      <td>['perfect_progressive']</td>\n",
       "      <td>['simple']</td>\n",
       "      <td>{\\n  \"Properties\": [\"simple\"],\\n  \"Explanation...</td>\n",
       "      <td>['simple']</td>\n",
       "      <td>{\\n  \"Properties\": [\"progressive\"],\\n  \"Explan...</td>\n",
       "      <td>['progressive']</td>\n",
       "      <td>{\\n  \"Properties\": [\"simple\", \"progressive\"],\\...</td>\n",
       "      <td>['simple', 'progressive']</td>\n",
       "      <td>['simple']</td>\n",
       "      <td>['simple']</td>\n",
       "      <td>1</td>\n",
       "    </tr>\n",
       "    <tr>\n",
       "      <th>2</th>\n",
       "      <td>14</td>\n",
       "      <td>[0]</td>\n",
       "      <td>Conservative Ben Shapiro told Fox news the ver...</td>\n",
       "      <td>Aspect</td>\n",
       "      <td>['simple']</td>\n",
       "      <td>['simple']</td>\n",
       "      <td>['simple']</td>\n",
       "      <td>{\\n  \"Properties\": [\"simple\"],\\n  \"Explanation...</td>\n",
       "      <td>['simple']</td>\n",
       "      <td>timeout</td>\n",
       "      <td>[]</td>\n",
       "      <td>{\\n    \"Properties\": [\"simple\"],\\n    \"Explana...</td>\n",
       "      <td>['simple']</td>\n",
       "      <td>['simple']</td>\n",
       "      <td>['simple']</td>\n",
       "      <td>1</td>\n",
       "    </tr>\n",
       "    <tr>\n",
       "      <th>3</th>\n",
       "      <td>16</td>\n",
       "      <td>[0]</td>\n",
       "      <td>According to Breitbart, “Sellner, who describe...</td>\n",
       "      <td>Aspect</td>\n",
       "      <td>['simple']</td>\n",
       "      <td>['simple']</td>\n",
       "      <td>['simple']</td>\n",
       "      <td>{\\n  \"Properties\": [\"progressive\"],\\n  \"Explan...</td>\n",
       "      <td>['progressive']</td>\n",
       "      <td>{\\n  \"Properties\": [\"simple\", \"progressive\"],\\...</td>\n",
       "      <td>['simple', 'progressive']</td>\n",
       "      <td>{\\n  \"Properties\": [\"simple\", \"progressive\"],\\...</td>\n",
       "      <td>['simple', 'progressive']</td>\n",
       "      <td>['simple']</td>\n",
       "      <td>['simple', 'progressive']</td>\n",
       "      <td>0</td>\n",
       "    </tr>\n",
       "    <tr>\n",
       "      <th>4</th>\n",
       "      <td>23</td>\n",
       "      <td>[0]</td>\n",
       "      <td>“This is a clear violation of the Senate Ethic...</td>\n",
       "      <td>Aspect</td>\n",
       "      <td>['simple']</td>\n",
       "      <td>['simple']</td>\n",
       "      <td>['simple']</td>\n",
       "      <td>{\\n  \"Properties\": [\"simple\"],\\n  \"Explanation...</td>\n",
       "      <td>['simple']</td>\n",
       "      <td>{\\n    \"Properties\": [\"simple\"],\\n    \"Explana...</td>\n",
       "      <td>['simple']</td>\n",
       "      <td>{\\n  \"Properties\": [\"simple\"],\\n  \"Explanation...</td>\n",
       "      <td>['simple']</td>\n",
       "      <td>['simple']</td>\n",
       "      <td>['simple']</td>\n",
       "      <td>1</td>\n",
       "    </tr>\n",
       "  </tbody>\n",
       "</table>\n",
       "</div>"
      ],
      "text/plain": [
       "   sentence_id technique                                               text  \\\n",
       "0            4   [0 8 9]  Muhammad advises the same thing, according to ...   \n",
       "1           11     [0 8]  We are simply asked to take the pope’s word fo...   \n",
       "2           14       [0]  Conservative Ben Shapiro told Fox news the ver...   \n",
       "3           16       [0]  According to Breitbart, “Sellner, who describe...   \n",
       "4           23       [0]  “This is a clear violation of the Senate Ethic...   \n",
       "\n",
       "  feature_id   props_a20                props_a21   props_a22  \\\n",
       "0     Aspect  ['simple']               ['simple']  ['simple']   \n",
       "1     Aspect  ['simple']  ['perfect_progressive']  ['simple']   \n",
       "2     Aspect  ['simple']               ['simple']  ['simple']   \n",
       "3     Aspect  ['simple']               ['simple']  ['simple']   \n",
       "4     Aspect  ['simple']               ['simple']  ['simple']   \n",
       "\n",
       "                                                res1  \\\n",
       "0  {\\n  \"Properties\": [\"simple\", \"progressive\"],\\...   \n",
       "1  {\\n  \"Properties\": [\"simple\"],\\n  \"Explanation...   \n",
       "2  {\\n  \"Properties\": [\"simple\"],\\n  \"Explanation...   \n",
       "3  {\\n  \"Properties\": [\"progressive\"],\\n  \"Explan...   \n",
       "4  {\\n  \"Properties\": [\"simple\"],\\n  \"Explanation...   \n",
       "\n",
       "                  gpt_props1  \\\n",
       "0  ['simple', 'progressive']   \n",
       "1                 ['simple']   \n",
       "2                 ['simple']   \n",
       "3            ['progressive']   \n",
       "4                 ['simple']   \n",
       "\n",
       "                                                res2  \\\n",
       "0  {\\n  \"Properties\": [\"simple\"],\\n  \"Explanation...   \n",
       "1  {\\n  \"Properties\": [\"progressive\"],\\n  \"Explan...   \n",
       "2                                            timeout   \n",
       "3  {\\n  \"Properties\": [\"simple\", \"progressive\"],\\...   \n",
       "4  {\\n    \"Properties\": [\"simple\"],\\n    \"Explana...   \n",
       "\n",
       "                  gpt_props2  \\\n",
       "0                 ['simple']   \n",
       "1            ['progressive']   \n",
       "2                         []   \n",
       "3  ['simple', 'progressive']   \n",
       "4                 ['simple']   \n",
       "\n",
       "                                                res3  \\\n",
       "0  {\\n  \"Properties\": [\"simple\", \"progressive\"],\\...   \n",
       "1  {\\n  \"Properties\": [\"simple\", \"progressive\"],\\...   \n",
       "2  {\\n    \"Properties\": [\"simple\"],\\n    \"Explana...   \n",
       "3  {\\n  \"Properties\": [\"simple\", \"progressive\"],\\...   \n",
       "4  {\\n  \"Properties\": [\"simple\"],\\n  \"Explanation...   \n",
       "\n",
       "                  gpt_props3 props_a_majority         props_gpt_majority  \\\n",
       "0  ['simple', 'progressive']       ['simple']  ['simple', 'progressive']   \n",
       "1  ['simple', 'progressive']       ['simple']                 ['simple']   \n",
       "2                 ['simple']       ['simple']                 ['simple']   \n",
       "3  ['simple', 'progressive']       ['simple']  ['simple', 'progressive']   \n",
       "4                 ['simple']       ['simple']                 ['simple']   \n",
       "\n",
       "   ann_gpt_agreemnt  \n",
       "0                 0  \n",
       "1                 1  \n",
       "2                 1  \n",
       "3                 0  \n",
       "4                 1  "
      ]
     },
     "execution_count": 12,
     "metadata": {},
     "output_type": "execute_result"
    }
   ],
   "source": [
    "# Sanity check\n",
    "non_agreed_sentences = pd.read_csv(\"non_agreed_sentences_\"+FEATURE+\".csv\")\n",
    "print(len(non_agreed_sentences))\n",
    "non_agreed_sentences.head()"
   ]
  },
  {
   "cell_type": "code",
   "execution_count": 15,
   "id": "7e90d8ae-5fd6-4b4c-bdb4-103efc9182a3",
   "metadata": {},
   "outputs": [],
   "source": [
    "# get the majority vote from the annotators (props_a20, props_a21, props_a22)\n",
    "# What to do when there is no majority? NA?\n",
    "\n",
    "# remove NaNs since they screw up the majority counting\n",
    "non_agreed_sentences[['props_a20','props_a21','props_a22']] = non_agreed_sentences[['props_a20','props_a21','props_a22']].fillna('[]')\n",
    "\n",
    "non_agreed_sentences['props_a_majority'] = non_agreed_sentences['props_a20']+\", \"+\\\n",
    "                                           non_agreed_sentences['props_a21']+\", \"+\\\n",
    "                                           non_agreed_sentences['props_a22']\n",
    "\n",
    "def convert(x):\n",
    "    # try: result = ast.literal_eval(x)\n",
    "    # except: result = [[]]\n",
    "    # return result\n",
    "    return list(ast.literal_eval(x))\n",
    "\n",
    "non_agreed_sentences['props_a_majority'] = non_agreed_sentences['props_a_majority'].apply(convert)\n",
    "non_agreed_sentences['props_a_majority'] = non_agreed_sentences['props_a_majority'].apply(lambda l: utils.find_majority(l)[0])"
   ]
  },
  {
   "cell_type": "code",
   "execution_count": 16,
   "id": "0c57389d-2eba-41a2-a743-b5c96b76bb45",
   "metadata": {},
   "outputs": [
    {
     "data": {
      "text/plain": [
       "sentence_id                                                         313\n",
       "technique                                                           [3]\n",
       "text                  “The Prologue set this choice before us, the w...\n",
       "feature_id                                                       Aspect\n",
       "props_a20                                                    ['simple']\n",
       "props_a21                                                            []\n",
       "props_a22                                                    ['simple']\n",
       "res1                                                                NaN\n",
       "gpt_props1                                                           []\n",
       "res2                                                                NaN\n",
       "gpt_props2                                                           []\n",
       "res3                                                                NaN\n",
       "gpt_props3                                                           []\n",
       "props_a_majority                                               [simple]\n",
       "props_gpt_majority                                           ['simple']\n",
       "ann_gpt_agreemnt                                                     -1\n",
       "Name: 35, dtype: object"
      ]
     },
     "execution_count": 16,
     "metadata": {},
     "output_type": "execute_result"
    }
   ],
   "source": [
    "non_agreed_sentences.loc[35]"
   ]
  },
  {
   "cell_type": "code",
   "execution_count": 25,
   "id": "f7aa149f-beca-4250-8f25-8757ac4ee77f",
   "metadata": {},
   "outputs": [
    {
     "data": {
      "text/plain": [
       "sentence_id                                                           11\n",
       "technique                                                          [0 8]\n",
       "text                   We are simply asked to take the pope’s word fo...\n",
       "feature_id                                                        Aspect\n",
       "props_a20                                                     ['simple']\n",
       "props_a21                                        ['perfect_progressive']\n",
       "props_a22                                                     ['simple']\n",
       "res1                   {\\n  \"Properties\": [\"simple\"],\\n  \"Explanation...\n",
       "gpt_props1                                                    ['simple']\n",
       "res2                   {\\n  \"Properties\": [\"progressive\"],\\n  \"Explan...\n",
       "gpt_props2                                               ['progressive']\n",
       "res3                   {\\n  \"Properties\": [\"simple\", \"progressive\"],\\...\n",
       "gpt_props3                                     ['simple', 'progressive']\n",
       "props_a_majority                                                [simple]\n",
       "props_gpt_majority                                            ['simple']\n",
       "ann_gpt_agreemnt                                                       1\n",
       "props_gpt4_majority                                                   []\n",
       "Name: 1, dtype: object"
      ]
     },
     "execution_count": 25,
     "metadata": {},
     "output_type": "execute_result"
    }
   ],
   "source": [
    "def get_gpt4Majority(row):\n",
    "    if type(row['res1']) != str:\n",
    "        return row['props_gpt_majority']\n",
    "    else:\n",
    "        return []\n",
    "\n",
    "non_agreed_sentences['props_gpt4_majority'] = non_agreed_sentences.apply(lambda x: get_gpt4Majority(x), axis=1)\n",
    "non_agreed_sentences.loc[1]"
   ]
  },
  {
   "cell_type": "raw",
   "id": "6c854775-ef71-4ac7-a23b-1006642cac7f",
   "metadata": {},
   "source": [
    "# get the majority vote from the reprompt (gpt_props1, gpt_props2, gpt_props3)\n",
    "\n",
    "non_agreed_sentences['props_gpt_majority'] = non_agreed_sentences['gpt_props1']+\", \"+\\\n",
    "                                           non_agreed_sentences['gpt_props2']+\", \"+\\\n",
    "                                           non_agreed_sentences['gpt_props3'] #.apply(utils.find_majority)\n",
    "\n",
    "def convert(x):\n",
    "    try: result = list(ast.literal_eval(x))\n",
    "    except: result = [[]]\n",
    "    return result\n",
    "\n",
    "non_agreed_sentences['props_gpt_majority'] = non_agreed_sentences['props_gpt_majority'].apply(convert)\n",
    "non_agreed_sentences['props_gpt_majority'] = non_agreed_sentences['props_gpt_majority'].apply(lambda l: utils.find_majority(l)[0])"
   ]
  },
  {
   "cell_type": "code",
   "execution_count": 229,
   "id": "d67d1e22-2ea8-49b8-a84c-d6bfe6c8c958",
   "metadata": {},
   "outputs": [],
   "source": [
    "# Merge the previous gpt props with the newly reprompted ones into a single column\n",
    "def convert(x):\n",
    "    try: result = list(ast.literal_eval(x))\n",
    "    except: result = []\n",
    "    return result\n",
    "\n",
    "non_agreed_sentences['props_gpt'] = non_agreed_sentences['props_gpt'].apply(convert)\n",
    "non_agreed_sentences['props_gpt_majority'] = non_agreed_sentences['props_gpt_majority'] + non_agreed_sentences['props_gpt']\n",
    "non_agreed_sentences = non_agreed_sentences.drop(['props_gpt'], axis=1)\n"
   ]
  },
  {
   "cell_type": "code",
   "execution_count": 5,
   "id": "7e6e3c08-8029-439b-b096-8a58e94121ce",
   "metadata": {},
   "outputs": [],
   "source": [
    "non_agreed_sentences['ann_gpt_agreemnt'] = non_agreed_sentences.apply(lambda x: utils.calcAgreement(x['props_a_majority'],x['props_gpt_majority']), axis=1)"
   ]
  },
  {
   "cell_type": "code",
   "execution_count": 6,
   "id": "e9cca6fd-7b1a-4f68-925e-152dd1567d57",
   "metadata": {},
   "outputs": [],
   "source": [
    "# save the final version\n",
    "non_agreed_sentences.to_csv(\"non_agreed_sentences_\"+FEATURE+\".csv\",index=None)"
   ]
  },
  {
   "cell_type": "code",
   "execution_count": 7,
   "id": "9b06ba75-1ea4-4f4c-9011-2f7bb96e181a",
   "metadata": {
    "tags": []
   },
   "outputs": [
    {
     "name": "stdout",
     "output_type": "stream",
     "text": [
      "185\n"
     ]
    },
    {
     "data": {
      "text/html": [
       "<div>\n",
       "<style scoped>\n",
       "    .dataframe tbody tr th:only-of-type {\n",
       "        vertical-align: middle;\n",
       "    }\n",
       "\n",
       "    .dataframe tbody tr th {\n",
       "        vertical-align: top;\n",
       "    }\n",
       "\n",
       "    .dataframe thead th {\n",
       "        text-align: right;\n",
       "    }\n",
       "</style>\n",
       "<table border=\"1\" class=\"dataframe\">\n",
       "  <thead>\n",
       "    <tr style=\"text-align: right;\">\n",
       "      <th></th>\n",
       "      <th>sentence_id</th>\n",
       "      <th>technique</th>\n",
       "      <th>text</th>\n",
       "      <th>feature_id</th>\n",
       "      <th>props_a20</th>\n",
       "      <th>props_a21</th>\n",
       "      <th>props_a22</th>\n",
       "      <th>res1</th>\n",
       "      <th>gpt_props1</th>\n",
       "      <th>res2</th>\n",
       "      <th>gpt_props2</th>\n",
       "      <th>res3</th>\n",
       "      <th>gpt_props3</th>\n",
       "      <th>props_a_majority</th>\n",
       "      <th>props_gpt_majority</th>\n",
       "      <th>ann_gpt_agreemnt</th>\n",
       "    </tr>\n",
       "  </thead>\n",
       "  <tbody>\n",
       "    <tr>\n",
       "      <th>0</th>\n",
       "      <td>4</td>\n",
       "      <td>[0 8 9]</td>\n",
       "      <td>Muhammad advises the same thing, according to ...</td>\n",
       "      <td>Aspect</td>\n",
       "      <td>['simple']</td>\n",
       "      <td>['simple']</td>\n",
       "      <td>['simple']</td>\n",
       "      <td>{\\n  \"Properties\": [\"simple\", \"progressive\"],\\...</td>\n",
       "      <td>['simple', 'progressive']</td>\n",
       "      <td>{\\n  \"Properties\": [\"simple\"],\\n  \"Explanation...</td>\n",
       "      <td>['simple']</td>\n",
       "      <td>{\\n  \"Properties\": [\"simple\", \"progressive\"],\\...</td>\n",
       "      <td>['simple', 'progressive']</td>\n",
       "      <td>['simple']</td>\n",
       "      <td>['simple', 'progressive']</td>\n",
       "      <td>0</td>\n",
       "    </tr>\n",
       "    <tr>\n",
       "      <th>1</th>\n",
       "      <td>11</td>\n",
       "      <td>[0 8]</td>\n",
       "      <td>We are simply asked to take the pope’s word fo...</td>\n",
       "      <td>Aspect</td>\n",
       "      <td>['simple']</td>\n",
       "      <td>['perfect_progressive']</td>\n",
       "      <td>['simple']</td>\n",
       "      <td>{\\n  \"Properties\": [\"simple\"],\\n  \"Explanation...</td>\n",
       "      <td>['simple']</td>\n",
       "      <td>{\\n  \"Properties\": [\"progressive\"],\\n  \"Explan...</td>\n",
       "      <td>['progressive']</td>\n",
       "      <td>{\\n  \"Properties\": [\"simple\", \"progressive\"],\\...</td>\n",
       "      <td>['simple', 'progressive']</td>\n",
       "      <td>['simple']</td>\n",
       "      <td>['simple']</td>\n",
       "      <td>1</td>\n",
       "    </tr>\n",
       "    <tr>\n",
       "      <th>2</th>\n",
       "      <td>14</td>\n",
       "      <td>[0]</td>\n",
       "      <td>Conservative Ben Shapiro told Fox news the ver...</td>\n",
       "      <td>Aspect</td>\n",
       "      <td>['simple']</td>\n",
       "      <td>['simple']</td>\n",
       "      <td>['simple']</td>\n",
       "      <td>{\\n  \"Properties\": [\"simple\"],\\n  \"Explanation...</td>\n",
       "      <td>['simple']</td>\n",
       "      <td>timeout</td>\n",
       "      <td>[]</td>\n",
       "      <td>{\\n    \"Properties\": [\"simple\"],\\n    \"Explana...</td>\n",
       "      <td>['simple']</td>\n",
       "      <td>['simple']</td>\n",
       "      <td>['simple']</td>\n",
       "      <td>1</td>\n",
       "    </tr>\n",
       "    <tr>\n",
       "      <th>3</th>\n",
       "      <td>16</td>\n",
       "      <td>[0]</td>\n",
       "      <td>According to Breitbart, “Sellner, who describe...</td>\n",
       "      <td>Aspect</td>\n",
       "      <td>['simple']</td>\n",
       "      <td>['simple']</td>\n",
       "      <td>['simple']</td>\n",
       "      <td>{\\n  \"Properties\": [\"progressive\"],\\n  \"Explan...</td>\n",
       "      <td>['progressive']</td>\n",
       "      <td>{\\n  \"Properties\": [\"simple\", \"progressive\"],\\...</td>\n",
       "      <td>['simple', 'progressive']</td>\n",
       "      <td>{\\n  \"Properties\": [\"simple\", \"progressive\"],\\...</td>\n",
       "      <td>['simple', 'progressive']</td>\n",
       "      <td>['simple']</td>\n",
       "      <td>['simple', 'progressive']</td>\n",
       "      <td>0</td>\n",
       "    </tr>\n",
       "    <tr>\n",
       "      <th>4</th>\n",
       "      <td>23</td>\n",
       "      <td>[0]</td>\n",
       "      <td>“This is a clear violation of the Senate Ethic...</td>\n",
       "      <td>Aspect</td>\n",
       "      <td>['simple']</td>\n",
       "      <td>['simple']</td>\n",
       "      <td>['simple']</td>\n",
       "      <td>{\\n  \"Properties\": [\"simple\"],\\n  \"Explanation...</td>\n",
       "      <td>['simple']</td>\n",
       "      <td>{\\n    \"Properties\": [\"simple\"],\\n    \"Explana...</td>\n",
       "      <td>['simple']</td>\n",
       "      <td>{\\n  \"Properties\": [\"simple\"],\\n  \"Explanation...</td>\n",
       "      <td>['simple']</td>\n",
       "      <td>['simple']</td>\n",
       "      <td>['simple']</td>\n",
       "      <td>1</td>\n",
       "    </tr>\n",
       "  </tbody>\n",
       "</table>\n",
       "</div>"
      ],
      "text/plain": [
       "   sentence_id technique                                               text  \\\n",
       "0            4   [0 8 9]  Muhammad advises the same thing, according to ...   \n",
       "1           11     [0 8]  We are simply asked to take the pope’s word fo...   \n",
       "2           14       [0]  Conservative Ben Shapiro told Fox news the ver...   \n",
       "3           16       [0]  According to Breitbart, “Sellner, who describe...   \n",
       "4           23       [0]  “This is a clear violation of the Senate Ethic...   \n",
       "\n",
       "  feature_id   props_a20                props_a21   props_a22  \\\n",
       "0     Aspect  ['simple']               ['simple']  ['simple']   \n",
       "1     Aspect  ['simple']  ['perfect_progressive']  ['simple']   \n",
       "2     Aspect  ['simple']               ['simple']  ['simple']   \n",
       "3     Aspect  ['simple']               ['simple']  ['simple']   \n",
       "4     Aspect  ['simple']               ['simple']  ['simple']   \n",
       "\n",
       "                                                res1  \\\n",
       "0  {\\n  \"Properties\": [\"simple\", \"progressive\"],\\...   \n",
       "1  {\\n  \"Properties\": [\"simple\"],\\n  \"Explanation...   \n",
       "2  {\\n  \"Properties\": [\"simple\"],\\n  \"Explanation...   \n",
       "3  {\\n  \"Properties\": [\"progressive\"],\\n  \"Explan...   \n",
       "4  {\\n  \"Properties\": [\"simple\"],\\n  \"Explanation...   \n",
       "\n",
       "                  gpt_props1  \\\n",
       "0  ['simple', 'progressive']   \n",
       "1                 ['simple']   \n",
       "2                 ['simple']   \n",
       "3            ['progressive']   \n",
       "4                 ['simple']   \n",
       "\n",
       "                                                res2  \\\n",
       "0  {\\n  \"Properties\": [\"simple\"],\\n  \"Explanation...   \n",
       "1  {\\n  \"Properties\": [\"progressive\"],\\n  \"Explan...   \n",
       "2                                            timeout   \n",
       "3  {\\n  \"Properties\": [\"simple\", \"progressive\"],\\...   \n",
       "4  {\\n    \"Properties\": [\"simple\"],\\n    \"Explana...   \n",
       "\n",
       "                  gpt_props2  \\\n",
       "0                 ['simple']   \n",
       "1            ['progressive']   \n",
       "2                         []   \n",
       "3  ['simple', 'progressive']   \n",
       "4                 ['simple']   \n",
       "\n",
       "                                                res3  \\\n",
       "0  {\\n  \"Properties\": [\"simple\", \"progressive\"],\\...   \n",
       "1  {\\n  \"Properties\": [\"simple\", \"progressive\"],\\...   \n",
       "2  {\\n    \"Properties\": [\"simple\"],\\n    \"Explana...   \n",
       "3  {\\n  \"Properties\": [\"simple\", \"progressive\"],\\...   \n",
       "4  {\\n  \"Properties\": [\"simple\"],\\n  \"Explanation...   \n",
       "\n",
       "                  gpt_props3 props_a_majority         props_gpt_majority  \\\n",
       "0  ['simple', 'progressive']       ['simple']  ['simple', 'progressive']   \n",
       "1  ['simple', 'progressive']       ['simple']                 ['simple']   \n",
       "2                 ['simple']       ['simple']                 ['simple']   \n",
       "3  ['simple', 'progressive']       ['simple']  ['simple', 'progressive']   \n",
       "4                 ['simple']       ['simple']                 ['simple']   \n",
       "\n",
       "   ann_gpt_agreemnt  \n",
       "0                 0  \n",
       "1                 1  \n",
       "2                 1  \n",
       "3                 0  \n",
       "4                 1  "
      ]
     },
     "execution_count": 7,
     "metadata": {},
     "output_type": "execute_result"
    }
   ],
   "source": [
    "# Sanity check\n",
    "non_agreed_sentences = pd.read_csv(\"non_agreed_sentences_\"+FEATURE+\".csv\")\n",
    "print(len(non_agreed_sentences))\n",
    "non_agreed_sentences.head()"
   ]
  },
  {
   "cell_type": "code",
   "execution_count": null,
   "id": "f0cf3d88-046b-4109-a2ce-a45098ee9694",
   "metadata": {},
   "outputs": [],
   "source": []
  },
  {
   "cell_type": "markdown",
   "id": "b7df8536-0a1b-4a33-9c78-7fc92cf125b6",
   "metadata": {},
   "source": [
    "# FIX ALL THE ERRORS\n",
    "(Majorities are calculated at the list level, not the item level for both annotators and GPT)"
   ]
  },
  {
   "cell_type": "code",
   "execution_count": 1,
   "id": "c9ce575b-4245-476e-8a28-6bcf899587d3",
   "metadata": {},
   "outputs": [],
   "source": [
    "import pandas as pd\n",
    "import json\n",
    "import matplotlib.pyplot as plt\n",
    "import numpy as np\n",
    "from collections import Counter\n",
    "import utils\n",
    "import importlib\n",
    "import ast\n",
    "from tqdm import tqdm\n",
    "import re"
   ]
  },
  {
   "cell_type": "code",
   "execution_count": 2,
   "id": "681994dd-e43c-4181-90ed-17ca391d3fd7",
   "metadata": {},
   "outputs": [
    {
     "data": {
      "text/plain": [
       "<module 'utils' from '/Users/kylehamilton/MyDocuments/ML-Labs/annotation-app/rhetoric-annotation/results/utils.py'>"
      ]
     },
     "execution_count": 2,
     "metadata": {},
     "output_type": "execute_result"
    }
   ],
   "source": [
    "importlib.reload(utils)"
   ]
  },
  {
   "cell_type": "code",
   "execution_count": 3,
   "id": "2d3d30ae-83f8-4060-b8c3-d3e8d19c4e79",
   "metadata": {},
   "outputs": [],
   "source": [
    "FEATURE = \"Aspect\""
   ]
  },
  {
   "cell_type": "code",
   "execution_count": 4,
   "id": "28dbf0bb-eb99-429c-9a95-79e68d57b6f5",
   "metadata": {
    "tags": []
   },
   "outputs": [],
   "source": [
    "non_agreed_sentences = pd.read_csv(\"non_agreed_sentences_\"+FEATURE+\".csv\")\n",
    "\n",
    "def parseRes(x):\n",
    "    try:\n",
    "        result = utils.parseGPTresponse(x)[1][0]\n",
    "    except:\n",
    "        result = []\n",
    "    return result\n",
    "\n",
    "for i in range(1,4):\n",
    "    non_agreed_sentences['gpt_props'+str(i)] = non_agreed_sentences['res'+str(i)].apply(parseRes)\n",
    "\n",
    "def listOfLists(*lists):\n",
    "    new_list = []\n",
    "    for l in lists:\n",
    "        if len(l):\n",
    "            new_list.append(l)\n",
    "    return new_list\n",
    "\n",
    "non_agreed_sentences['props_gpt_list'] = non_agreed_sentences.apply(lambda x: listOfLists(x['gpt_props1'],\n",
    "                                                                                          x['gpt_props2'],\n",
    "                                                                                          x['gpt_props3']), axis=1)\n",
    "def find_majority(row):\n",
    "    if len(row.props_gpt_list):\n",
    "        return utils.find_majority(row.props_gpt_list)[0]\n",
    "    else:\n",
    "        return row.props_gpt_majority\n",
    "    \n",
    "non_agreed_sentences['props_gpt_majority'] = non_agreed_sentences.apply(lambda x: find_majority(x),axis=1)\n",
    "non_agreed_sentences = non_agreed_sentences.drop(['props_gpt_list'], axis=1)\n",
    "\n",
    "def replaceSpaces(x):\n",
    "    x = ast.literal_eval(x)\n",
    "    x = [i.replace(\" \",\"_\") for i in x]\n",
    "    return x\n",
    "\n",
    "non_agreed_sentences['props_gpt_majority'] = non_agreed_sentences['props_gpt_majority'].apply(replaceSpaces)\n",
    "\n",
    "non_agreed_sentences['ann_gpt_agreemnt'] = non_agreed_sentences.apply(lambda x: utils.calcAgreement(x['props_a_majority'],x['props_gpt_majority']), axis=1)\n",
    "\n",
    "non_agreed_sentences.to_csv(\"non_agreed_sentences_\"+FEATURE+\".csv\",index=None)\n",
    "non_agreed_sentences = pd.read_csv(\"non_agreed_sentences_\"+FEATURE+\".csv\")\n"
   ]
  },
  {
   "cell_type": "code",
   "execution_count": 1,
   "id": "9f5ca5a3-159b-4362-ae14-67756aa746c8",
   "metadata": {
    "tags": []
   },
   "outputs": [
    {
     "ename": "NameError",
     "evalue": "name 'non_agreed_sentences' is not defined",
     "output_type": "error",
     "traceback": [
      "\u001b[0;31m---------------------------------------------------------------------------\u001b[0m",
      "\u001b[0;31mNameError\u001b[0m                                 Traceback (most recent call last)",
      "\u001b[0;32m/var/folders/vt/g1t9ds3s01z05zs4qg2dngk80000gn/T/ipykernel_18850/3562580057.py\u001b[0m in \u001b[0;36m<module>\u001b[0;34m\u001b[0m\n\u001b[0;32m----> 1\u001b[0;31m \u001b[0mnon_agreed_sentences\u001b[0m\u001b[0;34m\u001b[0m\u001b[0;34m\u001b[0m\u001b[0m\n\u001b[0m",
      "\u001b[0;31mNameError\u001b[0m: name 'non_agreed_sentences' is not defined"
     ]
    }
   ],
   "source": [
    "non_agreed_sentences"
   ]
  },
  {
   "cell_type": "code",
   "execution_count": null,
   "id": "1c3c445d-99a7-4bda-a83e-ae28462b38d3",
   "metadata": {},
   "outputs": [],
   "source": []
  },
  {
   "cell_type": "code",
   "execution_count": null,
   "id": "7a624fc1-3a91-42e8-bc69-6655f9dd9e07",
   "metadata": {},
   "outputs": [],
   "source": []
  },
  {
   "cell_type": "code",
   "execution_count": null,
   "id": "7f8fec83-f55a-4ba0-bc12-576a1971949c",
   "metadata": {},
   "outputs": [],
   "source": []
  },
  {
   "cell_type": "code",
   "execution_count": null,
   "id": "98a78c3a-1b6d-4c96-b985-48072fb79ab4",
   "metadata": {},
   "outputs": [],
   "source": []
  }
 ],
 "metadata": {
  "kernelspec": {
   "display_name": "Python 3 (ipykernel)",
   "language": "python",
   "name": "python3"
  },
  "language_info": {
   "codemirror_mode": {
    "name": "ipython",
    "version": 3
   },
   "file_extension": ".py",
   "mimetype": "text/x-python",
   "name": "python",
   "nbconvert_exporter": "python",
   "pygments_lexer": "ipython3",
   "version": "3.9.13"
  }
 },
 "nbformat": 4,
 "nbformat_minor": 5
}
