{
 "cells": [
  {
   "cell_type": "markdown",
   "id": "6d4737db-942e-4146-b5ac-c50cbdbb5dfe",
   "metadata": {},
   "source": [
    "<img src=\"a20_a21_a22_jaccard.svg\" style=\"text-align:center;width:50%;display:inline;\"><img src=\"a20_a21_a22_partial.svg\" style=\"text-align:center;width:50%;display:inline;\">"
   ]
  },
  {
   "cell_type": "markdown",
   "id": "267e2e49-0570-421f-abde-2be88b80b109",
   "metadata": {},
   "source": [
    "# Modifying phrases"
   ]
  },
  {
   "cell_type": "markdown",
   "id": "d7de98c3-b66d-4779-9771-ea38072d38f1",
   "metadata": {},
   "source": [
    "### Modifying phrases properties:\n",
    "* __prepositional phrases__ — Modify the subject, verb, or adjective\n",
    "* __single word modifiers__ — adjectives and adverbs\n",
    "* __multiplying and embedding modifiers__ — using multiple modification words and phrases within a single sentence\n"
   ]
  },
  {
   "cell_type": "code",
   "execution_count": 1,
   "id": "1d5aab06-0752-4ef2-8d7c-47b602ce2bfd",
   "metadata": {},
   "outputs": [],
   "source": [
    "import pandas as pd\n",
    "import json\n",
    "import matplotlib.pyplot as plt\n",
    "import numpy as np\n",
    "from collections import Counter\n",
    "import utils\n",
    "import importlib\n",
    "import ast\n",
    "from tqdm import tqdm\n",
    "import re"
   ]
  },
  {
   "cell_type": "code",
   "execution_count": 2,
   "id": "ec60b8cd-ec02-48ab-9982-a2cf332bda34",
   "metadata": {},
   "outputs": [],
   "source": [
    "importlib.reload(utils)\n",
    "connection = utils.connectDB()"
   ]
  },
  {
   "cell_type": "code",
   "execution_count": 3,
   "id": "1a0d5ae5-5c1c-4cb0-bec8-b762970b9df8",
   "metadata": {},
   "outputs": [],
   "source": [
    "FEATURE = \"Modifying_phrases\""
   ]
  },
  {
   "cell_type": "code",
   "execution_count": 4,
   "id": "894e933c-de33-468e-8624-ee41ddd751be",
   "metadata": {},
   "outputs": [],
   "source": [
    "# IMPORTANT: GPT data was corrected. Read the corrected GPT sheet NOT the database\n",
    "gpt_df = pd.read_csv(\"corrected_GPT_min.csv\")"
   ]
  },
  {
   "cell_type": "code",
   "execution_count": 5,
   "id": "4309af0c-a9e9-46de-96e6-211c529d9743",
   "metadata": {},
   "outputs": [],
   "source": [
    "# When this data is read in the majority_prop Type is incomaptible with the script downstream, so we just recreate this column each time\n",
    "gpt_df['majority_prop'] = [list(utils.find_majority(ast.literal_eval(l))[0]) for l in gpt_df['all_properties']]"
   ]
  },
  {
   "cell_type": "code",
   "execution_count": 6,
   "id": "98de1e52-e2a6-4d2d-b524-b49f1f72da2a",
   "metadata": {},
   "outputs": [
    {
     "data": {
      "text/html": [
       "<div>\n",
       "<style scoped>\n",
       "    .dataframe tbody tr th:only-of-type {\n",
       "        vertical-align: middle;\n",
       "    }\n",
       "\n",
       "    .dataframe tbody tr th {\n",
       "        vertical-align: top;\n",
       "    }\n",
       "\n",
       "    .dataframe thead th {\n",
       "        text-align: right;\n",
       "    }\n",
       "</style>\n",
       "<table border=\"1\" class=\"dataframe\">\n",
       "  <thead>\n",
       "    <tr style=\"text-align: right;\">\n",
       "      <th></th>\n",
       "      <th>sentence_id</th>\n",
       "      <th>all_properties</th>\n",
       "      <th>feature_id</th>\n",
       "      <th>majority_prop</th>\n",
       "    </tr>\n",
       "  </thead>\n",
       "  <tbody>\n",
       "    <tr>\n",
       "      <th>0</th>\n",
       "      <td>265</td>\n",
       "      <td>[{'simple'}, {'simple'}, {'simple'}, {'simple'...</td>\n",
       "      <td>Aspect</td>\n",
       "      <td>[simple]</td>\n",
       "    </tr>\n",
       "    <tr>\n",
       "      <th>1</th>\n",
       "      <td>265</td>\n",
       "      <td>[{'indicative'}, {'indicative'}, {'indicative'}]</td>\n",
       "      <td>Mood</td>\n",
       "      <td>[indicative]</td>\n",
       "    </tr>\n",
       "    <tr>\n",
       "      <th>2</th>\n",
       "      <td>265</td>\n",
       "      <td>[]</td>\n",
       "      <td>Verb_choices</td>\n",
       "      <td>[]</td>\n",
       "    </tr>\n",
       "    <tr>\n",
       "      <th>3</th>\n",
       "      <td>265</td>\n",
       "      <td>[{'subordinate'}, {'subordinate', 'adjective'}...</td>\n",
       "      <td>Modifying_clauses</td>\n",
       "      <td>[adjective, subordinate]</td>\n",
       "    </tr>\n",
       "    <tr>\n",
       "      <th>4</th>\n",
       "      <td>265</td>\n",
       "      <td>[{'multiplying and embedding modifiers', 'sing...</td>\n",
       "      <td>Modifying_phrases</td>\n",
       "      <td>[multiplying and embedding modifiers, single w...</td>\n",
       "    </tr>\n",
       "  </tbody>\n",
       "</table>\n",
       "</div>"
      ],
      "text/plain": [
       "   sentence_id                                     all_properties  \\\n",
       "0          265  [{'simple'}, {'simple'}, {'simple'}, {'simple'...   \n",
       "1          265   [{'indicative'}, {'indicative'}, {'indicative'}]   \n",
       "2          265                                                 []   \n",
       "3          265  [{'subordinate'}, {'subordinate', 'adjective'}...   \n",
       "4          265  [{'multiplying and embedding modifiers', 'sing...   \n",
       "\n",
       "          feature_id                                      majority_prop  \n",
       "0             Aspect                                           [simple]  \n",
       "1               Mood                                       [indicative]  \n",
       "2       Verb_choices                                                 []  \n",
       "3  Modifying_clauses                           [adjective, subordinate]  \n",
       "4  Modifying_phrases  [multiplying and embedding modifiers, single w...  "
      ]
     },
     "execution_count": 6,
     "metadata": {},
     "output_type": "execute_result"
    }
   ],
   "source": [
    "gpt_df.head()"
   ]
  },
  {
   "cell_type": "code",
   "execution_count": 7,
   "id": "6f92067b-81c7-4af5-ac9f-b44d74ed1a55",
   "metadata": {
    "tags": []
   },
   "outputs": [
    {
     "name": "stderr",
     "output_type": "stream",
     "text": [
      "/Users/kylehamilton/opt/anaconda3/envs/annotation/lib/python3.9/site-packages/pandas/io/sql.py:762: UserWarning: pandas only support SQLAlchemy connectable(engine/connection) ordatabase string URI or sqlite3 DBAPI2 connectionother DBAPI2 objects are not tested, please consider using SQLAlchemy\n",
      "  warnings.warn(\n"
     ]
    }
   ],
   "source": [
    "query = 'select * from annotations where annotator_id in (20,21,22) and completed=1;'\n",
    "annotations = pd.read_sql(query, connection)"
   ]
  },
  {
   "cell_type": "markdown",
   "id": "77bb4e0b-0390-4782-89d2-2b0c9ef7eacb",
   "metadata": {},
   "source": [
    "### Format the human annotations like GPT for making comaprisons\n",
    "This will roll the annotations up to the sentence level"
   ]
  },
  {
   "cell_type": "code",
   "execution_count": 8,
   "id": "ac2087e8-29a9-48fc-8a93-12e74e0b3afd",
   "metadata": {},
   "outputs": [],
   "source": [
    "a_20 = utils.annotationsToGPTFormat(20,annotations)\n",
    "a_21 = utils.annotationsToGPTFormat(21,annotations)\n",
    "a_22 = utils.annotationsToGPTFormat(22,annotations)"
   ]
  },
  {
   "cell_type": "code",
   "execution_count": 9,
   "id": "af2bdbe9-6d5b-44db-8f3f-36887a218e4e",
   "metadata": {},
   "outputs": [
    {
     "data": {
      "image/png": "[encoded data removed]",
      "text/plain": [
       "<Figure size 1500x500 with 3 Axes>"
      ]
     },
     "metadata": {},
     "output_type": "display_data"
    }
   ],
   "source": [
    "utils.plotPropertyDistributions(FEATURE,a_20,a_21,a_22)"
   ]
  },
  {
   "cell_type": "code",
   "execution_count": 10,
   "id": "5b8e8fc7-5bbf-4f28-8b04-50105add6816",
   "metadata": {},
   "outputs": [],
   "source": [
    "features_gpt = list(gpt_df.groupby('feature_id').agg(list).reset_index()['feature_id'])\n",
    "idx_gpt = features_gpt.index(FEATURE)\n",
    "gpt_df_properties = gpt_df.groupby('feature_id').agg(list).reset_index().loc[idx_gpt][['all_properties','sentence_id']]\n",
    "cGPT = Counter([str(utils.find_majority(ast.literal_eval(l))[0]) for l in gpt_df_properties['all_properties']])"
   ]
  },
  {
   "cell_type": "code",
   "execution_count": 11,
   "id": "7b493ecf-c0ec-48bf-99c0-ef247841e4f0",
   "metadata": {},
   "outputs": [
    {
     "data": {
      "image/png": "[encoded data removed]",
      "text/plain": [
       "<Figure size 640x480 with 1 Axes>"
      ]
     },
     "metadata": {},
     "output_type": "display_data"
    }
   ],
   "source": [
    "plt.barh(list(cGPT.keys()),list(cGPT.values()))\n",
    "plt.title(\"GPT majority vote for \"+FEATURE)\n",
    "plt.show()"
   ]
  },
  {
   "cell_type": "markdown",
   "id": "67789903-8925-4c77-8355-50df95934056",
   "metadata": {},
   "source": [
    "### Find all the sentences where there is agreement on the majority property"
   ]
  },
  {
   "cell_type": "code",
   "execution_count": 12,
   "id": "38db072d-9245-4c94-8f35-9e6104a5797e",
   "metadata": {},
   "outputs": [],
   "source": [
    "majority_property = ''"
   ]
  },
  {
   "cell_type": "raw",
   "id": "b04ff386-7dd2-45c3-a183-a8c6395d3f07",
   "metadata": {},
   "source": [
    "a_20_sent = set(a_20[a_20['properties'].apply(lambda x: x == [majority_property])]['sentence_id'])\n",
    "a_21_sent = set(a_21[a_21['properties'].apply(lambda x: x == [majority_property])]['sentence_id'])\n",
    "a_22_sent = set(a_22[a_22['properties'].apply(lambda x: x == [majority_property])]['sentence_id'])\n",
    "gpt_df_sent = set(gpt_df[gpt_df['majority_prop'].apply(lambda x: x == [majority_property])]['sentence_id'])"
   ]
  },
  {
   "cell_type": "raw",
   "id": "e7996708-734d-4f72-aa41-838d15a38223",
   "metadata": {},
   "source": [
    "all_agreed_sentences = a_20_sent.intersection(a_21_sent,a_22_sent,gpt_df_sent)"
   ]
  },
  {
   "cell_type": "raw",
   "id": "f8bc4330-e82a-4560-9cb9-398db868a798",
   "metadata": {},
   "source": [
    "len(all_agreed_sentences)"
   ]
  },
  {
   "cell_type": "markdown",
   "id": "9e0b2c2f-cd90-4d42-85a4-f64c22f0d428",
   "metadata": {},
   "source": [
    "### Find all the sentences (and the respective annotations) that are not in the agreed sentences list"
   ]
  },
  {
   "cell_type": "raw",
   "id": "342fea07-90e9-4f59-a582-6219b782879c",
   "metadata": {},
   "source": [
    "_sentIDs = str(all_agreed_sentences).replace(\"{\",\"(\").replace(\"}\",\")\")\n",
    "query = 'SELECT id, technique, text FROM ebdb.sample_sentences where id not in '+_sentIDs+';'\n",
    "non_agreed_sentences = pd.read_sql(query, connection)"
   ]
  },
  {
   "cell_type": "markdown",
   "id": "cc368cd9-ca4f-4c04-b331-5495e392a4a9",
   "metadata": {},
   "source": [
    "### Find all sentences"
   ]
  },
  {
   "cell_type": "code",
   "execution_count": 12,
   "id": "d38fca6d-9aa3-43be-971e-f7322c7039e4",
   "metadata": {},
   "outputs": [
    {
     "name": "stderr",
     "output_type": "stream",
     "text": [
      "/Users/kylehamilton/opt/anaconda3/envs/annotation/lib/python3.9/site-packages/pandas/io/sql.py:762: UserWarning: pandas only support SQLAlchemy connectable(engine/connection) ordatabase string URI or sqlite3 DBAPI2 connectionother DBAPI2 objects are not tested, please consider using SQLAlchemy\n",
      "  warnings.warn(\n"
     ]
    }
   ],
   "source": [
    "query = 'SELECT id, technique, text FROM ebdb.sample_sentences;'\n",
    "non_agreed_sentences = pd.read_sql(query, connection)"
   ]
  },
  {
   "cell_type": "code",
   "execution_count": 13,
   "id": "395d763b-4903-4638-aa58-b1f2166007c9",
   "metadata": {},
   "outputs": [],
   "source": [
    "non_agreed_sentences['feature_id'] = FEATURE\n",
    "non_agreed_sentences['props_a20'] = ''\n",
    "non_agreed_sentences['props_a21'] = ''\n",
    "non_agreed_sentences['props_a22'] = ''\n",
    "non_agreed_sentences['props_gpt'] = ''"
   ]
  },
  {
   "cell_type": "code",
   "execution_count": 14,
   "id": "b7e8a198-c555-42d0-98eb-e97af1e51515",
   "metadata": {},
   "outputs": [],
   "source": [
    "non_agreed_sentences = non_agreed_sentences[['id', 'technique', 'text', 'feature_id', 'props_a20', 'props_a21', 'props_a22', 'props_gpt']]\n",
    "non_agreed_sentences = non_agreed_sentences.rename(columns={'id':'sentence_id'})"
   ]
  },
  {
   "cell_type": "code",
   "execution_count": 15,
   "id": "88dbfb72-1b24-4946-8699-0b1efdee95b1",
   "metadata": {},
   "outputs": [
    {
     "name": "stdout",
     "output_type": "stream",
     "text": [
      "357\n"
     ]
    },
    {
     "data": {
      "text/html": [
       "<div>\n",
       "<style scoped>\n",
       "    .dataframe tbody tr th:only-of-type {\n",
       "        vertical-align: middle;\n",
       "    }\n",
       "\n",
       "    .dataframe tbody tr th {\n",
       "        vertical-align: top;\n",
       "    }\n",
       "\n",
       "    .dataframe thead th {\n",
       "        text-align: right;\n",
       "    }\n",
       "</style>\n",
       "<table border=\"1\" class=\"dataframe\">\n",
       "  <thead>\n",
       "    <tr style=\"text-align: right;\">\n",
       "      <th></th>\n",
       "      <th>sentence_id</th>\n",
       "      <th>technique</th>\n",
       "      <th>text</th>\n",
       "      <th>feature_id</th>\n",
       "      <th>props_a20</th>\n",
       "      <th>props_a21</th>\n",
       "      <th>props_a22</th>\n",
       "      <th>props_gpt</th>\n",
       "    </tr>\n",
       "  </thead>\n",
       "  <tbody>\n",
       "    <tr>\n",
       "      <th>0</th>\n",
       "      <td>4</td>\n",
       "      <td>[0 8 9]</td>\n",
       "      <td>Muhammad advises the same thing, according to ...</td>\n",
       "      <td>Modifying_phrases</td>\n",
       "      <td></td>\n",
       "      <td></td>\n",
       "      <td></td>\n",
       "      <td></td>\n",
       "    </tr>\n",
       "    <tr>\n",
       "      <th>1</th>\n",
       "      <td>11</td>\n",
       "      <td>[0 8]</td>\n",
       "      <td>We are simply asked to take the pope’s word fo...</td>\n",
       "      <td>Modifying_phrases</td>\n",
       "      <td></td>\n",
       "      <td></td>\n",
       "      <td></td>\n",
       "      <td></td>\n",
       "    </tr>\n",
       "    <tr>\n",
       "      <th>2</th>\n",
       "      <td>14</td>\n",
       "      <td>[0]</td>\n",
       "      <td>Conservative Ben Shapiro told Fox news the ver...</td>\n",
       "      <td>Modifying_phrases</td>\n",
       "      <td></td>\n",
       "      <td></td>\n",
       "      <td></td>\n",
       "      <td></td>\n",
       "    </tr>\n",
       "    <tr>\n",
       "      <th>3</th>\n",
       "      <td>16</td>\n",
       "      <td>[0]</td>\n",
       "      <td>According to Breitbart, “Sellner, who describe...</td>\n",
       "      <td>Modifying_phrases</td>\n",
       "      <td></td>\n",
       "      <td></td>\n",
       "      <td></td>\n",
       "      <td></td>\n",
       "    </tr>\n",
       "    <tr>\n",
       "      <th>4</th>\n",
       "      <td>23</td>\n",
       "      <td>[0]</td>\n",
       "      <td>“This is a clear violation of the Senate Ethic...</td>\n",
       "      <td>Modifying_phrases</td>\n",
       "      <td></td>\n",
       "      <td></td>\n",
       "      <td></td>\n",
       "      <td></td>\n",
       "    </tr>\n",
       "  </tbody>\n",
       "</table>\n",
       "</div>"
      ],
      "text/plain": [
       "   sentence_id technique                                               text  \\\n",
       "0            4   [0 8 9]  Muhammad advises the same thing, according to ...   \n",
       "1           11     [0 8]  We are simply asked to take the pope’s word fo...   \n",
       "2           14       [0]  Conservative Ben Shapiro told Fox news the ver...   \n",
       "3           16       [0]  According to Breitbart, “Sellner, who describe...   \n",
       "4           23       [0]  “This is a clear violation of the Senate Ethic...   \n",
       "\n",
       "          feature_id props_a20 props_a21 props_a22 props_gpt  \n",
       "0  Modifying_phrases                                          \n",
       "1  Modifying_phrases                                          \n",
       "2  Modifying_phrases                                          \n",
       "3  Modifying_phrases                                          \n",
       "4  Modifying_phrases                                          "
      ]
     },
     "execution_count": 15,
     "metadata": {},
     "output_type": "execute_result"
    }
   ],
   "source": [
    "print(len(non_agreed_sentences))\n",
    "non_agreed_sentences.head()"
   ]
  },
  {
   "cell_type": "code",
   "execution_count": 16,
   "id": "ecc475fa-4de4-4769-af6f-cd0cd72ca21b",
   "metadata": {},
   "outputs": [
    {
     "data": {
      "text/html": [
       "<div>\n",
       "<style scoped>\n",
       "    .dataframe tbody tr th:only-of-type {\n",
       "        vertical-align: middle;\n",
       "    }\n",
       "\n",
       "    .dataframe tbody tr th {\n",
       "        vertical-align: top;\n",
       "    }\n",
       "\n",
       "    .dataframe thead th {\n",
       "        text-align: right;\n",
       "    }\n",
       "</style>\n",
       "<table border=\"1\" class=\"dataframe\">\n",
       "  <thead>\n",
       "    <tr style=\"text-align: right;\">\n",
       "      <th></th>\n",
       "      <th>sentence_id</th>\n",
       "      <th>technique</th>\n",
       "      <th>text</th>\n",
       "      <th>feature_id</th>\n",
       "      <th>props_a20</th>\n",
       "      <th>props_a21</th>\n",
       "      <th>props_a22</th>\n",
       "      <th>props_gpt</th>\n",
       "    </tr>\n",
       "  </thead>\n",
       "  <tbody>\n",
       "    <tr>\n",
       "      <th>0</th>\n",
       "      <td>4</td>\n",
       "      <td>[0 8 9]</td>\n",
       "      <td>Muhammad advises the same thing, according to ...</td>\n",
       "      <td>Modifying_phrases</td>\n",
       "      <td>[prepositional_phrases, single_word_modifiers,...</td>\n",
       "      <td>[prepositional_phrases, single_word_modifiers]</td>\n",
       "      <td>[prepositional_phrases]</td>\n",
       "      <td></td>\n",
       "    </tr>\n",
       "    <tr>\n",
       "      <th>1</th>\n",
       "      <td>11</td>\n",
       "      <td>[0 8]</td>\n",
       "      <td>We are simply asked to take the pope’s word fo...</td>\n",
       "      <td>Modifying_phrases</td>\n",
       "      <td>[prepositional_phrases, single_word_modifiers]</td>\n",
       "      <td>[prepositional_phrases, single_word_modifiers,...</td>\n",
       "      <td>[prepositional_phrases]</td>\n",
       "      <td></td>\n",
       "    </tr>\n",
       "    <tr>\n",
       "      <th>2</th>\n",
       "      <td>14</td>\n",
       "      <td>[0]</td>\n",
       "      <td>Conservative Ben Shapiro told Fox news the ver...</td>\n",
       "      <td>Modifying_phrases</td>\n",
       "      <td>[single_word_modifiers]</td>\n",
       "      <td></td>\n",
       "      <td></td>\n",
       "      <td></td>\n",
       "    </tr>\n",
       "    <tr>\n",
       "      <th>3</th>\n",
       "      <td>16</td>\n",
       "      <td>[0]</td>\n",
       "      <td>According to Breitbart, “Sellner, who describe...</td>\n",
       "      <td>Modifying_phrases</td>\n",
       "      <td>[prepositional_phrases]</td>\n",
       "      <td>[prepositional_phrases, multiplying_and_embedd...</td>\n",
       "      <td>[prepositional_phrases, single_word_modifiers,...</td>\n",
       "      <td></td>\n",
       "    </tr>\n",
       "    <tr>\n",
       "      <th>4</th>\n",
       "      <td>23</td>\n",
       "      <td>[0]</td>\n",
       "      <td>“This is a clear violation of the Senate Ethic...</td>\n",
       "      <td>Modifying_phrases</td>\n",
       "      <td>[multiplying_and_embedding_modifiers, single_w...</td>\n",
       "      <td>[prepositional_phrases, single_word_modifiers]</td>\n",
       "      <td>[prepositional_phrases, single_word_modifiers]</td>\n",
       "      <td></td>\n",
       "    </tr>\n",
       "    <tr>\n",
       "      <th>...</th>\n",
       "      <td>...</td>\n",
       "      <td>...</td>\n",
       "      <td>...</td>\n",
       "      <td>...</td>\n",
       "      <td>...</td>\n",
       "      <td>...</td>\n",
       "      <td>...</td>\n",
       "      <td>...</td>\n",
       "    </tr>\n",
       "    <tr>\n",
       "      <th>352</th>\n",
       "      <td>14484</td>\n",
       "      <td>[]</td>\n",
       "      <td>They noted Haig's LinkedIn page, which says he...</td>\n",
       "      <td>Modifying_phrases</td>\n",
       "      <td>[multiplying_and_embedding_modifiers]</td>\n",
       "      <td>[prepositional_phrases, single_word_modifiers]</td>\n",
       "      <td>[prepositional_phrases, single_word_modifiers]</td>\n",
       "      <td>[multiplying and embedding modifiers, single w...</td>\n",
       "    </tr>\n",
       "    <tr>\n",
       "      <th>353</th>\n",
       "      <td>14506</td>\n",
       "      <td>[]</td>\n",
       "      <td>When asked about the threats, Haig said, “I’ve...</td>\n",
       "      <td>Modifying_phrases</td>\n",
       "      <td>[prepositional_phrases, single_word_modifiers]</td>\n",
       "      <td>[prepositional_phrases, single_word_modifiers]</td>\n",
       "      <td>[prepositional_phrases, single_word_modifiers]</td>\n",
       "      <td>[multiplying and embedding modifiers, single w...</td>\n",
       "    </tr>\n",
       "    <tr>\n",
       "      <th>354</th>\n",
       "      <td>14878</td>\n",
       "      <td>[]</td>\n",
       "      <td>In 1953, the CIA was in the process of develop...</td>\n",
       "      <td>Modifying_phrases</td>\n",
       "      <td>[multiplying_and_embedding_modifiers]</td>\n",
       "      <td>[prepositional_phrases, single_word_modifiers]</td>\n",
       "      <td>[prepositional_phrases, single_word_modifiers]</td>\n",
       "      <td>[multiplying and embedding modifiers, single w...</td>\n",
       "    </tr>\n",
       "    <tr>\n",
       "      <th>355</th>\n",
       "      <td>15168</td>\n",
       "      <td>[]</td>\n",
       "      <td>“If code is speech, the constitutional contrad...</td>\n",
       "      <td>Modifying_phrases</td>\n",
       "      <td>[prepositional_phrases, single_word_modifiers]</td>\n",
       "      <td>[prepositional_phrases, single_word_modifiers]</td>\n",
       "      <td>[prepositional_phrases, single_word_modifiers]</td>\n",
       "      <td>[multiplying and embedding modifiers, single w...</td>\n",
       "    </tr>\n",
       "    <tr>\n",
       "      <th>356</th>\n",
       "      <td>15233</td>\n",
       "      <td>[]</td>\n",
       "      <td>At first, Campos, a guard at the Mandalay Bay ...</td>\n",
       "      <td>Modifying_phrases</td>\n",
       "      <td>[prepositional_phrases, single_word_modifiers]</td>\n",
       "      <td>[prepositional_phrases, single_word_modifiers]</td>\n",
       "      <td>[prepositional_phrases, single_word_modifiers]</td>\n",
       "      <td>[multiplying and embedding modifiers, single w...</td>\n",
       "    </tr>\n",
       "  </tbody>\n",
       "</table>\n",
       "<p>357 rows × 8 columns</p>\n",
       "</div>"
      ],
      "text/plain": [
       "     sentence_id technique                                               text  \\\n",
       "0              4   [0 8 9]  Muhammad advises the same thing, according to ...   \n",
       "1             11     [0 8]  We are simply asked to take the pope’s word fo...   \n",
       "2             14       [0]  Conservative Ben Shapiro told Fox news the ver...   \n",
       "3             16       [0]  According to Breitbart, “Sellner, who describe...   \n",
       "4             23       [0]  “This is a clear violation of the Senate Ethic...   \n",
       "..           ...       ...                                                ...   \n",
       "352        14484        []  They noted Haig's LinkedIn page, which says he...   \n",
       "353        14506        []  When asked about the threats, Haig said, “I’ve...   \n",
       "354        14878        []  In 1953, the CIA was in the process of develop...   \n",
       "355        15168        []  “If code is speech, the constitutional contrad...   \n",
       "356        15233        []  At first, Campos, a guard at the Mandalay Bay ...   \n",
       "\n",
       "            feature_id                                          props_a20  \\\n",
       "0    Modifying_phrases  [prepositional_phrases, single_word_modifiers,...   \n",
       "1    Modifying_phrases     [prepositional_phrases, single_word_modifiers]   \n",
       "2    Modifying_phrases                            [single_word_modifiers]   \n",
       "3    Modifying_phrases                            [prepositional_phrases]   \n",
       "4    Modifying_phrases  [multiplying_and_embedding_modifiers, single_w...   \n",
       "..                 ...                                                ...   \n",
       "352  Modifying_phrases              [multiplying_and_embedding_modifiers]   \n",
       "353  Modifying_phrases     [prepositional_phrases, single_word_modifiers]   \n",
       "354  Modifying_phrases              [multiplying_and_embedding_modifiers]   \n",
       "355  Modifying_phrases     [prepositional_phrases, single_word_modifiers]   \n",
       "356  Modifying_phrases     [prepositional_phrases, single_word_modifiers]   \n",
       "\n",
       "                                             props_a21  \\\n",
       "0       [prepositional_phrases, single_word_modifiers]   \n",
       "1    [prepositional_phrases, single_word_modifiers,...   \n",
       "2                                                        \n",
       "3    [prepositional_phrases, multiplying_and_embedd...   \n",
       "4       [prepositional_phrases, single_word_modifiers]   \n",
       "..                                                 ...   \n",
       "352     [prepositional_phrases, single_word_modifiers]   \n",
       "353     [prepositional_phrases, single_word_modifiers]   \n",
       "354     [prepositional_phrases, single_word_modifiers]   \n",
       "355     [prepositional_phrases, single_word_modifiers]   \n",
       "356     [prepositional_phrases, single_word_modifiers]   \n",
       "\n",
       "                                             props_a22  \\\n",
       "0                              [prepositional_phrases]   \n",
       "1                              [prepositional_phrases]   \n",
       "2                                                        \n",
       "3    [prepositional_phrases, single_word_modifiers,...   \n",
       "4       [prepositional_phrases, single_word_modifiers]   \n",
       "..                                                 ...   \n",
       "352     [prepositional_phrases, single_word_modifiers]   \n",
       "353     [prepositional_phrases, single_word_modifiers]   \n",
       "354     [prepositional_phrases, single_word_modifiers]   \n",
       "355     [prepositional_phrases, single_word_modifiers]   \n",
       "356     [prepositional_phrases, single_word_modifiers]   \n",
       "\n",
       "                                             props_gpt  \n",
       "0                                                       \n",
       "1                                                       \n",
       "2                                                       \n",
       "3                                                       \n",
       "4                                                       \n",
       "..                                                 ...  \n",
       "352  [multiplying and embedding modifiers, single w...  \n",
       "353  [multiplying and embedding modifiers, single w...  \n",
       "354  [multiplying and embedding modifiers, single w...  \n",
       "355  [multiplying and embedding modifiers, single w...  \n",
       "356  [multiplying and embedding modifiers, single w...  \n",
       "\n",
       "[357 rows x 8 columns]"
      ]
     },
     "execution_count": 16,
     "metadata": {},
     "output_type": "execute_result"
    }
   ],
   "source": [
    "utils.fillInAnnotations(non_agreed_sentences,a_20,a_21,a_22,gpt_df,FEATURE)"
   ]
  },
  {
   "cell_type": "code",
   "execution_count": 17,
   "id": "c97ab4bb-8997-49d5-8e60-5a8392119c1f",
   "metadata": {},
   "outputs": [],
   "source": [
    "non_agreed_sentences.to_csv(\"non_agreed_sentences_\"+FEATURE+\".csv\",index=None)"
   ]
  },
  {
   "cell_type": "markdown",
   "id": "4aafe1fa-d46e-45b1-80b3-f11d1a728024",
   "metadata": {},
   "source": [
    "### Find rows with missing GPT responses"
   ]
  },
  {
   "cell_type": "code",
   "execution_count": 18,
   "id": "f59ddc59-2831-425c-bbeb-06a98bd40d71",
   "metadata": {},
   "outputs": [],
   "source": [
    "to_reprompt = non_agreed_sentences[non_agreed_sentences['props_gpt']=='']"
   ]
  },
  {
   "cell_type": "code",
   "execution_count": 19,
   "id": "55f18390-9423-4906-8c9f-db0d6eee9303",
   "metadata": {
    "tags": []
   },
   "outputs": [
    {
     "name": "stdout",
     "output_type": "stream",
     "text": [
      "46\n"
     ]
    },
    {
     "data": {
      "text/html": [
       "<div>\n",
       "<style scoped>\n",
       "    .dataframe tbody tr th:only-of-type {\n",
       "        vertical-align: middle;\n",
       "    }\n",
       "\n",
       "    .dataframe tbody tr th {\n",
       "        vertical-align: top;\n",
       "    }\n",
       "\n",
       "    .dataframe thead th {\n",
       "        text-align: right;\n",
       "    }\n",
       "</style>\n",
       "<table border=\"1\" class=\"dataframe\">\n",
       "  <thead>\n",
       "    <tr style=\"text-align: right;\">\n",
       "      <th></th>\n",
       "      <th>sentence_id</th>\n",
       "      <th>technique</th>\n",
       "      <th>text</th>\n",
       "      <th>feature_id</th>\n",
       "      <th>props_a20</th>\n",
       "      <th>props_a21</th>\n",
       "      <th>props_a22</th>\n",
       "      <th>props_gpt</th>\n",
       "    </tr>\n",
       "  </thead>\n",
       "  <tbody>\n",
       "    <tr>\n",
       "      <th>0</th>\n",
       "      <td>4</td>\n",
       "      <td>[0 8 9]</td>\n",
       "      <td>Muhammad advises the same thing, according to ...</td>\n",
       "      <td>Modifying_phrases</td>\n",
       "      <td>[prepositional_phrases, single_word_modifiers,...</td>\n",
       "      <td>[prepositional_phrases, single_word_modifiers]</td>\n",
       "      <td>[prepositional_phrases]</td>\n",
       "      <td></td>\n",
       "    </tr>\n",
       "    <tr>\n",
       "      <th>1</th>\n",
       "      <td>11</td>\n",
       "      <td>[0 8]</td>\n",
       "      <td>We are simply asked to take the pope’s word fo...</td>\n",
       "      <td>Modifying_phrases</td>\n",
       "      <td>[prepositional_phrases, single_word_modifiers]</td>\n",
       "      <td>[prepositional_phrases, single_word_modifiers,...</td>\n",
       "      <td>[prepositional_phrases]</td>\n",
       "      <td></td>\n",
       "    </tr>\n",
       "    <tr>\n",
       "      <th>2</th>\n",
       "      <td>14</td>\n",
       "      <td>[0]</td>\n",
       "      <td>Conservative Ben Shapiro told Fox news the ver...</td>\n",
       "      <td>Modifying_phrases</td>\n",
       "      <td>[single_word_modifiers]</td>\n",
       "      <td></td>\n",
       "      <td></td>\n",
       "      <td></td>\n",
       "    </tr>\n",
       "    <tr>\n",
       "      <th>3</th>\n",
       "      <td>16</td>\n",
       "      <td>[0]</td>\n",
       "      <td>According to Breitbart, “Sellner, who describe...</td>\n",
       "      <td>Modifying_phrases</td>\n",
       "      <td>[prepositional_phrases]</td>\n",
       "      <td>[prepositional_phrases, multiplying_and_embedd...</td>\n",
       "      <td>[prepositional_phrases, single_word_modifiers,...</td>\n",
       "      <td></td>\n",
       "    </tr>\n",
       "    <tr>\n",
       "      <th>4</th>\n",
       "      <td>23</td>\n",
       "      <td>[0]</td>\n",
       "      <td>“This is a clear violation of the Senate Ethic...</td>\n",
       "      <td>Modifying_phrases</td>\n",
       "      <td>[multiplying_and_embedding_modifiers, single_w...</td>\n",
       "      <td>[prepositional_phrases, single_word_modifiers]</td>\n",
       "      <td>[prepositional_phrases, single_word_modifiers]</td>\n",
       "      <td></td>\n",
       "    </tr>\n",
       "  </tbody>\n",
       "</table>\n",
       "</div>"
      ],
      "text/plain": [
       "   sentence_id technique                                               text  \\\n",
       "0            4   [0 8 9]  Muhammad advises the same thing, according to ...   \n",
       "1           11     [0 8]  We are simply asked to take the pope’s word fo...   \n",
       "2           14       [0]  Conservative Ben Shapiro told Fox news the ver...   \n",
       "3           16       [0]  According to Breitbart, “Sellner, who describe...   \n",
       "4           23       [0]  “This is a clear violation of the Senate Ethic...   \n",
       "\n",
       "          feature_id                                          props_a20  \\\n",
       "0  Modifying_phrases  [prepositional_phrases, single_word_modifiers,...   \n",
       "1  Modifying_phrases     [prepositional_phrases, single_word_modifiers]   \n",
       "2  Modifying_phrases                            [single_word_modifiers]   \n",
       "3  Modifying_phrases                            [prepositional_phrases]   \n",
       "4  Modifying_phrases  [multiplying_and_embedding_modifiers, single_w...   \n",
       "\n",
       "                                           props_a21  \\\n",
       "0     [prepositional_phrases, single_word_modifiers]   \n",
       "1  [prepositional_phrases, single_word_modifiers,...   \n",
       "2                                                      \n",
       "3  [prepositional_phrases, multiplying_and_embedd...   \n",
       "4     [prepositional_phrases, single_word_modifiers]   \n",
       "\n",
       "                                           props_a22 props_gpt  \n",
       "0                            [prepositional_phrases]            \n",
       "1                            [prepositional_phrases]            \n",
       "2                                                               \n",
       "3  [prepositional_phrases, single_word_modifiers,...            \n",
       "4     [prepositional_phrases, single_word_modifiers]            "
      ]
     },
     "execution_count": 19,
     "metadata": {},
     "output_type": "execute_result"
    }
   ],
   "source": [
    "print(len(to_reprompt))\n",
    "to_reprompt.head()"
   ]
  },
  {
   "cell_type": "markdown",
   "id": "bab9a2cb-6a24-4696-bf16-e9ef8e50c7ea",
   "metadata": {
    "tags": []
   },
   "source": [
    "### Reprompt GPT 3 times and merge with non_agreed_sentences"
   ]
  },
  {
   "cell_type": "code",
   "execution_count": 24,
   "id": "596de4b0-a254-432c-8611-abc8826584cf",
   "metadata": {},
   "outputs": [],
   "source": [
    "# model = \"gpt-3.5-turbo-0301\"\n",
    "# model = \"gpt-3.5-turbo-0613\"\n",
    "# model = \"gpt-3.5-turbo-1106\"\n",
    "# model = \"gpt-4\""
   ]
  },
  {
   "cell_type": "code",
   "execution_count": 20,
   "id": "763ca7ff-6501-40b2-9f2e-e29c03d3847f",
   "metadata": {},
   "outputs": [
    {
     "data": {
      "text/plain": [
       "<module 'GPT' from '/Users/kylehamilton/MyDocuments/ML-Labs/annotation-app/rhetoric-annotation/results/GPT.py'>"
      ]
     },
     "execution_count": 20,
     "metadata": {},
     "output_type": "execute_result"
    }
   ],
   "source": [
    "import GPT\n",
    "importlib.reload(GPT)"
   ]
  },
  {
   "cell_type": "code",
   "execution_count": 27,
   "id": "ac86e5bd-4224-4a2d-aa25-473769516310",
   "metadata": {
    "tags": []
   },
   "outputs": [
    {
     "name": "stderr",
     "output_type": "stream",
     "text": [
      "46it [20:12, 26.35s/it] "
     ]
    },
    {
     "name": "stdout",
     "output_type": "stream",
     "text": [
      "There were 3 errors in round 1.\n"
     ]
    },
    {
     "name": "stderr",
     "output_type": "stream",
     "text": [
      "\n"
     ]
    }
   ],
   "source": [
    "def parseRes(x):\n",
    "    try:\n",
    "        result = utils.parseGPTresponse(x)[1][0]\n",
    "    except:\n",
    "        result = []\n",
    "    return result\n",
    "\n",
    "for i in range(1,2):\n",
    "    responses = []\n",
    "    gpt = GPT.GPT(\"gpt-3.5-turbo-1106\")\n",
    "\n",
    "    for row in tqdm(to_reprompt.iterrows()):\n",
    "        sentence = row[1]['text']\n",
    "        feature = row[1]['feature_id']\n",
    "        sid = row[1]['sentence_id']\n",
    "        promt, response = gpt.get_gpt_response(sentence,feature,sid)\n",
    "        responses.append([sid, response])\n",
    "\n",
    "    df = pd.DataFrame(responses, columns=['sentence_id','res'+str(i)])\n",
    "    df['gpt_props'+str(i)] = df['res'+str(i)].apply(parseRes)\n",
    "    non_agreed_sentences = non_agreed_sentences.merge(df, how='outer',on='sentence_id')\n",
    "    non_agreed_sentences.to_csv(\"non_agreed_sentences_\"+FEATURE+\".csv\",index=None)\n",
    "\n",
    "    print(f\"There were {len(gpt.errors)} errors in round {i}.\")"
   ]
  },
  {
   "cell_type": "raw",
   "id": "4c50a5bb-813d-4b6a-a90c-21715f4e34a8",
   "metadata": {},
   "source": [
    "46it [20:12, 26.35s/it] \n",
    "There were 3 errors in round 1.\n",
    "46it [33:58, 44.32s/it] \n",
    "There were 5 errors in round 2.\n",
    "46it [31:10, 40.67s/it] \n",
    "There were 6 errors in round 3."
   ]
  },
  {
   "cell_type": "code",
   "execution_count": 28,
   "id": "53778206-cbc9-4eee-8973-0f3261baef71",
   "metadata": {},
   "outputs": [
    {
     "name": "stdout",
     "output_type": "stream",
     "text": [
      "357\n"
     ]
    },
    {
     "data": {
      "text/html": [
       "<div>\n",
       "<style scoped>\n",
       "    .dataframe tbody tr th:only-of-type {\n",
       "        vertical-align: middle;\n",
       "    }\n",
       "\n",
       "    .dataframe tbody tr th {\n",
       "        vertical-align: top;\n",
       "    }\n",
       "\n",
       "    .dataframe thead th {\n",
       "        text-align: right;\n",
       "    }\n",
       "</style>\n",
       "<table border=\"1\" class=\"dataframe\">\n",
       "  <thead>\n",
       "    <tr style=\"text-align: right;\">\n",
       "      <th></th>\n",
       "      <th>sentence_id</th>\n",
       "      <th>technique</th>\n",
       "      <th>text</th>\n",
       "      <th>feature_id</th>\n",
       "      <th>props_a20</th>\n",
       "      <th>props_a21</th>\n",
       "      <th>props_a22</th>\n",
       "      <th>props_gpt</th>\n",
       "      <th>res2</th>\n",
       "      <th>gpt_props2</th>\n",
       "      <th>res3</th>\n",
       "      <th>gpt_props3</th>\n",
       "      <th>res1</th>\n",
       "      <th>gpt_props1</th>\n",
       "    </tr>\n",
       "  </thead>\n",
       "  <tbody>\n",
       "    <tr>\n",
       "      <th>0</th>\n",
       "      <td>4</td>\n",
       "      <td>[0 8 9]</td>\n",
       "      <td>Muhammad advises the same thing, according to ...</td>\n",
       "      <td>Modifying_phrases</td>\n",
       "      <td>['prepositional_phrases', 'single_word_modifie...</td>\n",
       "      <td>['prepositional_phrases', 'single_word_modifie...</td>\n",
       "      <td>['prepositional_phrases']</td>\n",
       "      <td>NaN</td>\n",
       "      <td>{\\n  \"Properties\": [\\n    \"prepositional phras...</td>\n",
       "      <td>[]</td>\n",
       "      <td>{\\n  \"Properties\": [\"prepositional phrases\", \"...</td>\n",
       "      <td>['prepositional phrases', 'single word modifie...</td>\n",
       "      <td>{\\n  \"Properties\": [\"prepositional phrases\", \"...</td>\n",
       "      <td>['prepositional phrases', 'single word modifie...</td>\n",
       "    </tr>\n",
       "    <tr>\n",
       "      <th>1</th>\n",
       "      <td>11</td>\n",
       "      <td>[0 8]</td>\n",
       "      <td>We are simply asked to take the pope’s word fo...</td>\n",
       "      <td>Modifying_phrases</td>\n",
       "      <td>['prepositional_phrases', 'single_word_modifie...</td>\n",
       "      <td>['prepositional_phrases', 'single_word_modifie...</td>\n",
       "      <td>['prepositional_phrases']</td>\n",
       "      <td>NaN</td>\n",
       "      <td>{\\n  \"Properties\": [\\n    \"prepositional phras...</td>\n",
       "      <td>[]</td>\n",
       "      <td>{\\n  \"Properties\": [\"prepositional phrases\", \"...</td>\n",
       "      <td>['prepositional phrases', 'single word modifie...</td>\n",
       "      <td>{\\n  \"Properties\": [\"prepositional phrases\", \"...</td>\n",
       "      <td>['prepositional phrases', 'single word modifie...</td>\n",
       "    </tr>\n",
       "    <tr>\n",
       "      <th>2</th>\n",
       "      <td>14</td>\n",
       "      <td>[0]</td>\n",
       "      <td>Conservative Ben Shapiro told Fox news the ver...</td>\n",
       "      <td>Modifying_phrases</td>\n",
       "      <td>['single_word_modifiers']</td>\n",
       "      <td>NaN</td>\n",
       "      <td>NaN</td>\n",
       "      <td>NaN</td>\n",
       "      <td>timeout</td>\n",
       "      <td>[]</td>\n",
       "      <td>{\\n  \"Properties\": [\"single word modifiers\"],\\...</td>\n",
       "      <td>['single word modifiers']</td>\n",
       "      <td>{\\n  \"Properties\": [\"single word modifiers\"],\\...</td>\n",
       "      <td>['single word modifiers']</td>\n",
       "    </tr>\n",
       "    <tr>\n",
       "      <th>3</th>\n",
       "      <td>16</td>\n",
       "      <td>[0]</td>\n",
       "      <td>According to Breitbart, “Sellner, who describe...</td>\n",
       "      <td>Modifying_phrases</td>\n",
       "      <td>['prepositional_phrases']</td>\n",
       "      <td>['prepositional_phrases', 'multiplying_and_emb...</td>\n",
       "      <td>['prepositional_phrases', 'single_word_modifie...</td>\n",
       "      <td>NaN</td>\n",
       "      <td>{\\n  \"Properties\": [\"prepositional phrases\", \"...</td>\n",
       "      <td>['prepositional phrases', 'single word modifie...</td>\n",
       "      <td>{\\n  \"Properties\": [\\n    \"prepositional phras...</td>\n",
       "      <td>[]</td>\n",
       "      <td>timeout</td>\n",
       "      <td>[]</td>\n",
       "    </tr>\n",
       "    <tr>\n",
       "      <th>4</th>\n",
       "      <td>23</td>\n",
       "      <td>[0]</td>\n",
       "      <td>“This is a clear violation of the Senate Ethic...</td>\n",
       "      <td>Modifying_phrases</td>\n",
       "      <td>['multiplying_and_embedding_modifiers', 'singl...</td>\n",
       "      <td>['prepositional_phrases', 'single_word_modifie...</td>\n",
       "      <td>['prepositional_phrases', 'single_word_modifie...</td>\n",
       "      <td>NaN</td>\n",
       "      <td>{\\n  \"Properties\": [\\n    \"prepositional phras...</td>\n",
       "      <td>[]</td>\n",
       "      <td>{\\n  \"Properties\": [\"prepositional phrases\", \"...</td>\n",
       "      <td>['prepositional phrases', 'single word modifie...</td>\n",
       "      <td>{\\n  \"Properties\": [\\n    \"prepositional phras...</td>\n",
       "      <td>[]</td>\n",
       "    </tr>\n",
       "  </tbody>\n",
       "</table>\n",
       "</div>"
      ],
      "text/plain": [
       "   sentence_id technique                                               text  \\\n",
       "0            4   [0 8 9]  Muhammad advises the same thing, according to ...   \n",
       "1           11     [0 8]  We are simply asked to take the pope’s word fo...   \n",
       "2           14       [0]  Conservative Ben Shapiro told Fox news the ver...   \n",
       "3           16       [0]  According to Breitbart, “Sellner, who describe...   \n",
       "4           23       [0]  “This is a clear violation of the Senate Ethic...   \n",
       "\n",
       "          feature_id                                          props_a20  \\\n",
       "0  Modifying_phrases  ['prepositional_phrases', 'single_word_modifie...   \n",
       "1  Modifying_phrases  ['prepositional_phrases', 'single_word_modifie...   \n",
       "2  Modifying_phrases                          ['single_word_modifiers']   \n",
       "3  Modifying_phrases                          ['prepositional_phrases']   \n",
       "4  Modifying_phrases  ['multiplying_and_embedding_modifiers', 'singl...   \n",
       "\n",
       "                                           props_a21  \\\n",
       "0  ['prepositional_phrases', 'single_word_modifie...   \n",
       "1  ['prepositional_phrases', 'single_word_modifie...   \n",
       "2                                                NaN   \n",
       "3  ['prepositional_phrases', 'multiplying_and_emb...   \n",
       "4  ['prepositional_phrases', 'single_word_modifie...   \n",
       "\n",
       "                                           props_a22 props_gpt  \\\n",
       "0                          ['prepositional_phrases']       NaN   \n",
       "1                          ['prepositional_phrases']       NaN   \n",
       "2                                                NaN       NaN   \n",
       "3  ['prepositional_phrases', 'single_word_modifie...       NaN   \n",
       "4  ['prepositional_phrases', 'single_word_modifie...       NaN   \n",
       "\n",
       "                                                res2  \\\n",
       "0  {\\n  \"Properties\": [\\n    \"prepositional phras...   \n",
       "1  {\\n  \"Properties\": [\\n    \"prepositional phras...   \n",
       "2                                            timeout   \n",
       "3  {\\n  \"Properties\": [\"prepositional phrases\", \"...   \n",
       "4  {\\n  \"Properties\": [\\n    \"prepositional phras...   \n",
       "\n",
       "                                          gpt_props2  \\\n",
       "0                                                 []   \n",
       "1                                                 []   \n",
       "2                                                 []   \n",
       "3  ['prepositional phrases', 'single word modifie...   \n",
       "4                                                 []   \n",
       "\n",
       "                                                res3  \\\n",
       "0  {\\n  \"Properties\": [\"prepositional phrases\", \"...   \n",
       "1  {\\n  \"Properties\": [\"prepositional phrases\", \"...   \n",
       "2  {\\n  \"Properties\": [\"single word modifiers\"],\\...   \n",
       "3  {\\n  \"Properties\": [\\n    \"prepositional phras...   \n",
       "4  {\\n  \"Properties\": [\"prepositional phrases\", \"...   \n",
       "\n",
       "                                          gpt_props3  \\\n",
       "0  ['prepositional phrases', 'single word modifie...   \n",
       "1  ['prepositional phrases', 'single word modifie...   \n",
       "2                          ['single word modifiers']   \n",
       "3                                                 []   \n",
       "4  ['prepositional phrases', 'single word modifie...   \n",
       "\n",
       "                                                res1  \\\n",
       "0  {\\n  \"Properties\": [\"prepositional phrases\", \"...   \n",
       "1  {\\n  \"Properties\": [\"prepositional phrases\", \"...   \n",
       "2  {\\n  \"Properties\": [\"single word modifiers\"],\\...   \n",
       "3                                            timeout   \n",
       "4  {\\n  \"Properties\": [\\n    \"prepositional phras...   \n",
       "\n",
       "                                          gpt_props1  \n",
       "0  ['prepositional phrases', 'single word modifie...  \n",
       "1  ['prepositional phrases', 'single word modifie...  \n",
       "2                          ['single word modifiers']  \n",
       "3                                                 []  \n",
       "4                                                 []  "
      ]
     },
     "execution_count": 28,
     "metadata": {},
     "output_type": "execute_result"
    }
   ],
   "source": [
    "# Sanity check\n",
    "non_agreed_sentences = pd.read_csv(\"non_agreed_sentences_\"+FEATURE+\".csv\")\n",
    "print(len(non_agreed_sentences))\n",
    "non_agreed_sentences.head()"
   ]
  },
  {
   "cell_type": "code",
   "execution_count": 29,
   "id": "e0824e61-7967-4ea7-8f19-349f3f0b8828",
   "metadata": {},
   "outputs": [],
   "source": [
    "# get the majority vote from the annotators (props_a20, props_a21, props_a22)\n",
    "\n",
    "# What to do when there is no majority? NA?\n",
    "\n",
    "\n",
    "non_agreed_sentences['props_a_majority'] = non_agreed_sentences['props_a20']+\", \"+\\\n",
    "                                           non_agreed_sentences['props_a21']+\", \"+\\\n",
    "                                           non_agreed_sentences['props_a22'] #.apply(utils.find_majority)\n",
    "\n",
    "def convert(x):\n",
    "    try: result = list(ast.literal_eval(x))\n",
    "    except: result = [[]]\n",
    "    return result\n",
    "\n",
    "non_agreed_sentences['props_a_majority'] = non_agreed_sentences['props_a_majority'].apply(convert)\n",
    "non_agreed_sentences['props_a_majority'] = non_agreed_sentences['props_a_majority'].apply(lambda l: utils.find_majority(l)[0])"
   ]
  },
  {
   "cell_type": "code",
   "execution_count": 30,
   "id": "fb3aed2c-8cc0-4394-b76b-26096471c0a4",
   "metadata": {},
   "outputs": [],
   "source": [
    "# get the majority vote from the reprompt (gpt_props1, gpt_props2, gpt_props3)\n",
    "\n",
    "non_agreed_sentences['props_gpt_majority'] = non_agreed_sentences['gpt_props1']+\", \"+\\\n",
    "                                           non_agreed_sentences['gpt_props2']+\", \"+\\\n",
    "                                           non_agreed_sentences['gpt_props3'] #.apply(utils.find_majority)\n",
    "\n",
    "def convert(x):\n",
    "    try: result = list(ast.literal_eval(x))\n",
    "    except: result = [[]]\n",
    "    return result\n",
    "\n",
    "non_agreed_sentences['props_gpt_majority'] = non_agreed_sentences['props_gpt_majority'].apply(convert)\n",
    "non_agreed_sentences['props_gpt_majority'] = non_agreed_sentences['props_gpt_majority'].apply(lambda l: utils.find_majority(l)[0])"
   ]
  },
  {
   "cell_type": "code",
   "execution_count": 31,
   "id": "d67d1e22-2ea8-49b8-a84c-d6bfe6c8c958",
   "metadata": {},
   "outputs": [],
   "source": [
    "# Merge the previous gpt props with the newly reprompted ones into a single column\n",
    "def convert(x):\n",
    "    try: \n",
    "        result = list(ast.literal_eval(x))\n",
    "        result = [r.replace(\" \",\"_\") for r in result]\n",
    "    except: \n",
    "        result = []\n",
    "    return result\n",
    "\n",
    "non_agreed_sentences['props_gpt'] = non_agreed_sentences['props_gpt'].apply(convert)\n",
    "non_agreed_sentences['props_gpt_majority'] = non_agreed_sentences['props_gpt_majority'] + non_agreed_sentences['props_gpt']\n",
    "non_agreed_sentences = non_agreed_sentences.drop(['props_gpt'], axis=1)\n"
   ]
  },
  {
   "cell_type": "markdown",
   "id": "36b7c08a-f323-4eb9-85c0-a1a73ac9b0e4",
   "metadata": {},
   "source": [
    "### Calculate agreement between annotator majority and GPT majority\n",
    "\n",
    "One issue is that when there is no majority the last item is selected"
   ]
  },
  {
   "cell_type": "code",
   "execution_count": 32,
   "id": "bf7163b6-d371-49e4-906b-4de66a132d5b",
   "metadata": {},
   "outputs": [],
   "source": [
    "non_agreed_sentences['ann_gpt_agreemnt'] = non_agreed_sentences.apply(lambda x: utils.calcAgreement(x['props_a_majority'],x['props_gpt_majority']), axis=1)"
   ]
  },
  {
   "cell_type": "code",
   "execution_count": 33,
   "id": "3ec2d329-3e87-4500-8017-d9ac75d77849",
   "metadata": {},
   "outputs": [],
   "source": [
    "# save the final version\n",
    "non_agreed_sentences.to_csv(\"non_agreed_sentences_\"+FEATURE+\".csv\",index=None)"
   ]
  },
  {
   "cell_type": "code",
   "execution_count": 34,
   "id": "c3171f63-c8ae-455b-8578-cc2418f696e5",
   "metadata": {},
   "outputs": [
    {
     "name": "stdout",
     "output_type": "stream",
     "text": [
      "357\n"
     ]
    },
    {
     "data": {
      "text/html": [
       "<div>\n",
       "<style scoped>\n",
       "    .dataframe tbody tr th:only-of-type {\n",
       "        vertical-align: middle;\n",
       "    }\n",
       "\n",
       "    .dataframe tbody tr th {\n",
       "        vertical-align: top;\n",
       "    }\n",
       "\n",
       "    .dataframe thead th {\n",
       "        text-align: right;\n",
       "    }\n",
       "</style>\n",
       "<table border=\"1\" class=\"dataframe\">\n",
       "  <thead>\n",
       "    <tr style=\"text-align: right;\">\n",
       "      <th></th>\n",
       "      <th>sentence_id</th>\n",
       "      <th>technique</th>\n",
       "      <th>text</th>\n",
       "      <th>feature_id</th>\n",
       "      <th>props_a20</th>\n",
       "      <th>props_a21</th>\n",
       "      <th>props_a22</th>\n",
       "      <th>res2</th>\n",
       "      <th>gpt_props2</th>\n",
       "      <th>res3</th>\n",
       "      <th>gpt_props3</th>\n",
       "      <th>res1</th>\n",
       "      <th>gpt_props1</th>\n",
       "      <th>props_a_majority</th>\n",
       "      <th>props_gpt_majority</th>\n",
       "      <th>ann_gpt_agreemnt</th>\n",
       "    </tr>\n",
       "  </thead>\n",
       "  <tbody>\n",
       "    <tr>\n",
       "      <th>0</th>\n",
       "      <td>4</td>\n",
       "      <td>[0 8 9]</td>\n",
       "      <td>Muhammad advises the same thing, according to ...</td>\n",
       "      <td>Modifying_phrases</td>\n",
       "      <td>['prepositional_phrases', 'single_word_modifie...</td>\n",
       "      <td>['prepositional_phrases', 'single_word_modifie...</td>\n",
       "      <td>['prepositional_phrases']</td>\n",
       "      <td>{\\n  \"Properties\": [\\n    \"prepositional phras...</td>\n",
       "      <td>[]</td>\n",
       "      <td>{\\n  \"Properties\": [\"prepositional phrases\", \"...</td>\n",
       "      <td>['prepositional phrases', 'single word modifie...</td>\n",
       "      <td>{\\n  \"Properties\": [\"prepositional phrases\", \"...</td>\n",
       "      <td>['prepositional phrases', 'single word modifie...</td>\n",
       "      <td>['prepositional_phrases', 'single_word_modifie...</td>\n",
       "      <td>['prepositional phrases', 'single word modifie...</td>\n",
       "      <td>-1</td>\n",
       "    </tr>\n",
       "    <tr>\n",
       "      <th>1</th>\n",
       "      <td>11</td>\n",
       "      <td>[0 8]</td>\n",
       "      <td>We are simply asked to take the pope’s word fo...</td>\n",
       "      <td>Modifying_phrases</td>\n",
       "      <td>['prepositional_phrases', 'single_word_modifie...</td>\n",
       "      <td>['prepositional_phrases', 'single_word_modifie...</td>\n",
       "      <td>['prepositional_phrases']</td>\n",
       "      <td>{\\n  \"Properties\": [\\n    \"prepositional phras...</td>\n",
       "      <td>[]</td>\n",
       "      <td>{\\n  \"Properties\": [\"prepositional phrases\", \"...</td>\n",
       "      <td>['prepositional phrases', 'single word modifie...</td>\n",
       "      <td>{\\n  \"Properties\": [\"prepositional phrases\", \"...</td>\n",
       "      <td>['prepositional phrases', 'single word modifie...</td>\n",
       "      <td>['prepositional_phrases', 'single_word_modifie...</td>\n",
       "      <td>['prepositional phrases', 'single word modifie...</td>\n",
       "      <td>-1</td>\n",
       "    </tr>\n",
       "    <tr>\n",
       "      <th>2</th>\n",
       "      <td>14</td>\n",
       "      <td>[0]</td>\n",
       "      <td>Conservative Ben Shapiro told Fox news the ver...</td>\n",
       "      <td>Modifying_phrases</td>\n",
       "      <td>['single_word_modifiers']</td>\n",
       "      <td>NaN</td>\n",
       "      <td>NaN</td>\n",
       "      <td>timeout</td>\n",
       "      <td>[]</td>\n",
       "      <td>{\\n  \"Properties\": [\"single word modifiers\"],\\...</td>\n",
       "      <td>['single word modifiers']</td>\n",
       "      <td>{\\n  \"Properties\": [\"single word modifiers\"],\\...</td>\n",
       "      <td>['single word modifiers']</td>\n",
       "      <td>[]</td>\n",
       "      <td>['single word modifiers']</td>\n",
       "      <td>-1</td>\n",
       "    </tr>\n",
       "    <tr>\n",
       "      <th>3</th>\n",
       "      <td>16</td>\n",
       "      <td>[0]</td>\n",
       "      <td>According to Breitbart, “Sellner, who describe...</td>\n",
       "      <td>Modifying_phrases</td>\n",
       "      <td>['prepositional_phrases']</td>\n",
       "      <td>['prepositional_phrases', 'multiplying_and_emb...</td>\n",
       "      <td>['prepositional_phrases', 'single_word_modifie...</td>\n",
       "      <td>{\\n  \"Properties\": [\"prepositional phrases\", \"...</td>\n",
       "      <td>['prepositional phrases', 'single word modifie...</td>\n",
       "      <td>{\\n  \"Properties\": [\\n    \"prepositional phras...</td>\n",
       "      <td>[]</td>\n",
       "      <td>timeout</td>\n",
       "      <td>[]</td>\n",
       "      <td>['prepositional_phrases']</td>\n",
       "      <td>[]</td>\n",
       "      <td>-1</td>\n",
       "    </tr>\n",
       "    <tr>\n",
       "      <th>4</th>\n",
       "      <td>23</td>\n",
       "      <td>[0]</td>\n",
       "      <td>“This is a clear violation of the Senate Ethic...</td>\n",
       "      <td>Modifying_phrases</td>\n",
       "      <td>['multiplying_and_embedding_modifiers', 'singl...</td>\n",
       "      <td>['prepositional_phrases', 'single_word_modifie...</td>\n",
       "      <td>['prepositional_phrases', 'single_word_modifie...</td>\n",
       "      <td>{\\n  \"Properties\": [\\n    \"prepositional phras...</td>\n",
       "      <td>[]</td>\n",
       "      <td>{\\n  \"Properties\": [\"prepositional phrases\", \"...</td>\n",
       "      <td>['prepositional phrases', 'single word modifie...</td>\n",
       "      <td>{\\n  \"Properties\": [\\n    \"prepositional phras...</td>\n",
       "      <td>[]</td>\n",
       "      <td>['prepositional_phrases', 'single_word_modifie...</td>\n",
       "      <td>[]</td>\n",
       "      <td>-1</td>\n",
       "    </tr>\n",
       "  </tbody>\n",
       "</table>\n",
       "</div>"
      ],
      "text/plain": [
       "   sentence_id technique                                               text  \\\n",
       "0            4   [0 8 9]  Muhammad advises the same thing, according to ...   \n",
       "1           11     [0 8]  We are simply asked to take the pope’s word fo...   \n",
       "2           14       [0]  Conservative Ben Shapiro told Fox news the ver...   \n",
       "3           16       [0]  According to Breitbart, “Sellner, who describe...   \n",
       "4           23       [0]  “This is a clear violation of the Senate Ethic...   \n",
       "\n",
       "          feature_id                                          props_a20  \\\n",
       "0  Modifying_phrases  ['prepositional_phrases', 'single_word_modifie...   \n",
       "1  Modifying_phrases  ['prepositional_phrases', 'single_word_modifie...   \n",
       "2  Modifying_phrases                          ['single_word_modifiers']   \n",
       "3  Modifying_phrases                          ['prepositional_phrases']   \n",
       "4  Modifying_phrases  ['multiplying_and_embedding_modifiers', 'singl...   \n",
       "\n",
       "                                           props_a21  \\\n",
       "0  ['prepositional_phrases', 'single_word_modifie...   \n",
       "1  ['prepositional_phrases', 'single_word_modifie...   \n",
       "2                                                NaN   \n",
       "3  ['prepositional_phrases', 'multiplying_and_emb...   \n",
       "4  ['prepositional_phrases', 'single_word_modifie...   \n",
       "\n",
       "                                           props_a22  \\\n",
       "0                          ['prepositional_phrases']   \n",
       "1                          ['prepositional_phrases']   \n",
       "2                                                NaN   \n",
       "3  ['prepositional_phrases', 'single_word_modifie...   \n",
       "4  ['prepositional_phrases', 'single_word_modifie...   \n",
       "\n",
       "                                                res2  \\\n",
       "0  {\\n  \"Properties\": [\\n    \"prepositional phras...   \n",
       "1  {\\n  \"Properties\": [\\n    \"prepositional phras...   \n",
       "2                                            timeout   \n",
       "3  {\\n  \"Properties\": [\"prepositional phrases\", \"...   \n",
       "4  {\\n  \"Properties\": [\\n    \"prepositional phras...   \n",
       "\n",
       "                                          gpt_props2  \\\n",
       "0                                                 []   \n",
       "1                                                 []   \n",
       "2                                                 []   \n",
       "3  ['prepositional phrases', 'single word modifie...   \n",
       "4                                                 []   \n",
       "\n",
       "                                                res3  \\\n",
       "0  {\\n  \"Properties\": [\"prepositional phrases\", \"...   \n",
       "1  {\\n  \"Properties\": [\"prepositional phrases\", \"...   \n",
       "2  {\\n  \"Properties\": [\"single word modifiers\"],\\...   \n",
       "3  {\\n  \"Properties\": [\\n    \"prepositional phras...   \n",
       "4  {\\n  \"Properties\": [\"prepositional phrases\", \"...   \n",
       "\n",
       "                                          gpt_props3  \\\n",
       "0  ['prepositional phrases', 'single word modifie...   \n",
       "1  ['prepositional phrases', 'single word modifie...   \n",
       "2                          ['single word modifiers']   \n",
       "3                                                 []   \n",
       "4  ['prepositional phrases', 'single word modifie...   \n",
       "\n",
       "                                                res1  \\\n",
       "0  {\\n  \"Properties\": [\"prepositional phrases\", \"...   \n",
       "1  {\\n  \"Properties\": [\"prepositional phrases\", \"...   \n",
       "2  {\\n  \"Properties\": [\"single word modifiers\"],\\...   \n",
       "3                                            timeout   \n",
       "4  {\\n  \"Properties\": [\\n    \"prepositional phras...   \n",
       "\n",
       "                                          gpt_props1  \\\n",
       "0  ['prepositional phrases', 'single word modifie...   \n",
       "1  ['prepositional phrases', 'single word modifie...   \n",
       "2                          ['single word modifiers']   \n",
       "3                                                 []   \n",
       "4                                                 []   \n",
       "\n",
       "                                    props_a_majority  \\\n",
       "0  ['prepositional_phrases', 'single_word_modifie...   \n",
       "1  ['prepositional_phrases', 'single_word_modifie...   \n",
       "2                                                 []   \n",
       "3                          ['prepositional_phrases']   \n",
       "4  ['prepositional_phrases', 'single_word_modifie...   \n",
       "\n",
       "                                  props_gpt_majority  ann_gpt_agreemnt  \n",
       "0  ['prepositional phrases', 'single word modifie...                -1  \n",
       "1  ['prepositional phrases', 'single word modifie...                -1  \n",
       "2                          ['single word modifiers']                -1  \n",
       "3                                                 []                -1  \n",
       "4                                                 []                -1  "
      ]
     },
     "execution_count": 34,
     "metadata": {},
     "output_type": "execute_result"
    }
   ],
   "source": [
    "# Sanity check\n",
    "non_agreed_sentences = pd.read_csv(\"non_agreed_sentences_\"+FEATURE+\".csv\")\n",
    "print(len(non_agreed_sentences))\n",
    "non_agreed_sentences.head()"
   ]
  },
  {
   "cell_type": "code",
   "execution_count": null,
   "id": "f0cf3d88-046b-4109-a2ce-a45098ee9694",
   "metadata": {},
   "outputs": [],
   "source": []
  },
  {
   "cell_type": "markdown",
   "id": "83c282da-7180-4cc7-a9c5-ad76abd1c63b",
   "metadata": {},
   "source": [
    "# FIX ALL THE ERRORS\n",
    "(Majorities are calculated at the list level, not the item level for both annotators and GPT)"
   ]
  },
  {
   "cell_type": "code",
   "execution_count": 1,
   "id": "67ad18b0-b25d-49e2-84bb-0f2f724ab5fb",
   "metadata": {},
   "outputs": [],
   "source": [
    "import pandas as pd\n",
    "import json\n",
    "import matplotlib.pyplot as plt\n",
    "import numpy as np\n",
    "from collections import Counter\n",
    "import utils\n",
    "import importlib\n",
    "import ast\n",
    "from tqdm import tqdm\n",
    "import re"
   ]
  },
  {
   "cell_type": "code",
   "execution_count": 2,
   "id": "b2d7aab4-c7a0-49fa-8d0a-b8c350b0dd0a",
   "metadata": {},
   "outputs": [
    {
     "data": {
      "text/plain": [
       "<module 'utils' from '/Users/kylehamilton/MyDocuments/ML-Labs/annotation-app/rhetoric-annotation/results/utils.py'>"
      ]
     },
     "execution_count": 2,
     "metadata": {},
     "output_type": "execute_result"
    }
   ],
   "source": [
    "importlib.reload(utils)"
   ]
  },
  {
   "cell_type": "code",
   "execution_count": 3,
   "id": "bdc707fe-4731-434d-bc9e-5d48317213a2",
   "metadata": {},
   "outputs": [],
   "source": [
    "FEATURE = \"Modifying_phrases\""
   ]
  },
  {
   "cell_type": "code",
   "execution_count": 6,
   "id": "dce27d63-c3b5-4153-865e-9c07b6e69232",
   "metadata": {
    "tags": []
   },
   "outputs": [],
   "source": [
    "non_agreed_sentences = pd.read_csv(\"non_agreed_sentences_\"+FEATURE+\".csv\")\n",
    "\n",
    "def parseRes(x):\n",
    "    try:\n",
    "        result = utils.parseGPTresponse(x)[1][0]\n",
    "    except:\n",
    "        result = []\n",
    "    return result\n",
    "\n",
    "for i in range(1,4):\n",
    "    non_agreed_sentences['gpt_props'+str(i)] = non_agreed_sentences['res'+str(i)].apply(parseRes)\n",
    "\n",
    "def listOfLists(*lists):\n",
    "    new_list = []\n",
    "    for l in lists:\n",
    "        if len(l):\n",
    "            new_list.append(l)\n",
    "    return new_list\n",
    "\n",
    "non_agreed_sentences['props_gpt_list'] = non_agreed_sentences.apply(lambda x: listOfLists(x['gpt_props1'],\n",
    "                                                                                          x['gpt_props2'],\n",
    "                                                                                          x['gpt_props3']), axis=1)\n",
    "def find_majority(row):\n",
    "    if len(row.props_gpt_list):\n",
    "        return utils.find_majority(row.props_gpt_list)[0]\n",
    "    else:\n",
    "        return row.props_gpt_majority\n",
    "    \n",
    "non_agreed_sentences['props_gpt_majority'] = non_agreed_sentences.apply(lambda x: find_majority(x),axis=1)\n",
    "non_agreed_sentences = non_agreed_sentences.drop(['props_gpt_list'], axis=1)\n",
    "\n",
    "\n",
    "# # the old GPT majorities still have spaces. Remove spaces\n",
    "def replaceSpaces(x):\n",
    "    x = ast.literl_eval(x)\n",
    "    x = [i.replace(\" \",\"_\") for i in x]\n",
    "    return x\n",
    "\n",
    "non_agreed_sentences['props_gpt_majority'] = non_agreed_sentences['props_gpt_majority'].apply(replaceSpaces)\n",
    "\n",
    "\n",
    "non_agreed_sentences['ann_gpt_agreemnt'] = non_agreed_sentences.apply(lambda x: utils.calcAgreement(x['props_a_majority'],x['props_gpt_majority']), axis=1)\n",
    "\n",
    "non_agreed_sentences.to_csv(\"non_agreed_sentences_\"+FEATURE+\".csv\",index=None)\n",
    "non_agreed_sentences = pd.read_csv(\"non_agreed_sentences_\"+FEATURE+\".csv\")\n"
   ]
  },
  {
   "cell_type": "code",
   "execution_count": null,
   "id": "7f8fec83-f55a-4ba0-bc12-576a1971949c",
   "metadata": {},
   "outputs": [],
   "source": []
  },
  {
   "cell_type": "code",
   "execution_count": null,
   "id": "98a78c3a-1b6d-4c96-b985-48072fb79ab4",
   "metadata": {},
   "outputs": [],
   "source": []
  }
 ],
 "metadata": {
  "kernelspec": {
   "display_name": "Python 3 (ipykernel)",
   "language": "python",
   "name": "python3"
  },
  "language_info": {
   "codemirror_mode": {
    "name": "ipython",
    "version": 3
   },
   "file_extension": ".py",
   "mimetype": "text/x-python",
   "name": "python",
   "nbconvert_exporter": "python",
   "pygments_lexer": "ipython3",
   "version": "3.9.13"
  }
 },
 "nbformat": 4,
 "nbformat_minor": 5
}
