{
 "cells": [
  {
   "cell_type": "markdown",
   "id": "254fe664-2f3e-4847-91c2-54b3b9048f84",
   "metadata": {},
   "source": [
    "# Modifying phrases\n",
    "\n",
    "* Annotate modifying phrases by using parse tree instead of humans or GPT\n",
    "\n",
    "  - \"prepositional phrases\"\n",
    "    ```\n",
    "    PP\n",
    "    ```\n",
    "    \n",
    "  - \"single word modifiers\",\n",
    "    ```\n",
    "    ADJ: \"adjective\",\n",
    "    ADV: \"adverb\",\n",
    "  \n",
    "    RB: \"adverb\",\n",
    "    RBR: \"adverb, comparative\",\n",
    "    RBS: \"adverb, superlative\",\n",
    "    RP: \"adverb, particle\",\n",
    "    JJ: \"adjective (English), other noun-modifier (Chinese)\",\n",
    "    JJR: \"adjective, comparative\",\n",
    "    JJS: \"adjective, superlative\",\n",
    "    ```\n",
    "\n",
    "  \n",
    "  - \"multiplying and embedding modifiers\"\n",
    "  "
   ]
  },
  {
   "cell_type": "code",
   "execution_count": 7,
   "id": "b9e9575a-1bb0-4ef2-99eb-bed85434b8c8",
   "metadata": {},
   "outputs": [],
   "source": [
    "import pandas as pd\n",
    "import utils"
   ]
  },
  {
   "cell_type": "code",
   "execution_count": 3,
   "id": "0b4b6247-8c0b-475b-815a-4e0578d67a23",
   "metadata": {},
   "outputs": [],
   "source": [
    "df = pd.read_csv(\"data/human_gpt_verified/Modifying_phrases.csv\")"
   ]
  },
  {
   "cell_type": "code",
   "execution_count": 5,
   "id": "b5fe7c75-c81b-4167-81f7-a0156e031319",
   "metadata": {},
   "outputs": [
    {
     "data": {
      "text/plain": [
       "87"
      ]
     },
     "execution_count": 5,
     "metadata": {},
     "output_type": "execute_result"
    }
   ],
   "source": [
    "len(df)"
   ]
  },
  {
   "cell_type": "code",
   "execution_count": 6,
   "id": "009a6f49-e090-4ae1-b34f-aba752f24e82",
   "metadata": {},
   "outputs": [
    {
     "data": {
      "text/plain": [
       "Index(['sentence_id', 'technique', 'text', 'feature_id', 'props_a20',\n",
       "       'props_a21', 'props_a22', 'annotator_consistency',\n",
       "       'props_gpt4_majority', 'res_1.0_1', 'gpt_props_1.0_1', 'res_1.0_2',\n",
       "       'gpt_props_1.0_2', 'res_1.0_3', 'gpt_props_1.0_3',\n",
       "       'gpt3.5_1.0_consistency', 'res_0.2_1', 'gpt_props_0.2_1', 'res_0.2_2',\n",
       "       'gpt_props_0.2_2', 'res_0.2_3', 'gpt_props_0.2_3',\n",
       "       'gpt3.5_0.2_consistency', 'gpt3.5_0.2_majority', 'humans isCorrect',\n",
       "       'gpt isCorrect', 'comments', 'ground truth'],\n",
       "      dtype='object')"
      ]
     },
     "execution_count": 6,
     "metadata": {},
     "output_type": "execute_result"
    }
   ],
   "source": [
    "df.columns"
   ]
  },
  {
   "cell_type": "code",
   "execution_count": 8,
   "id": "6ec3763d-717b-44e8-8ded-91cabbfcd2e3",
   "metadata": {},
   "outputs": [],
   "source": [
    "connection = utils.connectDB()"
   ]
  },
  {
   "cell_type": "code",
   "execution_count": 18,
   "id": "ff4eb425-c8fc-423b-b536-370c643a5bf0",
   "metadata": {},
   "outputs": [],
   "source": [
    "ids = tuple(df['sentence_id'])"
   ]
  },
  {
   "cell_type": "code",
   "execution_count": 25,
   "id": "b4b72034-1184-4b82-8a71-cae2e40911d8",
   "metadata": {},
   "outputs": [
    {
     "name": "stderr",
     "output_type": "stream",
     "text": [
      "/var/folders/vt/g1t9ds3s01z05zs4qg2dngk80000gn/T/ipykernel_58175/2940145906.py:2: UserWarning: pandas only supports SQLAlchemy connectable (engine/connection) or database string URI or sqlite3 DBAPI2 connection. Other DBAPI2 objects are not tested. Please consider using SQLAlchemy.\n",
      "  parseTrees = pd.read_sql(query, connection)\n"
     ]
    }
   ],
   "source": [
    "query = 'SELECT id,text, parseTree FROM ebdb.sample_sentences WHERE id in '+str(ids)+';'\n",
    "parseTrees = pd.read_sql(query, connection)"
   ]
  },
  {
   "cell_type": "code",
   "execution_count": 26,
   "id": "e787859a-aaa5-44e7-b75a-c1c82ee91dfb",
   "metadata": {},
   "outputs": [
    {
     "data": {
      "text/html": [
       "<div>\n",
       "<style scoped>\n",
       "    .dataframe tbody tr th:only-of-type {\n",
       "        vertical-align: middle;\n",
       "    }\n",
       "\n",
       "    .dataframe tbody tr th {\n",
       "        vertical-align: top;\n",
       "    }\n",
       "\n",
       "    .dataframe thead th {\n",
       "        text-align: right;\n",
       "    }\n",
       "</style>\n",
       "<table border=\"1\" class=\"dataframe\">\n",
       "  <thead>\n",
       "    <tr style=\"text-align: right;\">\n",
       "      <th></th>\n",
       "      <th>id</th>\n",
       "      <th>text</th>\n",
       "      <th>parseTree</th>\n",
       "    </tr>\n",
       "  </thead>\n",
       "  <tbody>\n",
       "    <tr>\n",
       "      <th>0</th>\n",
       "      <td>253</td>\n",
       "      <td>Either that or they can go whine to the New Yo...</td>\n",
       "      <td>(S (CC Either) (NP (DT that)) (CC or) (NP (PRP...</td>\n",
       "    </tr>\n",
       "    <tr>\n",
       "      <th>1</th>\n",
       "      <td>263</td>\n",
       "      <td>While Obama pardoned drug dealers and locked u...</td>\n",
       "      <td>(S (SBAR (IN While) (S (NP (NNP Obama)) (VP (V...</td>\n",
       "    </tr>\n",
       "    <tr>\n",
       "      <th>2</th>\n",
       "      <td>282</td>\n",
       "      <td>And if Trumpism is not the future of the GOP, ...</td>\n",
       "      <td>(S (CC And) (SBAR (IN if) (S (NP (NNP Trumpism...</td>\n",
       "    </tr>\n",
       "    <tr>\n",
       "      <th>3</th>\n",
       "      <td>307</td>\n",
       "      <td>Either you stand with BDS, Hamas, blood libels...</td>\n",
       "      <td>(S (CC Either) (NP (PRP you)) (VP (VBP stand) ...</td>\n",
       "    </tr>\n",
       "    <tr>\n",
       "      <th>4</th>\n",
       "      <td>311</td>\n",
       "      <td>The Vatican presents a choice: the world, or C...</td>\n",
       "      <td>(S (NP (DT The) (NNP Vatican)) (VP (VBZ presen...</td>\n",
       "    </tr>\n",
       "    <tr>\n",
       "      <th>...</th>\n",
       "      <td>...</td>\n",
       "      <td>...</td>\n",
       "      <td>...</td>\n",
       "    </tr>\n",
       "    <tr>\n",
       "      <th>82</th>\n",
       "      <td>12626</td>\n",
       "      <td>It did what it is designed to do.</td>\n",
       "      <td>(S (NP (PRP It)) (VP (VBD did) (SBAR (WHNP (WP...</td>\n",
       "    </tr>\n",
       "    <tr>\n",
       "      <th>83</th>\n",
       "      <td>12751</td>\n",
       "      <td>To keep up everyone’s morale, the museum staff...</td>\n",
       "      <td>(S (S (VP (TO To) (VP (VB keep) (PRT (RP up)) ...</td>\n",
       "    </tr>\n",
       "    <tr>\n",
       "      <th>84</th>\n",
       "      <td>13007</td>\n",
       "      <td>In a series of tweets on Thursday, President T...</td>\n",
       "      <td>(S (PP (IN In) (NP (NP (DT a) (NN series)) (PP...</td>\n",
       "    </tr>\n",
       "    <tr>\n",
       "      <th>85</th>\n",
       "      <td>14506</td>\n",
       "      <td>When asked about the threats, Haig said, “I’ve...</td>\n",
       "      <td>(S (SBAR (WHADVP (WRB When)) (S (VP (VBN asked...</td>\n",
       "    </tr>\n",
       "    <tr>\n",
       "      <th>86</th>\n",
       "      <td>15233</td>\n",
       "      <td>At first, Campos, a guard at the Mandalay Bay ...</td>\n",
       "      <td>(S (PP (IN At) (ADVP (RB first))) (, ,) (NP (N...</td>\n",
       "    </tr>\n",
       "  </tbody>\n",
       "</table>\n",
       "<p>87 rows × 3 columns</p>\n",
       "</div>"
      ],
      "text/plain": [
       "       id                                               text  \\\n",
       "0     253  Either that or they can go whine to the New Yo...   \n",
       "1     263  While Obama pardoned drug dealers and locked u...   \n",
       "2     282  And if Trumpism is not the future of the GOP, ...   \n",
       "3     307  Either you stand with BDS, Hamas, blood libels...   \n",
       "4     311  The Vatican presents a choice: the world, or C...   \n",
       "..    ...                                                ...   \n",
       "82  12626                  It did what it is designed to do.   \n",
       "83  12751  To keep up everyone’s morale, the museum staff...   \n",
       "84  13007  In a series of tweets on Thursday, President T...   \n",
       "85  14506  When asked about the threats, Haig said, “I’ve...   \n",
       "86  15233  At first, Campos, a guard at the Mandalay Bay ...   \n",
       "\n",
       "                                            parseTree  \n",
       "0   (S (CC Either) (NP (DT that)) (CC or) (NP (PRP...  \n",
       "1   (S (SBAR (IN While) (S (NP (NNP Obama)) (VP (V...  \n",
       "2   (S (CC And) (SBAR (IN if) (S (NP (NNP Trumpism...  \n",
       "3   (S (CC Either) (NP (PRP you)) (VP (VBP stand) ...  \n",
       "4   (S (NP (DT The) (NNP Vatican)) (VP (VBZ presen...  \n",
       "..                                                ...  \n",
       "82  (S (NP (PRP It)) (VP (VBD did) (SBAR (WHNP (WP...  \n",
       "83  (S (S (VP (TO To) (VP (VB keep) (PRT (RP up)) ...  \n",
       "84  (S (PP (IN In) (NP (NP (DT a) (NN series)) (PP...  \n",
       "85  (S (SBAR (WHADVP (WRB When)) (S (VP (VBN asked...  \n",
       "86  (S (PP (IN At) (ADVP (RB first))) (, ,) (NP (N...  \n",
       "\n",
       "[87 rows x 3 columns]"
      ]
     },
     "execution_count": 26,
     "metadata": {},
     "output_type": "execute_result"
    }
   ],
   "source": [
    "parseTrees"
   ]
  },
  {
   "cell_type": "code",
   "execution_count": 39,
   "id": "ffdfa2b8-b312-473a-89c4-bf5ffbe70ca0",
   "metadata": {},
   "outputs": [],
   "source": [
    "single_words = [\"(RB \",\n",
    "\"(RBR \",\n",
    "\"(RBS \",\n",
    "\"(RP \",\n",
    "\"(JJ \",\n",
    "\"(JJR \",\n",
    "\"(JJS \",]\n",
    "prepositional = \"(PP \""
   ]
  },
  {
   "cell_type": "code",
   "execution_count": 47,
   "id": "87b8bc9e-5997-4a0b-9fee-614fc936372a",
   "metadata": {},
   "outputs": [],
   "source": [
    "def singleWords(s):\n",
    "    count = 0\n",
    "    for sw in single_words:\n",
    "        if sw in s:\n",
    "            count+=1\n",
    "    return count\n",
    "def prepos(s):\n",
    "    if prepositional in s:\n",
    "        return 1\n",
    "    else:\n",
    "        return 0"
   ]
  },
  {
   "cell_type": "code",
   "execution_count": 48,
   "id": "76e20027-2266-4ccc-905c-ba1eb5f9d2b5",
   "metadata": {},
   "outputs": [],
   "source": [
    "parseTrees['single_word'] = parseTrees['parseTree'].apply(singleWords)\n",
    "parseTrees['prepositional'] = parseTrees['parseTree'].apply(prepos)"
   ]
  },
  {
   "cell_type": "code",
   "execution_count": 50,
   "id": "608bcc65-84ad-4980-bab2-d9fd3f616bf1",
   "metadata": {},
   "outputs": [],
   "source": [
    "parseTrees['multiplying'] = parseTrees.apply(lambda r: r['single_word']+r['prepositional'] > 2, axis=1)"
   ]
  },
  {
   "cell_type": "code",
   "execution_count": 52,
   "id": "f04f9032-4840-4ebf-912e-318c99338a3a",
   "metadata": {},
   "outputs": [],
   "source": [
    "parseTrees['multiplying'] = parseTrees['multiplying'].apply(lambda x: int(x))"
   ]
  },
  {
   "cell_type": "code",
   "execution_count": 53,
   "id": "5e0d7e98-cc3a-49d0-9bdc-5c9d33f1fa59",
   "metadata": {},
   "outputs": [
    {
     "data": {
      "text/html": [
       "<div>\n",
       "<style scoped>\n",
       "    .dataframe tbody tr th:only-of-type {\n",
       "        vertical-align: middle;\n",
       "    }\n",
       "\n",
       "    .dataframe tbody tr th {\n",
       "        vertical-align: top;\n",
       "    }\n",
       "\n",
       "    .dataframe thead th {\n",
       "        text-align: right;\n",
       "    }\n",
       "</style>\n",
       "<table border=\"1\" class=\"dataframe\">\n",
       "  <thead>\n",
       "    <tr style=\"text-align: right;\">\n",
       "      <th></th>\n",
       "      <th>id</th>\n",
       "      <th>text</th>\n",
       "      <th>parseTree</th>\n",
       "      <th>single_word</th>\n",
       "      <th>prepositional</th>\n",
       "      <th>multiplying</th>\n",
       "    </tr>\n",
       "  </thead>\n",
       "  <tbody>\n",
       "    <tr>\n",
       "      <th>0</th>\n",
       "      <td>253</td>\n",
       "      <td>Either that or they can go whine to the New Yo...</td>\n",
       "      <td>(S (CC Either) (NP (DT that)) (CC or) (NP (PRP...</td>\n",
       "      <td>3</td>\n",
       "      <td>1</td>\n",
       "      <td>1</td>\n",
       "    </tr>\n",
       "    <tr>\n",
       "      <th>1</th>\n",
       "      <td>263</td>\n",
       "      <td>While Obama pardoned drug dealers and locked u...</td>\n",
       "      <td>(S (SBAR (IN While) (S (NP (NNP Obama)) (VP (V...</td>\n",
       "      <td>1</td>\n",
       "      <td>0</td>\n",
       "      <td>0</td>\n",
       "    </tr>\n",
       "    <tr>\n",
       "      <th>2</th>\n",
       "      <td>282</td>\n",
       "      <td>And if Trumpism is not the future of the GOP, ...</td>\n",
       "      <td>(S (CC And) (SBAR (IN if) (S (NP (NNP Trumpism...</td>\n",
       "      <td>2</td>\n",
       "      <td>1</td>\n",
       "      <td>1</td>\n",
       "    </tr>\n",
       "    <tr>\n",
       "      <th>3</th>\n",
       "      <td>307</td>\n",
       "      <td>Either you stand with BDS, Hamas, blood libels...</td>\n",
       "      <td>(S (CC Either) (NP (PRP you)) (VP (VBP stand) ...</td>\n",
       "      <td>0</td>\n",
       "      <td>1</td>\n",
       "      <td>0</td>\n",
       "    </tr>\n",
       "    <tr>\n",
       "      <th>4</th>\n",
       "      <td>311</td>\n",
       "      <td>The Vatican presents a choice: the world, or C...</td>\n",
       "      <td>(S (NP (DT The) (NNP Vatican)) (VP (VBZ presen...</td>\n",
       "      <td>0</td>\n",
       "      <td>0</td>\n",
       "      <td>0</td>\n",
       "    </tr>\n",
       "    <tr>\n",
       "      <th>...</th>\n",
       "      <td>...</td>\n",
       "      <td>...</td>\n",
       "      <td>...</td>\n",
       "      <td>...</td>\n",
       "      <td>...</td>\n",
       "      <td>...</td>\n",
       "    </tr>\n",
       "    <tr>\n",
       "      <th>82</th>\n",
       "      <td>12626</td>\n",
       "      <td>It did what it is designed to do.</td>\n",
       "      <td>(S (NP (PRP It)) (VP (VBD did) (SBAR (WHNP (WP...</td>\n",
       "      <td>0</td>\n",
       "      <td>0</td>\n",
       "      <td>0</td>\n",
       "    </tr>\n",
       "    <tr>\n",
       "      <th>83</th>\n",
       "      <td>12751</td>\n",
       "      <td>To keep up everyone’s morale, the museum staff...</td>\n",
       "      <td>(S (S (VP (TO To) (VP (VB keep) (PRT (RP up)) ...</td>\n",
       "      <td>2</td>\n",
       "      <td>0</td>\n",
       "      <td>0</td>\n",
       "    </tr>\n",
       "    <tr>\n",
       "      <th>84</th>\n",
       "      <td>13007</td>\n",
       "      <td>In a series of tweets on Thursday, President T...</td>\n",
       "      <td>(S (PP (IN In) (NP (NP (DT a) (NN series)) (PP...</td>\n",
       "      <td>1</td>\n",
       "      <td>1</td>\n",
       "      <td>0</td>\n",
       "    </tr>\n",
       "    <tr>\n",
       "      <th>85</th>\n",
       "      <td>14506</td>\n",
       "      <td>When asked about the threats, Haig said, “I’ve...</td>\n",
       "      <td>(S (SBAR (WHADVP (WRB When)) (S (VP (VBN asked...</td>\n",
       "      <td>1</td>\n",
       "      <td>1</td>\n",
       "      <td>0</td>\n",
       "    </tr>\n",
       "    <tr>\n",
       "      <th>86</th>\n",
       "      <td>15233</td>\n",
       "      <td>At first, Campos, a guard at the Mandalay Bay ...</td>\n",
       "      <td>(S (PP (IN At) (ADVP (RB first))) (, ,) (NP (N...</td>\n",
       "      <td>2</td>\n",
       "      <td>1</td>\n",
       "      <td>1</td>\n",
       "    </tr>\n",
       "  </tbody>\n",
       "</table>\n",
       "<p>87 rows × 6 columns</p>\n",
       "</div>"
      ],
      "text/plain": [
       "       id                                               text  \\\n",
       "0     253  Either that or they can go whine to the New Yo...   \n",
       "1     263  While Obama pardoned drug dealers and locked u...   \n",
       "2     282  And if Trumpism is not the future of the GOP, ...   \n",
       "3     307  Either you stand with BDS, Hamas, blood libels...   \n",
       "4     311  The Vatican presents a choice: the world, or C...   \n",
       "..    ...                                                ...   \n",
       "82  12626                  It did what it is designed to do.   \n",
       "83  12751  To keep up everyone’s morale, the museum staff...   \n",
       "84  13007  In a series of tweets on Thursday, President T...   \n",
       "85  14506  When asked about the threats, Haig said, “I’ve...   \n",
       "86  15233  At first, Campos, a guard at the Mandalay Bay ...   \n",
       "\n",
       "                                            parseTree  single_word  \\\n",
       "0   (S (CC Either) (NP (DT that)) (CC or) (NP (PRP...            3   \n",
       "1   (S (SBAR (IN While) (S (NP (NNP Obama)) (VP (V...            1   \n",
       "2   (S (CC And) (SBAR (IN if) (S (NP (NNP Trumpism...            2   \n",
       "3   (S (CC Either) (NP (PRP you)) (VP (VBP stand) ...            0   \n",
       "4   (S (NP (DT The) (NNP Vatican)) (VP (VBZ presen...            0   \n",
       "..                                                ...          ...   \n",
       "82  (S (NP (PRP It)) (VP (VBD did) (SBAR (WHNP (WP...            0   \n",
       "83  (S (S (VP (TO To) (VP (VB keep) (PRT (RP up)) ...            2   \n",
       "84  (S (PP (IN In) (NP (NP (DT a) (NN series)) (PP...            1   \n",
       "85  (S (SBAR (WHADVP (WRB When)) (S (VP (VBN asked...            1   \n",
       "86  (S (PP (IN At) (ADVP (RB first))) (, ,) (NP (N...            2   \n",
       "\n",
       "    prepositional  multiplying  \n",
       "0               1            1  \n",
       "1               0            0  \n",
       "2               1            1  \n",
       "3               1            0  \n",
       "4               0            0  \n",
       "..            ...          ...  \n",
       "82              0            0  \n",
       "83              0            0  \n",
       "84              1            0  \n",
       "85              1            0  \n",
       "86              1            1  \n",
       "\n",
       "[87 rows x 6 columns]"
      ]
     },
     "execution_count": 53,
     "metadata": {},
     "output_type": "execute_result"
    }
   ],
   "source": [
    "parseTrees"
   ]
  },
  {
   "cell_type": "code",
   "execution_count": null,
   "id": "dcaac176-0f0e-493e-b791-54c756064a7d",
   "metadata": {},
   "outputs": [],
   "source": []
  }
 ],
 "metadata": {
  "kernelspec": {
   "display_name": "Python 3 (ipykernel)",
   "language": "python",
   "name": "python3"
  },
  "language_info": {
   "codemirror_mode": {
    "name": "ipython",
    "version": 3
   },
   "file_extension": ".py",
   "mimetype": "text/x-python",
   "name": "python",
   "nbconvert_exporter": "python",
   "pygments_lexer": "ipython3",
   "version": "3.11.7"
  }
 },
 "nbformat": 4,
 "nbformat_minor": 5
}
